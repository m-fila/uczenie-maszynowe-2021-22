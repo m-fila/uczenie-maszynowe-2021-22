{
 "cells": [
  {
   "cell_type": "markdown",
   "metadata": {
    "colab_type": "text",
    "id": "view-in-github"
   },
   "source": [
    "<a href=\"https://colab.research.google.com/github/m-fila/uczenie-maszynowe-2021-22/blob/main/01_Powtórka_Python.ipynb\" target=\"_parent\"><img src=\"https://colab.research.google.com/assets/colab-badge.svg\" alt=\"Open In Colab\"/></a>"
   ]
  },
  {
   "cell_type": "markdown",
   "metadata": {},
   "source": [
    "# Wprowadzenie/powtórka z przydatnych bibliotek w Pythonie: `numpy`, `pandas`, `matplotlib`, `seaborn`, `plotly`\n",
    "Autorzy: Jarosław Żygierewicz, Artur Kalinowski"
   ]
  },
  {
   "cell_type": "markdown",
   "metadata": {
    "colab_type": "text",
    "id": "MonTGYfCIDu_"
   },
   "source": [
    "## Powtórka podstawowych rachunków wektorowych i macierzowych w Pythonie: `numpy`\n",
    "Do działań na wektorach i macierzach użyjemy modułu `numpy`. Zaimportujmy go:"
   ]
  },
  {
   "cell_type": "code",
   "execution_count": 2,
   "metadata": {
    "colab": {},
    "colab_type": "code",
    "id": "P2y_kbTMIDvD"
   },
   "outputs": [],
   "source": [
    "import numpy as np"
   ]
  },
  {
   "cell_type": "markdown",
   "metadata": {
    "colab_type": "text",
    "id": "9ETUL_EPIDvN"
   },
   "source": [
    "Natywnym typem zmiennych w `numpy` są tablice, czyli `array`.\n",
    "    \n",
    "Można je zadeklarować zarówno przez podanie listy własnych liczb, albo użyć metod generujących tablice z samymi zerami, jedynkami lub liczbami losowymi ze ustandardyzowanego rozkładu normalnego N(0,1).\n",
    "Użyj dokumentacji pakietu numpy by stworzyć następujące tablice i wektory:\n",
    "$$\n",
    "\\begin{array}{lcr}\n",
    "\\vec{v} = [0, 1,2,3,4,5,6,7,8,9] \\\\\n",
    "\\vec{v}_{0} = [0,0,...] \\\\\n",
    "\\vec{v}_{1} = [1,1,...] \\\\\n",
    "\\vec{v}_{rand} = [{\\rm losowa},{\\rm losowa}, ...]\n",
    "\\end{array}\n",
    "$$\n",
    "Wektory $\\vec{v}_{0}, \\vec{v}_{1}$ i $\\vec{v}_{rand}$ stwórz używając dedykowanych funkcji. Wymiar wektora zakoduj jako zmienną."
   ]
  },
  {
   "cell_type": "code",
   "execution_count": null,
   "metadata": {},
   "outputs": [],
   "source": [
    "v = ...\n",
    "\n",
    "vec_dim = ...\n",
    "\n",
    "v0 =  ...\n",
    "v1 = ...\n",
    "vrand = ...\n",
    "\n",
    "print(\"Vector of natural numbers: {}\".format(v))\n",
    "print(\"Vector of zeros: {}\".format(v0))\n",
    "print(\"Vector of ones: {}\".format(v1))\n",
    "print(\"Vector of randoms: {}\".format(vrand))"
   ]
  },
  {
   "cell_type": "markdown",
   "metadata": {
    "colab_type": "text",
    "id": "3aTrIrsIPzE-"
   },
   "source": [
    "Konkretny kształt (wymiarowość) możemy im nadać zarówno w momencie deklaracji, jak i po. Kształt jest przechowywany w polu `shape`, do zmiany kształtu służy metoda `reshape`. Liczbę elementów można sprawdzić metodą `size` lub funkcją `len`.\n",
    "\n",
    "<ol>\n",
    "<li>korzystając z pola \"shape\" wektora utworzonego poprzednio oraz dedykowanej funkcji pakietu numpy stwórz macierz $A$ - jednostkową macierz, (ang. identity matrix) o wymiarze NxN, gdzie N to długość wektora z poprzedniej komórki </li>    \n",
    "<li>wypisz na ekran kształt uzyskanej macierzy </li>\n",
    "<li>używając funkcji `reshape` spłaszcz (ang. flatten) macierz do jednowymiarowego wektora $\\vec{v}_{100}$ </li>\n",
    "<li>utwórz nowy wektor, $\\vec{v}_{10}$ wybierając pierwsze 10 elementów spłąszczonej macierzy  </li>\n",
    "<li>pomnóż nowy wektor przez macierz jednostkową: $\\vec{v}_{10a} = A \\times \\vec{v}_{10}$  </li>   \n",
    "</ol>\n",
    "\n",
    "**Uwagi:** \n",
    "<ul>\n",
    "<li>pole `shape` ma postać krotki (ang. `tuple`)</li>\n",
    "<li>w czasie zmiany kształtu można użyć niespecyfikowanego rozmiaru: `-1` jeśli wynikowy kształt jest jednoznaczny, np. przy redukcji 2D -> 1D    \n",
    "<li>domyślnie operator `*` w numpy oznacza mnożenie element po elemencie ewentualnie połaczoną z rozmnożeniem (ang. broadcasting) elementów jednego ze składników\n",
    "</ul>    "
   ]
  },
  {
   "cell_type": "code",
   "execution_count": null,
   "metadata": {},
   "outputs": [],
   "source": [
    "A = ...\n",
    "print(\"Macierz jednostkowa: \\n{} \\n wymiary macierzy: {}\".format(A, A.shape))\n",
    "v100 = ...\n",
    "print(\"Wektor jedynek i zer: {}\".format(v100)) \n",
    "v10 = ...\n",
    "print(\"Wektor jedynek i zer (pierwsze 10 elementów): \\n{}\".format(v10)) \n",
    "v10a = ...\n",
    "print(\"Wektor jedynek i zer pomnożony przez macierz jednostkową: \\n{}\".format(v10a)) "
   ]
  },
  {
   "cell_type": "markdown",
   "metadata": {
    "colab_type": "text",
    "id": "8usedF-_U2JD"
   },
   "source": [
    "Transpozycja macierzy w `numpy` jest fantastycznie prosta (jak wszystko w Pythonie): transponowana_tablica = tablica.T\n",
    "\n",
    "<ol>\n",
    "<li>utwórz jeszcze raz wektor $\\vec{v} = [0,1,2,3,4,5,6,7,8,9]$ tym razem korzystając z dedykowanej funkcji pakietu numpy - `arange`    \n",
    "<li>wypisz na ekran wektor i jego kształt uzyskany z transpozycji $\\vec{v}$ </li>\n",
    "<li>zmień kształt wektora $\\vec{v}$ na (1,-1) </li>\n",
    "<li>wypisz ponownie na ekran wektor i jego kształt</li>  \n",
    "<li>wypisz ponownie na ekran wektor i jego kształt uzyskany z transpozycji $\\vec{v}$ </li>   \n",
    "</ol>"
   ]
  },
  {
   "cell_type": "code",
   "execution_count": null,
   "metadata": {},
   "outputs": [],
   "source": [
    "v = ...\n",
    "print(\"Wektor oryginalny: {}\".format(v))\n",
    "print(\"Wektor transponowany: {} kształt: {}\".format(np.transpose(v), np.transpose(v).shape))\n",
    "v = ...\n",
    "print(\"Wektor oryginalny, przeformatowany do kształtu (1,-1): {}, kształt: {}\".format(v, v.shape))\n",
    "print(\"Wektor transponowany: {} kształt: {}\".format(np.transpose(v), np.transpose(v).shape))"
   ]
  },
  {
   "cell_type": "markdown",
   "metadata": {
    "colab_type": "text",
    "id": "K37yUvAPIDv1"
   },
   "source": [
    "Pomyśl jaki jest efekt następujących poleceń a następnie sprawdź swoje przewidywania uruchamiając je w komórkach poniżej:\n",
    "\n",
    "<ol>\n",
    "<li>\n",
    "<code>\n",
    "x = np.full_like(shape=(4), np.sqrt(2)).reshape(4,1)\n",
    "</code>    \n",
    "</li> \n",
    "<li> \n",
    "<code> \n",
    "print(np.dot(x.T,x))\n",
    "</code>    \n",
    "</li> \n",
    " <li> \n",
    "<code> \n",
    "print(np.dot(x,x.T))   \n",
    "</code>  \n",
    "</li>      \n",
    "<li> \n",
    "<code> \n",
    "B = np.dot(x,x.T)\n",
    "print(np.linalg.inv(B))   \n",
    "</code>  \n",
    "</li>\n",
    "<li> \n",
    "<code> \n",
    "B = np.dot(x,x.T)\n",
    "B += np.identity(B.shape[0])   \n",
    "print(np.linalg.inv(B))   \n",
    "</code>  \n",
    "</li>  \n",
    "</ol>    "
   ]
  },
  {
   "cell_type": "code",
   "execution_count": null,
   "metadata": {
    "colab": {
     "base_uri": "https://localhost:8080/",
     "height": 85
    },
    "colab_type": "code",
    "executionInfo": {
     "elapsed": 1495,
     "status": "ok",
     "timestamp": 1570726269844,
     "user": {
      "displayName": "Anna Dawid",
      "photoUrl": "https://lh3.googleusercontent.com/a-/AAuE7mBMAlqIzrWbyBbGSDvCFuCvvSN7Xx3h3HRKaToc0r4=s64",
      "userId": "02862484648310443813"
     },
     "user_tz": -120
    },
    "id": "uTZXoJDMIDv2",
    "outputId": "20c531f7-34f6-4a50-d6ab-10ba0cd3c22c"
   },
   "outputs": [],
   "source": [
    "x = np.full(shape=(4), fill_value = np.sqrt(2)).reshape(4,1)\n",
    "print(\"x = {}\".format(x))\n",
    "print(\"np.dot(x.T,x) = {}\".format(np.dot(x.T,x)))\n",
    "print(\"np.dot(x,x.T) = {}\".format(np.dot(x,x.T)))\n",
    "B = np.dot(x,x.T)\n",
    "#print(np.linalg.inv(B)) #macierz B jest osobliwa -> ma liniowo zależne wiersze/kolumny\n",
    "B += np.identity(B.shape[0])\n",
    "B\n",
    "print(np.linalg.inv(B))"
   ]
  },
  {
   "cell_type": "markdown",
   "metadata": {},
   "source": [
    "## Przechowywanie danych z użyciem pakietu pandas\n",
    "Do przechowywania i elementarnych operacjach na danych użyjemy modułu `pandas`. Zaimportujmy go, oraz pakiet obsługi rysunków `matplotlib.pyplot` "
   ]
  },
  {
   "cell_type": "code",
   "execution_count": 114,
   "metadata": {},
   "outputs": [],
   "source": [
    "import pandas as pd\n",
    "import matplotlib.pyplot as plt"
   ]
  },
  {
   "attachments": {
    "6dde2f07-23ef-4e87-9cbe-371a0f63484e.png": {
     "image/png": "[encoded data removed]"
    }
   },
   "cell_type": "markdown",
   "metadata": {},
   "source": [
    "#### Ładowanie danych\n",
    "\n",
    "Załadujmy jakieś ciekawe dane. Dane często są dostępne w postaci plików CSV - coma separated vector.\n",
    "Będziemy pracować na tych danych:\n",
    "https://dane.gov.pl/pl/dataset/2476/resource/33116,raport-o-liczbie-mieszkancow-zaszczepionych-pierwsza-dawka-oraz-w-peni-zaszczepionych-w-miastach-powiatach-i-gminach-w-dniu-2021-09-12?page=1&per_page=20&q=&sort="
   ]
  },
  {
   "cell_type": "markdown",
   "metadata": {},
   "source": [
    "Pobrać dane i załadować je do Colaba możecie na dwa sposoby:\n",
    "\n",
    "A. Pobierz lokalnie powyższy plik i załaduj w środowisku Colab do bieżącej sesji np. do katalogu \"dane\" (który trzeba wczesnej utworzyć):\n",
    "Menu z lewej -> ikona pliku -> ikona załadowania:\n",
    "\n",
    "![loading icon](https://i.ibb.co/nBY5wFw/icon.png)"
   ]
  },
  {
   "cell_type": "code",
   "execution_count": null,
   "metadata": {},
   "outputs": [],
   "source": [
    "df = pd.read_csv(\"dane/poziom_wyszczepienia_mieszkańców_gmin_w_dniu_20210912_wskaźniki.csv\", encoding='latin-1', sep=\";\")\n",
    "print(df)"
   ]
  },
  {
   "cell_type": "markdown",
   "metadata": {},
   "source": [
    "B. Możecie sklonować ćwiczeniowe repozytorium na GitHubie, by mieć dostęp do pobranych tam wcześniej danych w folderze \"danych\". Zawartość repozytorium będzie w folderze \"/content/uczenie-maszynowe-2021-22\"."
   ]
  },
  {
   "cell_type": "code",
   "execution_count": null,
   "metadata": {},
   "outputs": [],
   "source": [
    "!git clone https://github.com/Shmoo137/uczenie-maszynowe-2021-22"
   ]
  },
  {
   "cell_type": "code",
   "execution_count": null,
   "metadata": {},
   "outputs": [],
   "source": [
    "df = pd.read_csv(\"/content/uczenie-maszynowe-2021-22/dane/poziom_wyszczepienia_mieszkańców_gmin_w_dniu_20210912_wskaźniki.csv\", encoding='latin-1', sep=\";\")\n",
    "print(df)"
   ]
  },
  {
   "cell_type": "markdown",
   "metadata": {},
   "source": [
    "Wypiszmy nazwy kolumn, dodajemy kolumnę z procentem zaszczepionych (tak, ta kolumna już jest, ale robimy to w ramach ćwiczenia).\n",
    "\n",
    "potem wybieramy tylko te które są interesujące:\n",
    "* liczba ludności powiatu\n",
    "* liczba zaszczepionych jedną dawką\n",
    "* liczba zaszczepionych dwiema dawkami\n",
    "* ułamek w pełni zaszczepionych"
   ]
  },
  {
   "cell_type": "code",
   "execution_count": null,
   "metadata": {},
   "outputs": [],
   "source": [
    "print(\"Nazwy kolumn:\",df.columns)\n",
    "col1 = df[\"w1_zaszczepieni_pacjenci\"]\n",
    "col2 = df[\"liczba_ludnosci\"]\n",
    "df[\"ulamek_zaszczepionych\"] = col1/col2\n",
    "df_filtered = df[[\"liczba_ludnosci\",\"w1_zaszczepieni_pacjenci\", \"w3_zaszczepieni_pelna_dawka\",\"ulamek_zaszczepionych\"]]"
   ]
  },
  {
   "cell_type": "markdown",
   "metadata": {},
   "source": [
    "## Wykresy z użyciem `matplotlib`"
   ]
  },
  {
   "cell_type": "markdown",
   "metadata": {},
   "source": [
    "Narysujmy różne histogramy:\n",
    "* liczby ludności\n",
    "* liczby ludności z ograniczeniem do 100 000\n",
    "* histogramy w skali logarytmicznej"
   ]
  },
  {
   "cell_type": "code",
   "execution_count": null,
   "metadata": {},
   "outputs": [],
   "source": [
    "fig, axes = plt.subplots(2,2, figsize=(10,10))\n",
    "# (a) liczba ludności w skali liniowej\n",
    "# (b) liczba ludności z ograniczeniem do 100 000 w skali liniowej\n",
    "# (c) i (d) - to samo, ale w skali logarytmicznej.\n",
    "# Dla przykładu (a):\n",
    "df_filtered[\"liczba_ludnosci\"].plot.hist(bins=20, ax = axes[0,0])\n",
    "\n",
    "# Tak możecie nałożyć ograniczenie na dane:\n",
    "df_sub100k = df_filtered[df_filtered[\"liczba_ludnosci\"]<0.1E6]\n",
    "\n",
    "# (b)-(d) dla Was!\n",
    "\n",
    "label_setter = np.vectorize(lambda ax: [ax.set_xlabel('Liczba ludności'), \n",
    "                                   ax.set_ylabel('Ułamek zaszczepionych')])\n",
    "label_setter(axes)"
   ]
  },
  {
   "cell_type": "markdown",
   "metadata": {},
   "source": [
    "Narysujmy dwuwymiarowy rozkład ułamka zaszczepionych względem liczby ludności:"
   ]
  },
  {
   "cell_type": "code",
   "execution_count": null,
   "metadata": {},
   "outputs": [],
   "source": [
    "fig, axes = plt.subplots(2,2, figsize=(10,10))\n",
    "\n",
    "df_filtered.plot(x=\"liczba_ludnosci\", y=\"ulamek_zaszczepionych\", ax=axes[0,0], kind = \"scatter\")\n",
    "df_filtered.plot.hexbin(x=\"liczba_ludnosci\", y=\"ulamek_zaszczepionych\", ax=axes[0,1], gridsize = 30)\n",
    "\n",
    "df_sub100k.plot(x=\"liczba_ludnosci\", y=\"ulamek_zaszczepionych\", ax=axes[1,0], kind = \"scatter\")\n",
    "df_sub100k.plot.hexbin(x=\"liczba_ludnosci\", y=\"ulamek_zaszczepionych\", ax=axes[1,1], gridsize = 30)\n",
    "\n",
    "label_setter(axes)"
   ]
  },
  {
   "cell_type": "markdown",
   "metadata": {},
   "source": [
    "## Wykresy z użyciem `seaborn`"
   ]
  },
  {
   "cell_type": "markdown",
   "metadata": {},
   "source": [
    "Załadujmy dodatkowe moduły by uzyskać jeszcze ładniejsze rysunki."
   ]
  },
  {
   "cell_type": "code",
   "execution_count": null,
   "metadata": {},
   "outputs": [],
   "source": [
    "import seaborn as sns\n",
    "\n",
    "x = sns.jointplot(x=\"liczba_ludnosci\", y=\"ulamek_zaszczepionych\", data=df_sub100k, kind='hist')\n",
    "x.set_axis_labels('Liczba ludności', 'Ułamek zaszczepionych', fontsize=16)"
   ]
  },
  {
   "cell_type": "markdown",
   "metadata": {},
   "source": [
    "## Wykresy z użyciem `plotly`"
   ]
  },
  {
   "cell_type": "markdown",
   "metadata": {},
   "source": [
    "Na koniec uczyńmy rysunki interaktywnymi z użyciem biblioteki `plotly`:"
   ]
  },
  {
   "cell_type": "code",
   "execution_count": null,
   "metadata": {},
   "outputs": [],
   "source": [
    "import plotly.express as px\n",
    "\n",
    "\n",
    "fig = px.density_heatmap(df_sub100k, x=\"liczba_ludnosci\", y=\"ulamek_zaszczepionych\", marginal_x=\"histogram\", marginal_y=\"histogram\", labels={\n",
    "                     \"liczba_ludnosci\": \"Liczba ludności\",\n",
    "                     \"ulamek_zaszczepionych\": \"Ułamek zaszczepionych\"\n",
    "                 })\n",
    "fig.show()"
   ]
  },
  {
   "cell_type": "markdown",
   "metadata": {},
   "source": [
    "Dane są bardzo rozmyte. Narysujmy medianę liczby zaszczepionych grupując gminy co 1k w liczbie mieszkańców.\n",
    "Jak niepewność narysujmy odchylenie standardowe z próby, ale w wariancie obciążonym: 1/N zamiast 1/(N-1) - inaczej grupy gdzie jest tylko jedna gmina dadzą 1/0."
   ]
  },
  {
   "cell_type": "code",
   "execution_count": null,
   "metadata": {},
   "outputs": [],
   "source": [
    "fig, axes = plt.subplots(2,2, figsize=(10,10))\n",
    "\n",
    "df_group_1k = df_filtered.groupby((df_filtered[\"liczba_ludnosci\"]/1000).round(0)).median()\n",
    "error = df_filtered.groupby((df_filtered[\"liczba_ludnosci\"]/1000).round(0)).std(ddof=0)\n",
    "\n",
    "df_group_1k.plot(x=\"liczba_ludnosci\", y=\"ulamek_zaszczepionych\", ax=axes[0,0], kind = \"scatter\")\n",
    "df_group_1k.plot.hexbin(x=\"liczba_ludnosci\", y=\"ulamek_zaszczepionych\", ax=axes[0,1], gridsize = 30)\n",
    "\n",
    "df_group_1k = df_group_1k[df_group_1k[\"liczba_ludnosci\"]<60000]\n",
    "df_group_1k.plot(x=\"liczba_ludnosci\", y=\"ulamek_zaszczepionych\", yerr=error, ax=axes[1,0], kind = \"scatter\")\n",
    "df_group_1k.plot.hexbin(x=\"liczba_ludnosci\", y=\"ulamek_zaszczepionych\", ax=axes[1,1], gridsize = 30)\n",
    "\n",
    "label_setter(axes)"
   ]
  }
 ],
 "metadata": {
  "colab": {
   "collapsed_sections": [],
   "name": "01a_Powtórka_numpy.ipynb",
   "provenance": [
    {
     "file_id": "0BzwQ_Lscn8yDWnZVeHU1MjluWFU",
     "timestamp": 1546856440599
    }
   ]
  },
  "kernelspec": {
   "display_name": "Python 3",
   "language": "python",
   "name": "python3"
  },
  "language_info": {
   "codemirror_mode": {
    "name": "ipython",
    "version": 3
   },
   "file_extension": ".py",
   "mimetype": "text/x-python",
   "name": "python",
   "nbconvert_exporter": "python",
   "pygments_lexer": "ipython3",
   "version": "3.6.9"
  }
 },
 "nbformat": 4,
 "nbformat_minor": 4
}
