{
 "cells": [
  {
   "cell_type": "markdown",
   "metadata": {
    "colab_type": "text",
    "id": "view-in-github"
   },
   "source": [
    "<a href=\"https://colab.research.google.com/github/m-fila/uczenie-maszynowe-2021-22/blob/main/02_Regresja_liniowa.ipynb\" target=\"_parent\"><img src=\"https://colab.research.google.com/assets/colab-badge.svg\" alt=\"Open In Colab\"/></a>"
   ]
  },
  {
   "cell_type": "markdown",
   "metadata": {
    "colab_type": "text",
    "id": "0fVD-WRKhgE2"
   },
   "source": [
    "# Regresja liniowa\n",
    "Autor: Jarosław Żygierewicz, Artur Kalinowski, Mateusz Fila\n",
    "\n",
    "Importujemy ponownie powtórzone `numpy`, dodajemy moduł do tworzenia wykresów `pyplot`."
   ]
  },
  {
   "cell_type": "code",
   "execution_count": 8,
   "metadata": {
    "colab": {},
    "colab_type": "code",
    "id": "DB6NUjsLhTLd"
   },
   "outputs": [],
   "source": [
    "import numpy as np\n",
    "import pandas as pd\n",
    "import pylab as py\n",
    "import matplotlib.pyplot as plt"
   ]
  },
  {
   "cell_type": "markdown",
   "metadata": {
    "colab_type": "text",
    "id": "OE_3hFYtIDv-"
   },
   "source": [
    "# Zapoznanie z regresją liniową\n",
    "* W ramach tego ćwiczenia będziemy chcieli opisać zbiór danych modelem liniowym.\n",
    "* Zbiór danych stworzymy sami w sposób sztuczny, ale w typowych problemach zebranie i obróbka danych stanowi znaczącą część pracy.\n",
    "* Nasz liniowy model ma postać: $y = \\theta_0 + \\theta_1 x$\n",
    "* Dane wytworzymy dla konkretnych $\\theta_0$ i $\\theta_1$, a następnie zaimplementujemy regresję liniową, aby znaleźć jak najlepsze przybliżenie dla tych parametrów.\n",
    "* `(X,Y)` to ciąg uczący"
   ]
  },
  {
   "cell_type": "markdown",
   "metadata": {
    "colab_type": "text",
    "id": "8PHcEKITkFAc"
   },
   "source": [
    "## Produkcja danych"
   ]
  },
  {
   "cell_type": "markdown",
   "metadata": {
    "colab_type": "text",
    "id": "pnbVmOFqIDv_"
   },
   "source": [
    "Dane wytworzymy według liniowej zależności \n",
    "$$\n",
    "y = \\theta_0 + \\theta_1 \\cdot x\n",
    "$$\n",
    "Ustalamy parametry dla symulacji na $\\theta_0 = 5$ i $\\theta_1 = 3$. Dla wygody włóżmy oba parametry do wektora (np.array):\n",
    "$$\n",
    "\\vec{\\theta} = (\\theta_{0}, \\theta_{1})\n",
    "$$"
   ]
  },
  {
   "cell_type": "code",
   "execution_count": 4,
   "metadata": {},
   "outputs": [],
   "source": [
    "theta0 = 5\n",
    "theta1 = 3\n",
    "theta = np.array([theta0, theta1])"
   ]
  },
  {
   "cell_type": "markdown",
   "metadata": {},
   "source": [
    "Użyjemy **nPoints** równoodległych punktów $x$ i dla nich wygenerujemy punkty wg. założonego modelu. Dla wygody dane załadujemy do obiektu `DataFrame`. By to zrobić musimy zmienić wektor na kolumnowy o kształcie $(-1,1)$. Użyjemy do tego użyciu funkcji `reshape()` (ta zamiana także przyda się w dalszej części ćwiczeń)."
   ]
  },
  {
   "cell_type": "code",
   "execution_count": 5,
   "metadata": {},
   "outputs": [],
   "source": [
    "nPoints = 100\n",
    "x = np.linspace(0, 10, nPoints)\n",
    "x = np.reshape(x, (-1,1))\n",
    "\n",
    "df = pd.DataFrame(data=x, columns = [\"x\"])\n",
    "df[\"y\"] = theta[0] + df[\"x\"]*theta[1]"
   ]
  },
  {
   "cell_type": "markdown",
   "metadata": {
    "colab_type": "text",
    "id": "N3l9-73PIDwD"
   },
   "source": [
    "Do danych \"czystych\" dodajmy kolumnę z danymi z szumem Gaussowskim:\n",
    "$$ y_{noise} = y + Rand(N(0,1)) $$"
   ]
  },
  {
   "cell_type": "code",
   "execution_count": 6,
   "metadata": {},
   "outputs": [
    {
     "name": "stdout",
     "output_type": "stream",
     "text": [
      "           x          y    y_noise\n",
      "0    0.00000   5.000000   3.432689\n",
      "1    0.10101   5.303030   3.837029\n",
      "2    0.20202   5.606061   6.401906\n",
      "3    0.30303   5.909091   5.098037\n",
      "4    0.40404   6.212121   6.339567\n",
      "..       ...        ...        ...\n",
      "95   9.59596  33.787879  33.528903\n",
      "96   9.69697  34.090909  35.094582\n",
      "97   9.79798  34.393939  33.618642\n",
      "98   9.89899  34.696970  34.595930\n",
      "99  10.00000  35.000000  33.287762\n",
      "\n",
      "[100 rows x 3 columns]\n"
     ]
    }
   ],
   "source": [
    "df[\"y\"] = theta0 + df[\"x\"]*theta1\n",
    "df[\"y_noise\"] = df[\"y\"] + np.random.randn(nPoints)\n",
    "print(df)"
   ]
  },
  {
   "cell_type": "markdown",
   "metadata": {
    "colab_type": "text",
    "id": "yewJ96CHIDwL"
   },
   "source": [
    "Obejrzyjmy te dane. Proszę narysować:\n",
    "<ul>\n",
    "    <li> na jednym rysunku: y vs x oraz y_noise vs x </li>\n",
    "    <li> na drugim rysunku: histogram y - y_noise\n",
    "</ul>    "
   ]
  },
  {
   "cell_type": "code",
   "execution_count": 9,
   "metadata": {},
   "outputs": [
    {
     "data": {
      "image/png": "[encoded data removed]",
      "text/plain": [
       "<Figure size 720x360 with 2 Axes>"
      ]
     },
     "metadata": {
      "needs_background": "light"
     },
     "output_type": "display_data"
    }
   ],
   "source": [
    "fig, axes = plt.subplots(1,2, figsize=(10,5))\n",
    "\n",
    "#YOUR CODE HERE"
   ]
  },
  {
   "cell_type": "markdown",
   "metadata": {
    "colab_type": "text",
    "id": "c_r-QQtsIDwR"
   },
   "source": [
    "## Algorytm równań normalnych\n",
    "Proszę napisać funkcję ```normal_equations(x,y)``` która:\n",
    "* na wejściu przyjmuje ciąg uczący $x,y$, implementuje wzór na parametry optymalne na podstawie [równań normalnych](http://brain.fuw.edu.pl/edu/index.php/Uczenie_maszynowe_i_sztuczne_sieci_neuronowe/Wykład_1#Minimalizacja_funkcji_kosztu ). \n",
    "* funkcja powinna zwracać estymowane parametry $(\\theta_{0}^{est}, \\theta_{1}^{est})$\n",
    "* funkcja p[owinna być przetestowana na czystych danych, czli parze $(x,y)$, a potem na danych zaszumionych $(x ,y_{noise}$)\n",
    "* proszę dorysować prostą reprezentującą hipotezę do wykresu punktów ciągu uczącego.\n",
    "* dla przypomnienia: odwrotność macierzy można obliczyć w numpy funkcją: <tt>numpy.linalg.inv</tt>\n",
    "* proszę zwrócić uwagę, że konieczne jest użycie wektorów kolumnowych!\n",
    "\n",
    "**Wskazówka:** aby skorzystać ze wzorów z wykładu, macierz wejść $X$ musi zawierać nie tylko kolumnę $x$, ale także kolumnę jedynek, aby przemnożona przez wektor [$\\theta_0$ $\\theta_1$] dawała odpowiedni wektor (kolumnowy) wyjść $y$."
   ]
  },
  {
   "cell_type": "code",
   "execution_count": 12,
   "metadata": {},
   "outputs": [
    {
     "name": "stdout",
     "output_type": "stream",
     "text": [
      "prawdziwe wartości parametrów: [5 3]\n",
      "wartości estymowane za pomocą równań normalnych dla nominalnych danych: [5 3]\n"
     ]
    }
   ],
   "source": [
    "def normal_equations(x,y):\n",
    "    # YOUR CODE HERE\n",
    "    # theta = \n",
    "    return theta\n",
    "\n",
    "theta_est = normal_equations(df[\"x\"], df[\"y\"])\n",
    "\n",
    "print(\"prawdziwe wartości parametrów:\", theta.T)\n",
    "print(\"wartości estymowane za pomocą równań normalnych dla nominalnych danych:\", theta_est.T)"
   ]
  },
  {
   "cell_type": "markdown",
   "metadata": {},
   "source": [
    "Korzystając z oszacowanych parametrów prostej proszę narysować:\n",
    "* punkty dla danych zaszumionych\n",
    "* linię prostą dopasowaną do danych szasumionych\n",
    "* linię prostą dla nominalnych parametrów\n",
    "* linię prostą dopasowaną do losowego ułamka próbki, wybranego z użyciem funkcji pandas.DataFrame.sample()"
   ]
  },
  {
   "cell_type": "code",
   "execution_count": null,
   "metadata": {},
   "outputs": [],
   "source": [
    "theta_est = normal_equations(df[\"x\"], df[\"y_noise\"])\n",
    "print(\"Wartości estymowane za pomocą równań normalnych dla zaszumionych danych:\", theta_est.T)\n",
    "\n",
    "# YOUR CODE HERE\n",
    "# y_fit = \n",
    "# y_original = \n",
    "\n",
    "\n",
    "fig, axes = plt.subplots(1,2, figsize=(10,5))\n",
    "\n",
    "# YOUR CODE HERE\n",
    "# axes[0].plot(\n",
    "# axes[0].plot(\n",
    "# axes[0].plot(\n",
    "axes[0].set_xlabel(\"x\")\n",
    "axes[0].set_ylabel(\"y\")\n",
    "axes[0].legend()\n",
    "\n",
    "df_subsample = df.sample(frac=0.05)\n",
    "theta_est = normal_equations(df_subsample[\"x\"], df_subsample[\"y_noise\"])\n",
    "print(\"Wartości estymowane za pomocą równań normalnych dla zaszumionych danych: {} \\ndla podpróbki obejmującej 5% przypadków.\".format(theta_est.T))\n",
    "\n",
    "# YOUR CODE HERE\n",
    "# y_fit = \n",
    "# axes[1].plot(\n",
    "\n",
    "axes[1].set_xlabel(\"x\")\n",
    "axes[1].set_ylabel(\"y\")\n",
    "axes[1].legend()"
   ]
  },
  {
   "cell_type": "markdown",
   "metadata": {
    "colab_type": "text",
    "id": "3HA0EFYBIDwV"
   },
   "source": [
    "## Algorytm gradientowy stochastyczny \n",
    "\n",
    "Proszę napisać funkcję ```iterative_stochastic_gradient(x,y, theta, alpha, nIter)``` która:\n",
    "* na wejściu przyjmuje ciąg uczący w postaci obiektu pandas.DataFrame, wartości początkowe $(\\theta_{0}, \\theta_{1})$, parametr szybkości zbiegania $\\alpha$ oraz liczbę iteracji nIter\n",
    "* implementuje wzór na parametry optymalne na podstawie [równań normalnych](http://brain.fuw.edu.pl/edu/index.php/Uczenie_maszynowe_i_sztuczne_sieci_neuronowe/Wykład_1#Minimalizacja_funkcji_kosztu ). \n",
    "* funkcja powinna zwracać estymowane parametry $(\\theta_{0}^{est}, \\theta_{1}^{est})$ dla wszystkich iteracji, czyli zwracać tablicę o kształcie\n",
    " $(nIter+1, 2)$. Początkową wartość $(\\theta_{0}^{est}, \\theta_{1}^{est})$ także należy dołączyc, stąd nIter+1 elementów\n",
    "* funkcja powinna być przetestowana na czystych danych, czyli parze $(x,y)$ z poczatkową wartością $(\\theta_{0}, \\theta_{1})$$(\\theta_{0}, \\theta_{1})$ równą nominalnej, oraz różnej od nominalnej"
   ]
  },
  {
   "cell_type": "code",
   "execution_count": 14,
   "metadata": {},
   "outputs": [
    {
     "name": "stdout",
     "output_type": "stream",
     "text": [
      "Wartości estymowane z użyciem nominalnej wartości początkowej parametrów theta: 3\n",
      "Wartości estymowane z użyciem różnej od nominalnej wartości początkowej parametrów theta: 3\n",
      "CPU times: user 1.63 ms, sys: 181 µs, total: 1.81 ms\n",
      "Wall time: 1.2 ms\n"
     ]
    }
   ],
   "source": [
    "%%time\n",
    "\n",
    "def iterative_stochastic_gradient(x, y, init_theta, alpha, nIter):\n",
    "    \n",
    "    # YOUR CODE HERE\n",
    "    # theta_est = \n",
    "    return theta_est   \n",
    "        \n",
    "          \n",
    "theta_est = iterative_stochastic_gradient(df[\"x\"], df[\"y\"], theta, 0.01, 1)    \n",
    "print(\"Wartości estymowane z użyciem nominalnej wartości początkowej parametrów theta:\",theta_est[-1])\n",
    "\n",
    "theta_est = iterative_stochastic_gradient(df[\"x\"], df[\"y\"], theta+2, 0.01, 500)    \n",
    "print(\"Wartości estymowane z użyciem różnej od nominalnej wartości początkowej parametrów theta:\",theta_est[-1])"
   ]
  },
  {
   "cell_type": "markdown",
   "metadata": {},
   "source": [
    "Proszę narysować następujące rysunki:\n",
    "* dane, oraz krzywe regressji dla wszyskich iteracji na jednym rysunku\n",
    "* wartości parametrów $\\theta_{0}$ i $\\theta_{1}$ w funkcji numeru iteracji dla $\\alpha$ = 0.1, 0.05 oraz 0.01 oraz 10 iteracji\n",
    "* wartości parametrów $\\theta_{0}$ i $\\theta_{1}$ w funkcji numeru iteracji dla $\\alpha$ = 0.01 dla 100 iteracji\n",
    "\n",
    "W każdym przypadku jako wartości początkowe proszę przyjąć ($\\theta_{0}$, $\\theta_{1}$) + 1"
   ]
  },
  {
   "cell_type": "code",
   "execution_count": null,
   "metadata": {},
   "outputs": [],
   "source": [
    "fig, axes = plt.subplots(1,4, figsize=(20,5))\n",
    "\n",
    "# YOUR CODE HERE\n",
    "# theta_est = \n",
    "# x = \n",
    "# y_fit = \n",
    "\n",
    "# YOUR CODE HERE\n",
    "# axes[0].plot(\n",
    "# axes[0].plot(\n",
    "# axes[0].plot(\n",
    "# axes[0].plot(\n",
    "axes[0].set_xlabel(\"x\")\n",
    "axes[0].set_ylabel(\"y\")\n",
    "axes[0].legend()\n",
    "\n",
    "# YOUR CODE HERE\n",
    "# theta_alpha_01 = \n",
    "# theta_alpha_005 = \n",
    "# theta_alpha_001 = \n",
    "# theta_alpha = \n",
    "\n",
    "# YOUR CODE HERE\n",
    "# axes[1].plot(\n",
    "# axes[1].plot(\n",
    "# axes[1].plot(\n",
    "axes[1].set_xlabel(\"Iteration number\")\n",
    "axes[1].set_ylabel(r'$\\theta_{0}$')\n",
    "axes[1].legend()\n",
    "\n",
    "# YOUR CODE HERE\n",
    "# axes[2].plot(\n",
    "# axes[2].plot(\n",
    "# axes[2].plot(\n",
    "axes[2].set_xlabel(\"Iteration number\")\n",
    "axes[2].set_ylabel(r'$\\theta_{1}$')\n",
    "axes[2].legend()\n",
    "\n",
    "# YOUR CODE HERE\n",
    "# axes[3].plot(\n",
    "# axes[3].plot(\n",
    "# axes[3].plot(\n",
    "# axes[3].plot(\n",
    "axes[3].set_xlabel(\"Iteration number\")\n",
    "axes[3].set_ylabel(r'$\\theta_{i}$')\n",
    "axes[3].legend()\n",
    "\n",
    "print(\"Finalna wartość parametrów dla alpha=0.1, nIter = 10: \\t\\t\",theta_alpha_01[-1])\n",
    "print(\"Finalna wartość parametrów dla alpha=0.05, nIter = 10: \\t\\t\",theta_alpha_005[-1])\n",
    "print(\"Finalna wartość parametrów dla alpha=0.001, nIter = 10: \\t\",theta_alpha_001[-1])\n",
    "print(\"Finalna wartość parametrów dla alpha=0.001, nIter = 100: \\t\",theta_alpha[-1])\n",
    "print(\"Oryginalna wartośc parametrów: \\t\\t\\t\\t\",theta)\n",
    "\n",
    "plt.subplots_adjust(bottom=0.15, left=0.05, right=0.95, wspace=0.3)"
   ]
  },
  {
   "cell_type": "markdown",
   "metadata": {},
   "source": [
    "## Algorytm gradientowy zbiorczy\n",
    "\n",
    "Proszę napisać funkcję ```iterative_batch_gradient(x,y, theta, alpha, nIter)``` która:\n",
    "* na wejściu przyjmuje ciąg uczący w postaci obiektu pandas.DataFrame, wartości początkowe $(\\theta_{0}, \\theta_{1})$, parametr szybkości zbiegania $\\alpha$ oraz liczbę iteracji nIter\n",
    "* implementuje wzór na parametry optymalne na podstawie [równań normalnych](http://brain.fuw.edu.pl/edu/index.php/Uczenie_maszynowe_i_sztuczne_sieci_neuronowe/Wykład_1#Minimalizacja_funkcji_kosztu ). \n",
    "* funkcja powinna zwracać estymowane parametry $(\\theta_{0}^{est}, \\theta_{1}^{est})$ dla wszystkich iteracji, czyli zwracać tablicę o kształcie\n",
    " $(nIter+1, 2)$. Początkową wartość $(\\theta_{0}^{est}, \\theta_{1}^{est})$ także należy dołączyc, stąd nIter+1 elementów\n",
    "* funkcja powinna być przetestowana na czystych danych, czyli parze $(x,y)$ z poczatkową wartością $(\\theta_{0}, \\theta_{1})$ równą nominalnej, oraz różnej od nominalnej"
   ]
  },
  {
   "cell_type": "code",
   "execution_count": 10,
   "metadata": {},
   "outputs": [
    {
     "name": "stdout",
     "output_type": "stream",
     "text": [
      "Wartości estymowane z użyciem nominalnej wartości początkowej parametrów theta: [5. 3.]\n",
      "Wartości estymowane z użyciem różnej od nominalnej wartości początkowej parametrów theta: [5.88       3.22996633]\n",
      "CPU times: user 23.5 ms, sys: 3.61 ms, total: 27.2 ms\n",
      "Wall time: 26.3 ms\n"
     ]
    }
   ],
   "source": [
    "%%time\n",
    "\n",
    "def iterative_batch_gradient(x, y, init_theta, alpha, nIter):\n",
    "    \n",
    "    # YOUR CODE HERE\n",
    "    # theta_est = \n",
    "    return theta_est   \n",
    "        \n",
    "theta_est = iterative_batch_gradient(df[\"x\"], df[\"y\"], init_theta=theta, alpha=0.01, nIter=1)    \n",
    "print(\"Wartości estymowane z użyciem nominalnej wartości początkowej parametrów theta:\",theta_est[-1])\n",
    "\n",
    "theta_est = iterative_batch_gradient(df[\"x\"], df[\"y\"], init_theta=theta+1, alpha=0.01, nIter=1)    \n",
    "print(\"Wartości estymowane z użyciem różnej od nominalnej wartości początkowej parametrów theta:\",theta_est[-1])"
   ]
  },
  {
   "cell_type": "markdown",
   "metadata": {},
   "source": [
    "Proszę narysować następujące rysunki:\n",
    "* dane, oraz krzywe regressji dla wszyskich iteracji na jednym rysunku\n",
    "* wartości parametrów $\\theta_{0}$ i $\\theta_{1}$ w funkcji numeru iteracji dla $\\alpha$ = 0.1, 0.05 oraz 0.01 oraz 10 iteracji\n",
    "* wartości parametrów $\\theta_{0}$ i $\\theta_{1}$ w funkcji numeru iteracji dla $\\alpha$ = 0.01 dla 100 iteracji\n",
    "\n",
    "W każdym przypadku jako wartości początkowe proszę przyjąć ($\\theta_{0}$, $\\theta_{1}$) + 1"
   ]
  },
  {
   "cell_type": "code",
   "execution_count": null,
   "metadata": {},
   "outputs": [],
   "source": [
    "fig, axes = plt.subplots(1,4, figsize=(20,5))\n",
    "\n",
    "# YOUR CODE HERE\n",
    "# theta_est = \n",
    "# x = \n",
    "# y_fit = \n",
    "\n",
    "# YOUR CODE HERE\n",
    "# axes[0].plot(\n",
    "# axes[0].plot(\n",
    "# axes[0].plot(\n",
    "# axes[0].plot(\n",
    "axes[0].set_xlabel(\"x\")\n",
    "axes[0].set_ylabel(\"y\")\n",
    "axes[0].legend()\n",
    "\n",
    "# YOUR CODE HERE\n",
    "# theta_alpha_01 = \n",
    "# theta_alpha_005 = \n",
    "# theta_alpha_001 = \n",
    "# theta_alpha = \n",
    "\n",
    "# YOUR CODE HERE\n",
    "# axes[1].plot(\n",
    "# axes[1].plot(\n",
    "# axes[1].plot(\n",
    "axes[1].set_xlabel(\"Iteration number\")\n",
    "axes[1].set_ylabel(r'$\\theta_{0}$')\n",
    "axes[1].legend()\n",
    "\n",
    "# YOUR CODE HERE\n",
    "# axes[2].plot(\n",
    "# axes[2].plot(\n",
    "# axes[2].plot(\n",
    "axes[2].set_xlabel(\"Iteration number\")\n",
    "axes[2].set_ylabel(r'$\\theta_{1}$')\n",
    "axes[2].legend()\n",
    "\n",
    "# YOUR CODE HERE\n",
    "# axes[3].plot(\n",
    "# axes[3].plot(\n",
    "# axes[3].plot(\n",
    "# axes[3].plot(\n",
    "axes[3].set_xlabel(\"Iteration number\")\n",
    "axes[3].set_ylabel(r'$\\theta_{i}$')\n",
    "axes[3].legend()\n",
    "\n",
    "print(\"Finalna wartość parametrów dla alpha=0.1, nIter = 10: \\t\\t\",theta_alpha_01[-1])\n",
    "print(\"Finalna wartość parametrów dla alpha=0.05, nIter = 10: \\t\\t\",theta_alpha_005[-1])\n",
    "print(\"Finalna wartość parametrów dla alpha=0.001, nIter = 10: \\t\",theta_alpha_001[-1])\n",
    "print(\"Finalna wartość parametrów dla alpha=0.001, nIter = 100: \\t\",theta_alpha[-1])\n",
    "print(\"Oryginalna wartośc parametrów: \\t\\t\\t\\t\",theta)\n",
    "\n",
    "plt.subplots_adjust(bottom=0.15, left=0.05, right=0.95, wspace=0.3)"
   ]
  },
  {
   "cell_type": "markdown",
   "metadata": {
    "colab_type": "text",
    "id": "xKgTHdG9IDwe"
   },
   "source": [
    "## Porównanie algorytmów\n",
    "Proszę sprawdzić czy algorytmy optymalizacyjne działają poprawnie dla danych gdzie błąd podlega innym rozkładom prawdopodobieństwa niż normalny:\n",
    "\n",
    "* dla rozkładu jednorodnego w zakrtesie [-1,1[\n",
    "* dla rozkłatu t-Studenta o trzech stopniach swobody\n",
    "\n",
    "Dla wszystkch trzech rozkładów proszę narysować wartości parametrów $\\theta_{0}$ i $\\theta_{1}$ w funkcji numeru iteracji dla $\\alpha$ = 0.01 i 100 iteracji."
   ]
  },
  {
   "cell_type": "code",
   "execution_count": 30,
   "metadata": {},
   "outputs": [
    {
     "name": "stdout",
     "output_type": "stream",
     "text": [
      "           x          y    y_noise  y_flat_noise  y_tStudent_noise\n",
      "0    0.00000   5.000000   5.816979      4.723023          6.126249\n",
      "1    0.10101   5.303030   5.340698      4.643993         -2.343500\n",
      "2    0.20202   5.606061   6.462301      4.805613          5.012846\n",
      "3    0.30303   5.909091   5.322659      6.155243          5.692222\n",
      "4    0.40404   6.212121   5.301430      6.513775          7.180299\n",
      "..       ...        ...        ...           ...               ...\n",
      "95   9.59596  33.787879  32.705299     33.530013         34.683707\n",
      "96   9.69697  34.090909  33.273414     33.767999         31.609354\n",
      "97   9.79798  34.393939  35.062783     33.432946         33.858484\n",
      "98   9.89899  34.696970  33.137135     33.834136         34.457895\n",
      "99  10.00000  35.000000  33.187367     34.899603         35.549503\n",
      "\n",
      "[100 rows x 5 columns]\n"
     ]
    }
   ],
   "source": [
    "df[\"y_flat_noise\"] = df[\"y\"] + -1 + 2*np.random.random(nPoints)\n",
    "df[\"y_tStudent_noise\"] = df[\"y\"] + np.random.standard_t(df=3, size=nPoints)\n",
    "print(df)"
   ]
  },
  {
   "cell_type": "code",
   "execution_count": 39,
   "metadata": {},
   "outputs": [
    {
     "data": {
      "image/png": "[encoded data removed]",
      "text/plain": [
       "<Figure size 720x360 with 3 Axes>"
      ]
     },
     "metadata": {
      "needs_background": "light"
     },
     "output_type": "display_data"
    }
   ],
   "source": [
    "fig, axes = plt.subplots(1,3, figsize=(10,5))\n",
    "\n",
    "axes[0].hist(df[\"y\"] - df[\"y_noise\"])\n",
    "axes[1].hist(df[\"y\"] - df[\"y_flat_noise\"])\n",
    "axes[2].hist(df[\"y\"] - df[\"y_tStudent_noise\"])\n",
    "\n",
    "axes[0].set_title(\"Gaussian noise\")\n",
    "axes[0].set_xlabel(r'$y - \\hat{y}$')\n",
    "axes[0].set_ylabel(\"Number of events\")\n",
    "\n",
    "axes[1].set_title(\"Flat [-1,1] noise\")\n",
    "axes[1].set_xlabel(r'$y - \\hat{y}$')\n",
    "axes[1].set_ylabel(\"Number of events\")\n",
    "\n",
    "axes[2].set_title(\"t-Student, ndof=3 noise\")\n",
    "axes[2].set_xlabel(r'$y - \\hat{y}$')\n",
    "axes[2].set_ylabel(\"Number of events\")\n",
    "\n",
    "plt.subplots_adjust(bottom=0.15, left=0.05, right=0.95, wspace=0.3)"
   ]
  },
  {
   "cell_type": "code",
   "execution_count": null,
   "metadata": {},
   "outputs": [],
   "source": [
    "%%time\n",
    "\n",
    "fig, axes = plt.subplots(1,2, figsize=(10,5))\n",
    "\n",
    "nIter = 1000\n",
    "\n",
    "# YOUR CODE HERE \n",
    "# theta_gaussian_noise\n",
    "# theta_flat_noise\n",
    "# theta_tStudent_noise\n",
    "\n",
    "# YOUR CODE HERE \n",
    "# axes[0].plot(\n",
    "# axes[0].plot(\n",
    "# # axes[0].plot(   \n",
    "axes[0].plot(np.full(nIter,theta[0]),  \"--b\",linewidth=3.0)\n",
    "axes[0].set_xlabel(\"Iteration number\")\n",
    "axes[0].set_ylabel(r'$\\theta_{0}$')\n",
    "axes[0].legend()\n",
    "\n",
    "# YOUR CODE HERE \n",
    "# axes[1].plot(\n",
    "# axes[1].plot(\n",
    "# # axes[1].plot(   axes[1].plot(np.full(nIter,theta[1]), \"--b\",  linewidth=3.0)\n",
    "axes[1].set_xlabel(\"Iteration number\")\n",
    "axes[1].set_ylabel(r'$\\theta_{1}$')\n",
    "axes[1].legend()\n",
    "\n",
    "print(\"Finalna wartość parametrów dla szumu gaussowskiego, nIter = 100: \\t\",theta_gaussian_noise[-1])\n",
    "print(\"Finalna wartość parametrów dla szumu płaskiego, nIter = 100: \\t\\t\",theta_flat_noise[-1])\n",
    "print(\"Finalna wartość parametrów dla szumu tStudenta, nIter = 100: \\t\\t\",theta_tStudent_noise[-1])\n",
    "print(\"Oryginalna wartośc parametrów: \\t\\t\\t\\t\\t\",theta)\n",
    "\n",
    "plt.subplots_adjust(bottom=0.15, left=0.05, right=0.95, wspace=0.3)"
   ]
  }
 ],
 "metadata": {
  "colab": {
   "collapsed_sections": [],
   "name": "01b_Regresja_liniowa.ipynb",
   "provenance": [
    {
     "file_id": "0BzwQ_Lscn8yDWnZVeHU1MjluWFU",
     "timestamp": 1546856440599
    }
   ]
  },
  "interpreter": {
   "hash": "e7370f93d1d0cde622a1f8e1c04877d8463912d04d973331ad4851f04de6915a"
  },
  "kernelspec": {
   "display_name": "Python 3.9.7 64-bit",
   "name": "python3"
  },
  "language_info": {
   "codemirror_mode": {
    "name": "ipython",
    "version": 3
   },
   "file_extension": ".py",
   "mimetype": "text/x-python",
   "name": "python",
   "nbconvert_exporter": "python",
   "pygments_lexer": "ipython3",
   "version": "3.9.7"
  }
 },
 "nbformat": 4,
 "nbformat_minor": 4
}
