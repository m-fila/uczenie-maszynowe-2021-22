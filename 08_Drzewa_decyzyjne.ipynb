{
 "cells": [
 {
   "cell_type": "markdown",
   "metadata": {
    "colab_type": "text",
    "id": "view-in-github"
   },
   "source": [
    "<a href=\"https://colab.research.google.com/github/m-fila/uczenie-maszynowe-2021-22/blob/main/08_Drzewa_decyzyjne.ipynb\" target=\"_parent\"><img src=\"https://colab.research.google.com/assets/colab-badge.svg\" alt=\"Open In Colab\"/></a>"
   ]
  },
  {
   "cell_type": "markdown",
   "metadata": {
    "id": "VKaCANeH3saF"
   },
   "source": [
    "# Drzewa decyzyjne"
   ]
  },
  {
   "cell_type": "markdown",
   "metadata": {
    "id": "n8pRCstYDm1H"
   },
   "source": [
    "Na tych zajęciach zapoznamy się z drzewami decyzyjnymi oraz kolejnymi zbiorami danych."
   ]
  },
  {
   "cell_type": "code",
   "execution_count": null,
   "metadata": {
    "id": "zAqutZU73uDd"
   },
   "outputs": [],
   "source": [
    "import pandas as pd\n",
    "import seaborn as sns\n",
    "import numpy as np\n",
    "import matplotlib.pyplot as plt\n",
    "\n",
    "from sklearn.datasets import make_blobs, load_breast_cancer\n",
    "from sklearn.tree import DecisionTreeClassifier\n",
    "from sklearn.metrics import classification_report, confusion_matrix\n",
    "from sklearn.model_selection import train_test_split"
   ]
  },
  {
   "cell_type": "code",
   "execution_count": null,
   "metadata": {
    "id": "KuASOvuxZ06P"
   },
   "outputs": [],
   "source": [
    "def printScores(model, X, y):\n",
    "    print(\"Classification report:\")\n",
    "    print(classification_report(y, model.predict(X)))\n",
    "    print(\"Confusion matrix:\")\n",
    "    print(confusion_matrix(y, model.predict(X)))"
   ]
  },
  {
   "cell_type": "code",
   "execution_count": null,
   "metadata": {
    "id": "AVmEtLDLZ0II"
   },
   "outputs": [],
   "source": [
    "def plot_decision(X, y, model):\n",
    "  h=0.02\n",
    "  x_min, x_max = X[:, 0].min() - 1, X[:, 0].max() + 1\n",
    "  y_min, y_max = X[:, 1].min() - 1, X[:, 1].max() + 1\n",
    "  xx, yy = np.meshgrid(np.arange(x_min, x_max, h),\n",
    "                     np.arange(y_min, y_max, h))\n",
    "  Z = model.predict(np.c_[xx.ravel(), yy.ravel()])\n",
    "  Z = Z.reshape(xx.shape)\n",
    "  graph=sns.jointplot(x=X[:, 0], y=X[:, 1], hue=y)\n",
    "  graph.ax_joint.contour(xx, yy, Z, cmap=plt.cm.RdYlBu, alpha=0.8)"
   ]
  },
  {
   "cell_type": "markdown",
   "metadata": {
    "id": "HEs5nmwAdJwC"
   },
   "source": [
    "## Własności drzew"
   ]
  },
  {
   "cell_type": "markdown",
   "metadata": {
    "id": "ZR2vUvXRD90Q"
   },
   "source": [
    "W pierwszej kolejności wygenerujemy zbiór danych w postaci dwóch blobów (każda klasa ma wielowymiarowy rozkład gaussowski).\n",
    "\n",
    "Proszę: \n",
    "- korzystając z `sklearn.make_blobs` wygenerować zbiór danych o `1000` elementach należacych do dwóch równolicznych klasach o rozkładach o wartościach oczekiwanych `(-1,-1)` i `(1,1)` oraz odchyleniu standardowym `0.4`,\n",
    "- przepisać zbiór danych do `pandas.DataFrame` nazywając kolumny odpowienio `x1`, `x2`, `label`,\n",
    "- narysować uzyskany zbiór danych."
   ]
  },
  {
   "cell_type": "code",
   "execution_count": null,
   "metadata": {
    "colab": {
     "base_uri": "https://localhost:8080/",
     "height": 458
    },
    "deletable": false,
    "id": "8g1tvi6X38gg",
    "nbgrader": {
     "cell_type": "code",
     "checksum": "f56cad8739b5ff3a51f6afd77dfe63cc",
     "grade": false,
     "grade_id": "E807AC1E011C4831",
     "locked": false,
     "schema_version": 3,
     "solution": true,
     "task": false
    },
    "outputId": "ff7e2711-ff08-4ac0-f264-87dee098161a"
   },
   "outputs": [],
   "source": [
    "# X, y = make_blobs(n_samples=... , n_features = ... , centers = ... , cluster_std = ... )\n",
    "# df = ...\n",
    "# df['label'] = ...\n",
    "# sns.jointplot(...)\n",
    "### YOUR CODE HERE"
   ]
  },
  {
   "cell_type": "markdown",
   "metadata": {
    "id": "UUSUnZQBE9ru"
   },
   "source": [
    "Na tak przygotowanych danych wyuczmy klasyfikator drzewa decyzyjnego.\n",
    "\n",
    "Proszę:\n",
    "- utworzyć model drzewa decyzyjnego `sklearn.tree.DecisionTreeClassifier`,\n",
    "- wyuczyć model na przygotowanych wcześniej danych,\n",
    "- wypisać miary jakości na zbiorze treningowym,\n",
    "- korzystając ze zdefiniowanej wcześniej funkcji `plot decision`, na jednym rysunku narysować zbiór treningowy i granicę decyzyjną,\n",
    "- zastanowić się jaki kształt ma granica decyzyjna."
   ]
  },
  {
   "cell_type": "code",
   "execution_count": null,
   "metadata": {
    "colab": {
     "base_uri": "https://localhost:8080/",
     "height": 667
    },
    "deletable": false,
    "id": "w0JKj3A37LCJ",
    "nbgrader": {
     "cell_type": "code",
     "checksum": "20342bd14e4885eea77cbff10d160bd3",
     "grade": false,
     "grade_id": "1B198DD2810C4CF8",
     "locked": false,
     "schema_version": 3,
     "solution": true,
     "task": false
    },
    "outputId": "f0eb189f-f43f-489d-aa72-808f04ee8287"
   },
   "outputs": [],
   "source": [
    "# model = ...\n",
    "# X, y = ...\n",
    "# model.fit(...)\n",
    "# printScores(...)\n",
    "# plot_decision(...)\n",
    "### YOUR CODE HERE"
   ]
  },
  {
   "cell_type": "markdown",
   "metadata": {
    "id": "JCKw3GK_FH6V"
   },
   "source": [
    "Na rysunku powinniśmy zaobserwować, że linia decyzyjna składa się jedynie z poziomych i pionowych odcinków. To jest właściwość drzew decyzyjnych, która wynika z tego, że w każdej gałęzi drzewa testowana jest tylko jedna cecha."
   ]
  },
  {
   "cell_type": "markdown",
   "metadata": {
    "id": "JKBXUzkQXGEZ"
   },
   "source": [
    "Drzewa decyzjne zaliczają się do algorytmów *white box*, tzn. w łatwy sposób możemy wizualizować i interpretować sam model.\n",
    "\n",
    "Proszę:\n",
    "- korzystając ze zdefiniowanej poniżej funkcji `plot_tree` narysować drzewo decyzyjne,\n",
    "- wskazać, które elementy drzewa są gałęziami, a które liśćmi,\n",
    "- sprawdzić, czym są parametry `gini`, `samples`, `value`."
   ]
  },
  {
   "cell_type": "code",
   "execution_count": null,
   "metadata": {
    "id": "6uiO3_SoIJcW"
   },
   "outputs": [],
   "source": [
    "import io\n",
    "from IPython.display import Image\n",
    "from sklearn.tree import  export_graphviz\n",
    "import pydotplus"
   ]
  },
  {
   "cell_type": "code",
   "execution_count": null,
   "metadata": {
    "id": "gP99GMyqIZlE"
   },
   "outputs": [],
   "source": [
    "def plot_tree(model, feature_names, class_names):\n",
    "  dot_data = io.StringIO()\n",
    "  export_graphviz(model, out_file=dot_data,\n",
    "                    filled=True, rounded=True,\n",
    "                    rotate=False,\n",
    "                    node_ids = True,\n",
    "                    special_characters=True,\n",
    "                    leaves_parallel=False,\n",
    "                    feature_names = feature_names,\n",
    "                    class_names=class_names\n",
    "                   )\n",
    "  graph = pydotplus.graph_from_dot_data(dot_data.getvalue())\n",
    "  return Image(graph.create_png())\n",
    "  "
   ]
  },
  {
   "cell_type": "code",
   "execution_count": null,
   "metadata": {
    "colab": {
     "base_uri": "https://localhost:8080/",
     "height": 496
    },
    "deletable": false,
    "id": "yk2W4gnyJFLE",
    "nbgrader": {
     "cell_type": "code",
     "checksum": "7fdd81be6c31ca66d810ccbae8e7deaa",
     "grade": false,
     "grade_id": "D29F04F6CCED4440",
     "locked": false,
     "schema_version": 3,
     "solution": true,
     "task": false
    },
    "outputId": "1c4cf703-78db-426a-abe7-529a3d637cbe"
   },
   "outputs": [],
   "source": [
    "class_names=['0','1']\n",
    "\n",
    "### plot_tree(...)\n",
    "### YOUR CODE HERE"
   ]
  },
  {
   "cell_type": "markdown",
   "metadata": {
    "id": "-n4eqsWZGFlg"
   },
   "source": [
    "### Feature engineering\n",
    "Po raz kolejny wykorzystamy *feature engineering*, żeby uprościć problem.\n",
    "\n",
    "Dodamy dwie nowe cechy będące wynikiem obrócenia cech `x1`, `x2` o $45^{\\circ}$:\n",
    "- `x3`= (`x1`+`x2`)/2\n",
    "- `x4`= (`x1`-`x2`)/2\n",
    "\n",
    "Proszę:\n",
    "- dodać cechy `x3` i `x4` do zbioru danych,\n",
    "- narysować rozkład cech `x3` i `x4`."
   ]
  },
  {
   "cell_type": "code",
   "execution_count": null,
   "metadata": {
    "colab": {
     "base_uri": "https://localhost:8080/",
     "height": 458
    },
    "deletable": false,
    "id": "P-2YbbJfHtak",
    "nbgrader": {
     "cell_type": "code",
     "checksum": "2e75af3e5156b578512d55be21ac6f69",
     "grade": false,
     "grade_id": "B4E2D464C9BB47B6",
     "locked": false,
     "schema_version": 3,
     "solution": true,
     "task": false
    },
    "outputId": "70a3725f-3ce7-4b5c-941b-ca90d4a4ad21"
   },
   "outputs": [],
   "source": [
    "# df['x3'] = ...\n",
    "# df['x4'] = ...\n",
    "# sns.jointplot(...)\n",
    "### YOUR CODE HERE"
   ]
  },
  {
   "cell_type": "markdown",
   "metadata": {
    "id": "yL98PdCjY9Rc"
   },
   "source": [
    "Proszę:\n",
    "- utworzyć klasyfikator drzewa decyzyjnego,\n",
    "- wyuczyć go na zbiorze danych wykorzystując tylko cechy `x3` i `x4`,\n",
    "- na jednym rysunku narysować granicę decyzyjną modelu oraz rozkład cech wykorzystanych przy uczeniu,\n",
    "- narysować uzyskane drzewo decyzyjne."
   ]
  },
  {
   "cell_type": "code",
   "execution_count": null,
   "metadata": {
    "colab": {
     "base_uri": "https://localhost:8080/",
     "height": 741
    },
    "deletable": false,
    "id": "7HZ0K845CYwA",
    "nbgrader": {
     "cell_type": "code",
     "checksum": "9298194a196d71ff4e15b4be11428bf0",
     "grade": false,
     "grade_id": "703E21BD0A9347DF",
     "locked": false,
     "schema_version": 3,
     "solution": true,
     "task": false
    },
    "outputId": "f4e8f798-3780-4368-c998-4832ec4c1ddf"
   },
   "outputs": [],
   "source": [
    "# model = ...\n",
    "# X, y = ...\n",
    "# model.fit(...)\n",
    "# plot_decision(...)\n",
    "# plot_tree(...)\n",
    "### YOUR CODE HERE"
   ]
  },
  {
   "cell_type": "markdown",
   "metadata": {
    "id": "lmj72kZnLhnt"
   },
   "source": [
    "### Nieseparowalne dane"
   ]
  },
  {
   "cell_type": "markdown",
   "metadata": {
    "id": "V1epl46PLpTv"
   },
   "source": [
    "Sprawdźmy teraz jakie drzewo otrzymamy w wyniku uczenia na nieseparowalnym zbiorze danych.\n",
    "\n",
    "Proszę: \n",
    "- korzystając z `sklearn.make_blobs` wygenerować zbiór danych o `1000` elementów należacych do dwóch równolicznych klas o rozkładach o wartościach oczekiwanych `(-1,0)` i `(1,0)` oraz odchyleniu standardowym `0.75`,\n",
    "- podzielić uzyskany zbiór danych na zbiór treningowy i testowy, tak żeby zbiór testowy wynosił 0.3 wszystkich danych,\n",
    "- narysować zbiór treningowy."
   ]
  },
  {
   "cell_type": "code",
   "execution_count": null,
   "metadata": {
    "colab": {
     "base_uri": "https://localhost:8080/",
     "height": 458
    },
    "deletable": false,
    "id": "wPGb7Y9xClRm",
    "nbgrader": {
     "cell_type": "code",
     "checksum": "35afa837922b4e230547b617f01348a7",
     "grade": false,
     "grade_id": "3F78EC9CCF104624",
     "locked": false,
     "schema_version": 3,
     "solution": true,
     "task": false
    },
    "outputId": "1eadee01-2b0f-40b7-f4af-7e27b1a8091e"
   },
   "outputs": [],
   "source": [
    "# X, y = make_blobs(n_samples = ..., n_features = ... ,centers= ... , cluster_std = ...)\n",
    "# X_train, X_test, y_train, y_test = ...\n",
    "# sns.jointplot(...)\n",
    "### YOUR CODE HERE"
   ]
  },
  {
   "cell_type": "markdown",
   "metadata": {
    "id": "e0td8wKWbFsF"
   },
   "source": [
    "Proszę:\n",
    "- utworzyć klasyfikator drzewa decyzyjnego,\n",
    "- wyczyć go na danych treningowych,\n",
    "- wypisać i porównać miary jakości uzyskane na zbiorze treningowym i testowym. Czy model uległ przetrenowaniu?\n",
    "- na jednym rysunku narysować granicę decyzyjną i dane testowe."
   ]
  },
  {
   "cell_type": "code",
   "execution_count": null,
   "metadata": {
    "colab": {
     "base_uri": "https://localhost:8080/",
     "height": 788
    },
    "deletable": false,
    "id": "HMhweuB5C_8o",
    "nbgrader": {
     "cell_type": "code",
     "checksum": "a3b5696de5c6e9a35cbde88848157ab0",
     "grade": false,
     "grade_id": "C71C0B55310E4C72",
     "locked": false,
     "schema_version": 3,
     "solution": true,
     "task": false
    },
    "outputId": "8ce80fe6-8ee4-40cf-c36c-3c6fa12aa6bc"
   },
   "outputs": [],
   "source": [
    "# model = ...\n",
    "# model.fit(...)\n",
    "# print('Train:')\n",
    "# printScores(...)\n",
    "# print('Test:')\n",
    "# printScores(...)\n",
    "# plot_decision(...)\n",
    "\n",
    "### YOUR CODE HERE"
   ]
  },
  {
   "cell_type": "markdown",
   "metadata": {
    "id": "jRqfS9sDPQE3"
   },
   "source": [
    "### Regularyzacja\n",
    "\n",
    "Drzewa decyzjne są modelami nieparametrycznymi (tzn. parametry występują, ale ich liczba (np. struktura drzewa) nie jest znana przed uczeniem) i bardzo łatwo ulegają przetrenowaniu.\n",
    "\n",
    "Aby temu zaradzić stosowana jest regularyzacja, poprzez ograniczanie swobody algorytmu uczenia.\n",
    "\n",
    "Drzewa decyzyjne można regularyzować parametrami, takimi jak:\n",
    "- `max_depth` - maksymalna wysokość drzewa (domyślnie nieskończoność),\n",
    "- `max_leaf_nodes` - maksymalna liczba liści,\n",
    "- `max_features` - maksymalna liczba cech użytych do dzielenia gałęzi,\n",
    "- `min_samples_split` - minimalna liczba próbek w gałęzi, żeby została podzielona,\n",
    "- `min_samples_leaf` - minimalna liczba próbek w liściu,\n",
    "- `min_weigth_fraction_leaf` - minimalna liczba próbek w liściu (jako ułamek wszystkich próbek).\n",
    "\n",
    "Zwiększanie parametrów `min_` i zmniejszanie parametrów `max_` powoduje większą regularyzację."
   ]
  },
  {
   "cell_type": "markdown",
   "metadata": {
    "id": "v-dIRYCsRpy4"
   },
   "source": [
    "Proszę:\n",
    "- powtórzyć uczenie, ale tym razem dodając parametr regularyzacyjny `max_depth=5`,\n",
    "- wypisać i porównać miary jakości na zbiorze treningowym i testowym. Czy tym razem model również uległ przetrenowaniu?\n",
    "- na jednym rysunku narysować zbiór testowy i granicę decyzyjną,\n",
    "- wybrać bardziej odpowiednią wartość parametru `max_depth` i narysować uzyskane dla niego drzewo."
   ]
  },
  {
   "cell_type": "code",
   "execution_count": null,
   "metadata": {
    "colab": {
     "base_uri": "https://localhost:8080/",
     "height": 1000
    },
    "deletable": false,
    "id": "j3YCW9akDDmY",
    "nbgrader": {
     "cell_type": "code",
     "checksum": "ba619adea8163c2f5146a258439dbf13",
     "grade": false,
     "grade_id": "52A3A2EE9C5D4F14",
     "locked": false,
     "schema_version": 3,
     "solution": true,
     "task": false
    },
    "outputId": "25bc0209-3bd8-41be-b882-fb267c227a5c"
   },
   "outputs": [],
   "source": [
    "# model= ...\n",
    "# model.fit(...)\n",
    "# print('Train:')\n",
    "# printScores\n",
    "# print('Test:')\n",
    "# printScores(...)\n",
    "# plot_decision(...)\n",
    "# plot_tree(...)\n",
    "### YOUR CODE HERE"
   ]
  },
  {
   "cell_type": "markdown",
   "metadata": {
    "id": "h7FfGbKk3ukF"
   },
   "source": [
    "## Zbiór danych 'breast cancer'\n",
    "\n"
   ]
  },
  {
   "cell_type": "markdown",
   "metadata": {
    "id": "ODdiciYJeNvS"
   },
   "source": [
    "Proszę:\n",
    "- załadować zbiór `sklearn.datasets.load_breast_cancer`,\n",
    "- za pomocą metody `keys` sprawdzić zawartość zbioru,\n",
    "- wypisać nazwy cech oraz etykiet,\n",
    "- podzielić zbiór danych na zbiór treningowy i testowy, tak żeby zbiór testowty stanowił 0.2 wszystkich danych,\n",
    "- przepisać zbiór treningowy do `panadas.DataFrame`."
   ]
  },
  {
   "cell_type": "code",
   "execution_count": null,
   "metadata": {
    "colab": {
     "base_uri": "https://localhost:8080/"
    },
    "deletable": false,
    "id": "yMhyMOZJd8Bt",
    "nbgrader": {
     "cell_type": "code",
     "checksum": "c02c9e1fbc4d3ee4712d3dbd397cfc90",
     "grade": false,
     "grade_id": "F9E83C08577E470F",
     "locked": false,
     "schema_version": 3,
     "solution": true,
     "task": false
    },
    "outputId": "f23d943e-b3ee-4eaa-b5cc-faab25ab2376"
   },
   "outputs": [],
   "source": [
    "# cancer = ...\n",
    "# print(\"Contents:\")\n",
    "# print(...)\n",
    "# print(\"Features:\")\n",
    "# print(...)\n",
    "# print(\"Target:\")\n",
    "# print(...)\n",
    "# print(\"Description\")\n",
    "# print(...)\n",
    "# X_train, X_test, y_train, y_test = ...\n",
    "# df = pd.DataFrame(...)\n",
    "# df['label'] = ...\n",
    "### YOUR CODE HERE"
   ]
  },
  {
   "cell_type": "markdown",
   "metadata": {
    "id": "wjaQpEgXe0pv"
   },
   "source": [
    "### Analiza wizualna"
   ]
  },
  {
   "cell_type": "markdown",
   "metadata": {
    "id": "G28fLYs4fNBB"
   },
   "source": [
    "Pierwszy raz używamy tego zbioru danych, więc wykonamy wizualizację. \n",
    "\n",
    "W poniższych przykładach wizualizować będziemy jedynie zbiór treningowy.\n",
    "\n",
    "Proszę:\n",
    "- wypisać na ekran liczebność klas (`pandas.DataFrame.value_counts`)\n",
    "- narysować wykresy skrzypcowe dla każdej cechy z uwzględnieniem podziału na klasy,\n",
    "- na podstawie rysunków proszę ustalić, czy cechy wymagają normalizacji i czy jest ona potrzebna w przypadku drzew decyzyjnych.\n"
   ]
  },
  {
   "cell_type": "code",
   "execution_count": null,
   "metadata": {
    "colab": {
     "base_uri": "https://localhost:8080/",
     "height": 1000
    },
    "deletable": false,
    "id": "p20yhksko9vH",
    "nbgrader": {
     "cell_type": "code",
     "checksum": "077ee713023ca9487ea5470150aa298d",
     "grade": false,
     "grade_id": "2FA0CC219B3C4A98",
     "locked": false,
     "schema_version": 3,
     "solution": true,
     "task": false
    },
    "outputId": "53969828-c54a-4f70-e324-fcee22049d91"
   },
   "outputs": [],
   "source": [
    "#print(...)\n",
    "### YOUR CODE HERE\n",
    "\n",
    "fig, axes = plt.subplots(7,5, figsize=(20,20))\n",
    "for index, columnName in enumerate(df.columns):\n",
    "    # sns.violinplot(...)\n",
    "    ### YOUR CODE HERE\n",
    "fig.tight_layout()\n"
   ]
  },
  {
   "cell_type": "markdown",
   "metadata": {
    "id": "ER-TWv2rgWRD"
   },
   "source": [
    "Proszę:\n",
    "- obliczyć macierz korelacji (nie kowariancji!) między wszystkimi kolumnami danych włączając etykiety,\n",
    "- narysować macierz korelacji,\n",
    "- wskazać, które cechy są silnie skorelowane.\n",
    "\n"
   ]
  },
  {
   "cell_type": "code",
   "execution_count": null,
   "metadata": {
    "colab": {
     "base_uri": "https://localhost:8080/",
     "height": 843
    },
    "deletable": false,
    "id": "MUsM5UkWvdUk",
    "nbgrader": {
     "cell_type": "code",
     "checksum": "ec81707170a271144de2f146285fdb61",
     "grade": false,
     "grade_id": "F90E58E49C814E38",
     "locked": false,
     "schema_version": 3,
     "solution": true,
     "task": false
    },
    "outputId": "13eaa665-5e67-4312-8c1c-50d1cffb04de"
   },
   "outputs": [],
   "source": [
    "_, ax = plt.subplots(figsize=(15,15))\n",
    "\n",
    "# correlationMatrix = ...\n",
    "# sns.heatmap(...)\n",
    "### YOUR CODE HERE"
   ]
  },
  {
   "cell_type": "markdown",
   "metadata": {
    "id": "vksYLT4Qhg_8"
   },
   "source": [
    "### Klasyfikacja drzewem decyzyjnym"
   ]
  },
  {
   "cell_type": "markdown",
   "metadata": {
    "id": "f6oDnqrlhuse"
   },
   "source": [
    "Wiemy już jak wygląda zbiór danych. Przystąpmy do uczenia klasyfikatora.\n",
    "\n",
    "Proszę:\n",
    "- utworzyć klasyfikator drzewa decyzyjnego i wyuczyć go na zbiorze danych,\n",
    "- wypisać miary jakości na zbiorze treningowym i testowym,\n",
    "- narysować uzyskane drzewo."
   ]
  },
  {
   "cell_type": "code",
   "execution_count": null,
   "metadata": {
    "colab": {
     "base_uri": "https://localhost:8080/",
     "height": 1000
    },
    "deletable": false,
    "id": "Sn8YpY0PhTKW",
    "nbgrader": {
     "cell_type": "code",
     "checksum": "65828393fbf9fffb8e6aaab6d60083dc",
     "grade": false,
     "grade_id": "B2B00013DDE5410A",
     "locked": false,
     "schema_version": 3,
     "solution": true,
     "task": false
    },
    "outputId": "c25e22c7-011c-4478-864f-418b96c70402"
   },
   "outputs": [],
   "source": [
    "# model = ...\n",
    "# model.fit(...)\n",
    "# print('Train')\n",
    "# printScores(...)\n",
    "# print('Test')\n",
    "# printScores(...)\n",
    "# plot_tree(...)\n",
    "### YOUR CODE HERE"
   ]
  },
  {
   "cell_type": "markdown",
   "metadata": {
    "id": "qGKBTDZv0boM"
   },
   "source": [
    "Proszę:\n",
    "- korzystając z `sklearn.tree.DecisionTreeClasifier.feature_importances_` wypisać, a następnie narysować na wykresie słupkowym wagi cech."
   ]
  },
  {
   "cell_type": "code",
   "execution_count": null,
   "metadata": {
    "colab": {
     "base_uri": "https://localhost:8080/",
     "height": 297
    },
    "deletable": false,
    "id": "WfbKNtyH0QXd",
    "nbgrader": {
     "cell_type": "code",
     "checksum": "a772c07f02a5f126042b28a5bc67fb50",
     "grade": false,
     "grade_id": "2EC2661DAB0347C5",
     "locked": false,
     "schema_version": 3,
     "solution": true,
     "task": false
    },
    "outputId": "c5d755a2-f7ab-4bd6-8684-ed3f0224f6fa"
   },
   "outputs": [],
   "source": [
    "# ax = sns.barplot(...)\n",
    "### YOUR CODE HERE\n",
    "ax.set_xlabel('Gini importance')"
   ]
  },
  {
   "cell_type": "markdown",
   "metadata": {
    "id": "OZOWexr9sCMQ"
   },
   "source": [
    "### Ścieżka decyzyjna"
   ]
  },
  {
   "cell_type": "markdown",
   "metadata": {
    "id": "943TjPiUsFer"
   },
   "source": [
    "Wspomnilśmy już, że drzewa zaliczają się do algorytmów *white box* i łatwo możemy interpretować ich działanie. Prześledźmy, jak przebiegła klasyfikacja przypadku o indeksie 0 ze zbioru treningowego:\n",
    "\n",
    "Proszę:\n",
    "- wypisać cechy przypadku o indeksie 0 w zbiorze treningowym,\n",
    "- korzystając z poniższej funkcji `print_decision_path` wypisać ścieżkę decyzyjną dla tego przypadku."
   ]
  },
  {
   "cell_type": "code",
   "execution_count": null,
   "metadata": {
    "id": "nK-NWJGNxOGJ"
   },
   "outputs": [],
   "source": [
    "def print_decision_path(model, x, feature_names, class_names):\n",
    "  feature = model.tree_.feature\n",
    "  threshold=model.tree_.threshold\n",
    "  value=model.tree_.value\n",
    "  node_indicator = model.decision_path([x])\n",
    "  leaf_id = model.apply([x])\n",
    "  \n",
    "\n",
    "  sample_id = 0\n",
    "\n",
    "  # obtain ids of the nodes `sample_id` goes through, i.e., row `sample_id`\n",
    "  node_index = node_indicator.indices[\n",
    "    node_indicator.indptr[sample_id] : node_indicator.indptr[sample_id + 1]\n",
    "  ]\n",
    "\n",
    "  print(\"Rules used to predict sample {id}:\\n\".format(id=sample_id))\n",
    "  for node_id in node_index:\n",
    "      # continue to the next node if it is a leaf node\n",
    "      if leaf_id[sample_id] == node_id:\n",
    "          print(\"\\nDecision: leaf {leaf}\".format(leaf=node_id))\n",
    "          proba=np.array(value[node_id]).reshape(-1)\n",
    "          proba=proba/proba.sum()\n",
    "          for v, name in zip(proba, class_names):\n",
    "            print(\"\\t{}: {}%\".format(name, v*100))\n",
    "          continue\n",
    "\n",
    "      # check if value of the split feature for sample 0 is below threshold\n",
    "      if X_test[sample_id, feature[node_id]] <= threshold[node_id]:\n",
    "          threshold_sign = \"<=\"\n",
    "      else:\n",
    "          threshold_sign = \">\"\n",
    "\n",
    "      print(\n",
    "          \"decision node {node} : ('{feature}' = {value}) \"\n",
    "          \"{inequality} {threshold})\".format(\n",
    "              node=node_id,\n",
    "              feature=feature_names[feature[node_id]],\n",
    "              value=X_test[sample_id, feature[node_id]],\n",
    "              inequality=threshold_sign,\n",
    "              threshold=threshold[node_id],\n",
    "          )\n",
    "      )\n",
    "      \n"
   ]
  },
  {
   "cell_type": "code",
   "execution_count": null,
   "metadata": {
    "colab": {
     "base_uri": "https://localhost:8080/"
    },
    "deletable": false,
    "id": "ACB9LAV207R_",
    "nbgrader": {
     "cell_type": "code",
     "checksum": "01ba7818f1719415d7691a2432cea75e",
     "grade": false,
     "grade_id": "104366B448C9487D",
     "locked": false,
     "schema_version": 3,
     "solution": true,
     "task": false
    },
    "outputId": "71b1e60c-b920-4865-ac41-86d35aefaa9f"
   },
   "outputs": [],
   "source": [
    "index=0\n",
    "for value, name in zip(X_test[index], cancer.feature_names):\n",
    "  print(name, value)\n",
    "print()\n",
    "# print_decision_path(...)\n",
    "### YOUR CODE HERE"
   ]
  },
  {
   "cell_type": "markdown",
   "metadata": {
    "id": "Kxv_wvhoj7MP"
   },
   "source": [
    "### Regularyzacja przez przycinanie"
   ]
  },
  {
   "cell_type": "markdown",
   "metadata": {
    "id": "0jwSALZ-j_CX"
   },
   "source": [
    "Ponownie uzyskaliśmy przetrenowany model i ponownie dodamy do niego regularyzację. Tym razem wykorzystamy do tego przycinanie (*pruning*). Przycinanie polega na wytrenowaniu drzewa, a następnie wyeliminownaiu (przycięciu) najmniej istotnych liści i gałęzi.\n",
    "\n",
    "Proszę:\n",
    "- prześledzić poniższy kod,\n",
    "- podać najlepszą wartość parametru regularyzacyjnego `ccp_alpha`,\n",
    "- narysować drzewo uzyskane dla najlepszej wartośći `ccp_alpha` oraz wypisać jego miary jakości na zbiorze testowym."
   ]
  },
  {
   "cell_type": "code",
   "execution_count": null,
   "metadata": {
    "id": "W3n7WBjRlPrF"
   },
   "outputs": [],
   "source": [
    "# użyj funkcji cost_complexity_pruning_path żeby znaleźć ścieżkę przycinania dla zbioru uczącego\n",
    "path = model.cost_complexity_pruning_path(X_train, y_train)\n",
    "# z obiektu path wyjmij wartości parametrów alpha i \"nieczystości\"\n",
    "ccp_alphas, impurities = path.ccp_alphas, path.impurities"
   ]
  },
  {
   "cell_type": "code",
   "execution_count": null,
   "metadata": {
    "colab": {
     "base_uri": "https://localhost:8080/",
     "height": 312
    },
    "id": "--43Vp4hladS",
    "outputId": "1241b313-b30c-4374-c213-c822718845f6"
   },
   "outputs": [],
   "source": [
    "# narysuj wykres punktowo-schodkowy (patrz dokumentacja) nieczystości w funkcji alpha\n",
    "plt.plot(ccp_alphas[:-1], impurities[:-1], marker='o', drawstyle=\"steps-post\")\n",
    "plt.xlabel(\"effective alpha\")\n",
    "plt.ylabel(\"total impurity of leaves\")\n",
    "plt.title(\"Total Impurity vs effective alpha for training set\")"
   ]
  },
  {
   "cell_type": "code",
   "execution_count": null,
   "metadata": {
    "colab": {
     "base_uri": "https://localhost:8080/"
    },
    "id": "qxsGwCdjldmv",
    "outputId": "dc19e9eb-47cc-464f-dffe-0ec1513c9da5"
   },
   "outputs": [],
   "source": [
    "models = []\n",
    "# iteruj w pętli po wartościach parametrów alpha\n",
    "# dla każdego alpha stwórz drzewo, dofituj i dodaj model do listy clfs\n",
    "for ccp_alpha in ccp_alphas:\n",
    "    model = DecisionTreeClassifier(random_state=0, ccp_alpha=ccp_alpha)\n",
    "    model.fit(X_train, y_train)\n",
    "    models.append(model)\n",
    "    \n",
    "print(\"Number of nodes in the last tree is: {} with ccp_alpha: {}\".format(\n",
    "      models[-1].tree_.node_count, ccp_alphas[-1]))"
   ]
  },
  {
   "cell_type": "code",
   "execution_count": null,
   "metadata": {
    "colab": {
     "base_uri": "https://localhost:8080/",
     "height": 297
    },
    "id": "9gz8TmWLl1BS",
    "outputId": "0508dbc5-79be-400d-a63e-bda64ca1455b"
   },
   "outputs": [],
   "source": [
    "models = models[:-1]\n",
    "ccp_alphas = ccp_alphas[:-1]\n",
    "# policzymy ilość węzłów w naszych modelach\n",
    "node_counts = [model.tree_.node_count for model in models]\n",
    "# i maksymalną \"głębokość\" \n",
    "depth = [model.tree_.max_depth for model in models]\n",
    "# narysujemy powyższe wartości na wykresach punktowo-schodkowych\n",
    "fig, ax = plt.subplots(2, 1)\n",
    "# naryj liczbę węzłów w funkcji współczynników alpha\n",
    "ax[0].plot(ccp_alphas, node_counts, marker='o', drawstyle=\"steps-post\")\n",
    "ax[0].set_xlabel(\"alpha\")\n",
    "ax[0].set_ylabel(\"number of nodes\")\n",
    "ax[0].set_title(\"Number of nodes vs alpha\")\n",
    "# naryj głębokość w funkcji współczynników alpha\n",
    "ax[1].plot(ccp_alphas, depth, marker='o', drawstyle=\"steps-post\")\n",
    "ax[1].set_xlabel(\"alpha\")\n",
    "ax[1].set_ylabel(\"depth of tree\")\n",
    "ax[1].set_title(\"Depth vs alpha\")\n",
    "fig.tight_layout()"
   ]
  },
  {
   "cell_type": "code",
   "execution_count": null,
   "metadata": {
    "colab": {
     "base_uri": "https://localhost:8080/",
     "height": 295
    },
    "id": "b2rNlIMumB0N",
    "outputId": "46ee93cb-a595-4b70-8157-0e733d5a63b0"
   },
   "outputs": [],
   "source": [
    "# Teraz rysujemy accuracy w funkcji alpha dla zbiorów uczącego i testowego\n",
    "train_scores = [model.score(X_train, y_train) for model in models]\n",
    "test_scores = [model.score(X_test, y_test) for model in models]\n",
    "\n",
    "fig, ax = plt.subplots()\n",
    "ax.set_xlabel(\"alpha\")\n",
    "ax.set_ylabel(\"accuracy\")\n",
    "ax.set_title(\"Accuracy vs alpha for training and testing sets\")\n",
    "# narysuj accuracy dla zbioru uczącego\n",
    "ax.plot(ccp_alphas, train_scores, marker='o', label=\"train\",\n",
    "        drawstyle=\"steps-post\")\n",
    "# narysuj accuracy dla zbioru testowego\n",
    "ax.plot(ccp_alphas, test_scores, marker='o', label=\"test\",\n",
    "        drawstyle=\"steps-post\")\n",
    "ax.legend()\n",
    "plt.show()"
   ]
  },
  {
   "cell_type": "code",
   "execution_count": null,
   "metadata": {
    "colab": {
     "base_uri": "https://localhost:8080/"
    },
    "deletable": false,
    "id": "yrWu0KGsmgYV",
    "nbgrader": {
     "cell_type": "code",
     "checksum": "3ac20f9668d552ce1da1350ca32a0d51",
     "grade": false,
     "grade_id": "7009A1A6961442A8",
     "locked": false,
     "schema_version": 3,
     "solution": true,
     "task": false
    },
    "outputId": "e5aa0382-f750-4576-f63a-dffeda4bdd83"
   },
   "outputs": [],
   "source": [
    "# best_index = ...\n",
    "# print(...)\n",
    "# best_model = ...\n",
    "# plot_tree(...)\n",
    "# printScores(...)\n",
    "### YOUR CODE HERE"
   ]
  }
 ],
 "metadata": {
  "colab": {
   "collapsed_sections": [],
   "name": "tree.ipynb",
   "provenance": [],
   "toc_visible": true
  },
  "kernelspec": {
   "display_name": "Python 3",
   "name": "python3"
  },
  "language_info": {
   "name": "python"
  }
 },
 "nbformat": 4,
 "nbformat_minor": 0
}
