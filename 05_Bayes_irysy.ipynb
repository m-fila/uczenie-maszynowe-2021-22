{
 "cells": [
  {
   "cell_type": "markdown",
   "metadata": {
    "colab_type": "text",
    "id": "view-in-github"
   },
   "source": [
    "<a href=\"https://colab.research.google.com/github/m-fila/uczenie-maszynowe-2021-22/blob/main/05_Bayes_irysy.ipynb\" target=\"_parent\"><img src=\"https://colab.research.google.com/assets/colab-badge.svg\" alt=\"Open In Colab\"/></a>"
   ]
  },
  {
   "cell_type": "markdown",
   "metadata": {
    "id": "g6aMBGt6Z7fY"
   },
   "source": [
    "# Naiwny klasyfikator Bayesa\n",
    "Autor: Jarosław Żygierewicz\n",
    "\n",
    "Z klasyfikatorem tym zapoznamy się próbując klasyfikować gatunki irysów. Jest to klasyczny już problem, często wykorzystywany przy porównywaniu różnych technik klasyfikacji. Więcej o pochodzeniu tych danych i problemie można przeczytać tu: [Iris_flower_data](https://en.wikipedia.org/wiki/Iris_flower_data_set)\n",
    "\n",
    "Kod napiszemy w oparciu o implementacje klasyfikatora Bayesa z biblioteki [scikit-learn](http://scikit-learn.org/stable/about.html#citing-scikit-learn)\n",
    "\n",
    "Zaczerpniemy stamtąd:\n",
    "* obiekt klasyfikatora [GaussianNB](https://scikit-learn.org/stable/modules/generated/sklearn.naive_bayes.GaussianNB.html)\n",
    "* zbiór danych\n",
    "* funkcje do oceny jakości "
   ]
  },
  {
   "cell_type": "markdown",
   "metadata": {
    "id": "_yOp4madZ7fZ"
   },
   "source": [
    "Przygotopwanie śrdowiska: import wymaganych pakietów."
   ]
  },
  {
   "cell_type": "code",
   "execution_count": null,
   "metadata": {
    "executionInfo": {
     "elapsed": 2513,
     "status": "ok",
     "timestamp": 1605702016108,
     "user": {
      "displayName": "Anna Dawid",
      "photoUrl": "https://lh3.googleusercontent.com/a-/AOh14GgUQAwZ7wyayL4BbiM0n_EANCgBjSdZ9H14lgcCFEE=s64",
      "userId": "02862484648310443813"
     },
     "user_tz": -60
    },
    "id": "vgv3tI12Z7fa"
   },
   "outputs": [],
   "source": [
    "import matplotlib\n",
    "import numpy as np\n",
    "\n",
    "from sklearn import datasets\n",
    "from sklearn.naive_bayes import GaussianNB\n",
    "from sklearn.metrics import accuracy_score, classification_report, confusion_matrix\n",
    "\n",
    "from scipy.stats import multivariate_normal\n",
    "\n",
    "import matplotlib.pyplot as plt\n",
    "import seaborn as sns\n",
    "\n",
    "import pandas as pd"
   ]
  },
  {
   "cell_type": "markdown",
   "metadata": {
    "id": "6R48NZA7Z7fh"
   },
   "source": [
    "## Zbiór danych irys\n",
    "Zapoznajemy się z danymi i wybieramy ich podzbiór do dalszej zabawy. Dane to standardowy zestaw dostępny w bibliotece sklearn."
   ]
  },
  {
   "cell_type": "code",
   "execution_count": null,
   "metadata": {
    "executionInfo": {
     "elapsed": 2508,
     "status": "ok",
     "timestamp": 1605702016109,
     "user": {
      "displayName": "Anna Dawid",
      "photoUrl": "https://lh3.googleusercontent.com/a-/AOh14GgUQAwZ7wyayL4BbiM0n_EANCgBjSdZ9H14lgcCFEE=s64",
      "userId": "02862484648310443813"
     },
     "user_tz": -60
    },
    "id": "42SLWGQBZ7fi"
   },
   "outputs": [],
   "source": [
    "#Wczytywanie danych\n",
    "iris = datasets.load_iris() #https://en.wikipedia.org/wiki/Iris_flower_data_set\n",
    "\n",
    "#Wypisywanie zawartości wczytanego obiektu\n",
    "print(dir(iris))"
   ]
  },
  {
   "cell_type": "markdown",
   "metadata": {
    "id": "JPZBOgBxZ7fs"
   },
   "source": [
    "Proszę zobaczyć co zawierają dane. Proszę wypisać:\n",
    "\n",
    "* nazwy gatunków\n",
    "* kodowanie gatunków, czyli liczby przypisane do nazw gatunków \"target\"\n",
    "* nazwy zmiennych oppisujących gatunki \"feature_names\"\n",
    "* opis danych \"DESCR\""
   ]
  },
  {
   "cell_type": "code",
   "execution_count": null,
   "metadata": {
    "colab": {
     "base_uri": "https://localhost:8080/"
    },
    "executionInfo": {
     "elapsed": 2495,
     "status": "ok",
     "timestamp": 1605702016111,
     "user": {
      "displayName": "Anna Dawid",
      "photoUrl": "https://lh3.googleusercontent.com/a-/AOh14GgUQAwZ7wyayL4BbiM0n_EANCgBjSdZ9H14lgcCFEE=s64",
      "userId": "02862484648310443813"
     },
     "user_tz": -60
    },
    "id": "LR22U62NZ7fs",
    "outputId": "65962023-2d3c-4f09-ef5e-7dd575657952"
   },
   "outputs": [],
   "source": [
    "print(...)\n",
    "print(...)\n",
    "print(...)\n",
    "print(...)"
   ]
  },
  {
   "cell_type": "markdown",
   "metadata": {
    "id": "iwNEvTXQZ7gA"
   },
   "source": [
    "Proszę utworzyć obiekt DataFrame zawierający własności (\"features\"). \n",
    "* proszę przypisać poprawne nazwy kolumn: ```columns=iris.feature_name```\n",
    "* prodzę dodać do obiektu DataFrame kolumnę etykiet\n",
    "* proszę wypisać zawartość obiektu DataFrame"
   ]
  },
  {
   "cell_type": "code",
   "execution_count": null,
   "metadata": {},
   "outputs": [],
   "source": [
    "df = pd.DataFrame(...)\n",
    "df[\"label\"] = ...\n",
    "print(...)"
   ]
  },
  {
   "cell_type": "markdown",
   "metadata": {},
   "source": [
    "Proszę wypisać własności przykładu o indeksie 5. \n",
    "\n",
    "* proszę zkorzystać z funkcji DataFrame.loc(index)\n",
    "\n",
    "Wynik powinien być następujący:\n",
    "```\n",
    "sepal length (cm)    5.4\n",
    "sepal width (cm)     3.9\n",
    "petal length (cm)    1.7\n",
    "petal width (cm)     0.4\n",
    "label                0.0\n",
    "Name: 5, dtype: float64\n",
    "```"
   ]
  },
  {
   "cell_type": "code",
   "execution_count": null,
   "metadata": {
    "colab": {
     "base_uri": "https://localhost:8080/"
    },
    "executionInfo": {
     "elapsed": 2469,
     "status": "ok",
     "timestamp": 1605702016114,
     "user": {
      "displayName": "Anna Dawid",
      "photoUrl": "https://lh3.googleusercontent.com/a-/AOh14GgUQAwZ7wyayL4BbiM0n_EANCgBjSdZ9H14lgcCFEE=s64",
      "userId": "02862484648310443813"
     },
     "user_tz": -60
    },
    "id": "QUWwl7w0Z7gF",
    "outputId": "ca99a7af-9ece-48b1-ee4f-52cada383693"
   },
   "outputs": [],
   "source": [
    "print(...)"
   ]
  },
  {
   "cell_type": "markdown",
   "metadata": {
    "id": "FdTaCybgZ7gQ"
   },
   "source": [
    "Proszę sprawdzić jaki gatunek odpowiada wartości etykiety przykładu o indekscie 5.\n",
    "Wynik powinien być następujący:\n",
    "```\n",
    "setosa\n",
    "```"
   ]
  },
  {
   "cell_type": "code",
   "execution_count": null,
   "metadata": {
    "colab": {
     "base_uri": "https://localhost:8080/"
    },
    "executionInfo": {
     "elapsed": 2458,
     "status": "ok",
     "timestamp": 1605702016115,
     "user": {
      "displayName": "Anna Dawid",
      "photoUrl": "https://lh3.googleusercontent.com/a-/AOh14GgUQAwZ7wyayL4BbiM0n_EANCgBjSdZ9H14lgcCFEE=s64",
      "userId": "02862484648310443813"
     },
     "user_tz": -60
    },
    "id": "oPjGr9meZ7gR",
    "outputId": "7a5062ab-2130-43d4-f825-68ee3c825194"
   },
   "outputs": [],
   "source": [
    "print(...)"
   ]
  },
  {
   "cell_type": "markdown",
   "metadata": {
    "id": "qVa4NHQ4Z7gX"
   },
   "source": [
    "## Analiza wizualna danych. \n",
    "\n",
    "Pierwszy krok przy analizie danych z użyciem dowolnego algorytmu to ich inspekcja. Korzystając z metod klasy DataFrame proszę:\n",
    "* narysować rozkłady wszystkich zmiennych wejściowych"
   ]
  },
  {
   "cell_type": "code",
   "execution_count": null,
   "metadata": {},
   "outputs": [],
   "source": [
    "df...."
   ]
  },
  {
   "cell_type": "markdown",
   "metadata": {},
   "source": [
    "Naszym zadaniuem jest rozdzielenie gatunków na podstawie wartości własności. \n",
    "\n",
    "* proszę narysować rozkłady (histogramy) własności w podziale na  gatunki. Rysując histogramy proszę dobrać zakresy przedziałów na podstawie histogramów narysowanych bez podziału na gatunki\n",
    "* na podstawie histogramów proszę zitentyfikować cechy, które najlepiej odróżniają gatunki"
   ]
  },
  {
   "cell_type": "code",
   "execution_count": null,
   "metadata": {},
   "outputs": [],
   "source": [
    "fig, axes = plt.subplots(2,2, figsize=(10,10))\n",
    "color_map = {-1: (1, 1, 1), 0: (0, 0, .9), 1: (1, 0, 0), 2: (.5, .5, 0)}\n",
    "\n",
    "sns.histplot(data=..., x=..., hue=\"label\", binrange=(4,8),palette=color_map, bins=10, ax=axes[0,0]);\n",
    "...\n",
    "...\n",
    "..."
   ]
  },
  {
   "cell_type": "markdown",
   "metadata": {},
   "source": [
    "## Wykres skrzypcowy (\"violin plot\")\n",
    "\n",
    "Histogramy dla poszczególnych gatunków się nakładają częściowo. Inny sposób wizualizacji to wykres skrzypcowy.\n",
    "\n",
    "* proszę narysować wykresy skrzypcowe dla poszzcególnych cech, z podziałem na gatunki\n",
    "* na podstawie rysunków proszę zitentyfikować cechy, które najlepiej odróżniają gatunki"
   ]
  },
  {
   "cell_type": "code",
   "execution_count": null,
   "metadata": {},
   "outputs": [],
   "source": [
    "fig, axes = plt.subplots(2,2, figsize=(10,10))\n",
    "\n",
    "sns.violinplot(data=..., x=\"label\", y=\"sepal length (cm)\",ax=axes[0,0]); "
   ]
  },
  {
   "cell_type": "markdown",
   "metadata": {},
   "source": [
    "## Analiza dwuwymiarowa\n",
    "\n",
    "Rysunki narysowane do tej pory były jednowymiarowe. Kolejny krok to wizualna analiza korelacji międzu cechami.\n",
    "\n",
    "* proszę obliczyć macierz kowiariancji między wszystkimi kolumnami danych włączając etykiety\n",
    "* proszę narysować macierz kowariancji"
   ]
  },
  {
   "cell_type": "code",
   "execution_count": null,
   "metadata": {},
   "outputs": [],
   "source": [
    "corelationMatrix = df....\n",
    "\n",
    "cmap = sns.diverging_palette(230, 20, as_cmap=True)\n",
    "sns.heatmap(corelationMatrix, square=True, linewidths=.5, cbar_kws={\"shrink\": .5});"
   ]
  },
  {
   "cell_type": "markdown",
   "metadata": {},
   "source": [
    "Macierz kowariancji często jest mało czytelna. Wygodniejsze do analizy są rozkłady dwuwymiarowe - na osiach rysunku odkładamy dwie wybrane cechy. \n",
    "Proszę uruchomić kod w komórce poniżej i zanalizować korelacje między cechami.\n",
    "Więcej przykładów wyzializacji można znaleźć [tutaj](https://seaborn.pydata.org/tutorial/axis_grids.html)"
   ]
  },
  {
   "cell_type": "code",
   "execution_count": null,
   "metadata": {},
   "outputs": [],
   "source": [
    "graph = sns.PairGrid(df, hue=\"label\", palette=color_map)\n",
    "graph.map_diag(sns.histplot)\n",
    "graph.map_offdiag(sns.scatterplot);\n",
    "graph.add_legend();"
   ]
  },
  {
   "cell_type": "markdown",
   "metadata": {
    "id": "Dhlnmd_TZ7gt"
   },
   "source": [
    "## Przygotowanie danych wejściowych\n",
    "\n",
    "Aby ułatwić analizę wyniku działania modelu ograniczymy się do dwu cech - wtedy będzie można narysować podział na gatunki na płaszczyźnie.\n",
    "Znoprmalizujemy też wartości cech: \n",
    "\n",
    "\\begin{equation}\n",
    "x_{norm} = \\frac{x - \\mu_{x}}{\\sigma_{x}}\n",
    "\\end{equation}\n",
    "\n",
    "* proszę utworzyć dane zawierające znormalizowane kolumny: \n",
    "* proszę utworzyć dane zawierające tylko wybrane cechy, oraz etykiety: ```[\"sepal width (cm)\",\"petal length (cm)\", \"label\"]```\n",
    "* proszę wypisać zawartość nowych danych\n",
    "\n",
    "**Uwaga:** proszę nie normalizować wartości etykiet"
   ]
  },
  {
   "cell_type": "code",
   "execution_count": null,
   "metadata": {},
   "outputs": [],
   "source": [
    "df_normalized = ...\n",
    "\n",
    "df_subset = ...\n",
    "print(df_subset)"
   ]
  },
  {
   "cell_type": "markdown",
   "metadata": {},
   "source": [
    "Proszę narysować rozkłady dwuwymiarowe dla nowych danych (danych z dwiema cechami)."
   ]
  },
  {
   "cell_type": "code",
   "execution_count": null,
   "metadata": {},
   "outputs": [],
   "source": [
    "graph = ..."
   ]
  },
  {
   "cell_type": "markdown",
   "metadata": {
    "id": "f9td9_EHZ7gw"
   },
   "source": [
    "## Tworzymy i uczymy klasyfikator\n",
    "\n",
    "Poniżej znajduje się kod służący klasyfikacji. Proszę go uzupełnić zgodnie z komentarzami i dokumentacją:\n",
    "[naive_bayes](https://scikit-learn.org/stable/modules/naive_bayes.html) oraz [GaussianNB](https://scikit-learn.org/stable/modules/generated/sklearn.naive_bayes.GaussianNB.html)"
   ]
  },
  {
   "cell_type": "code",
   "execution_count": null,
   "metadata": {},
   "outputs": [],
   "source": [
    "from sklearn.naive_bayes import GaussianNB\n",
    "# stwórz instancję klasyfikatora Gaussian Naive Bayes\n",
    "gnb = GaussianNB()\n",
    "# wpisz tutaj wartości klas ze zbioru danych\n",
    "X = ...\n",
    "Y = ...\n",
    "# Dopasuj parametry klasyfikatora \n",
    "gnb.fit(X, Y);"
   ]
  },
  {
   "cell_type": "markdown",
   "metadata": {},
   "source": [
    "\n",
    "* proszę wypisać parametry dopasowanie: średnie i odchylenia standardowe rozkładów Gaussa. Średnie tych rozkładów znajdująsię w polu  ```gnb.theta_```, a wariancje\n",
    "  w ```gnb.sigma_```\n",
    "* prosze wypisać średnie i wariancje rozkładów cech w podziale na gatunki\n",
    "\n",
    "**Wskazówka:** proszę skorzystać z grupowania danych: DataFrame.groupby()\n",
    "\n",
    "Oczekiwany wynik dla parametrów to:\n",
    "```\n",
    "Mean:\n",
    " [[ 0.85041372 -1.30063009]\n",
    " [-0.65922358  0.28437121]\n",
    " [-0.19119013  1.01625888]]\n",
    "Sigma:\n",
    " [[0.86093968 0.09738785]\n",
    " [0.71270594 0.26351816]\n",
    " [0.73246175 0.30949324]]\n",
    "```\n",
    "\n",
    "Proszę porównać uzyskane wartości. Czy liczby są zgodne z oczekiwaniami? "
   ]
  },
  {
   "cell_type": "code",
   "execution_count": null,
   "metadata": {},
   "outputs": [],
   "source": [
    "print(\"Mean:\\n\",...)\n",
    "print(\"Sigma:\\n\",...)\n",
    "print(df_subset....)\n",
    "print(df_subset....)"
   ]
  },
  {
   "cell_type": "markdown",
   "metadata": {
    "id": "eatL-qfbZ7g0"
   },
   "source": [
    "#### Porównanie dopasowanych rozkładów z danymi.\n",
    "Komórki poniżej zawierają funkcje:\n",
    "\n",
    "* ```plot_2d_gaussian(mean, covariance, axis)``` - funkcja która rysuje dwuwymiarowy rozkłąd Gaussa o średniej ```mean``` i diagonalej macierzy kowariancji ```np.diag(cov)``` na obszarze danymn przez obiekt ```axis```\n",
    "* ```plot_2d_divison(model, axis)``` - funkcja która rysuje kontury podziału na klasy na podstawie modelu ```model``` na obszarze danymn przez obiekt ```axis```"
   ]
  },
  {
   "cell_type": "code",
   "execution_count": null,
   "metadata": {},
   "outputs": [],
   "source": [
    "def plot_2d_gaussian(mean, cov, axis):\n",
    "    xx, yy = np.mgrid[-2:2:0.1, -2:2:0.1]\n",
    "    pos = np.dstack((xx, yy))\n",
    "    zz = multivariate_normal.pdf(pos, mean=mean, cov=np.diag(cov))\n",
    "    axis.contour(xx, yy, zz, 10) \n",
    "    \n",
    "def plot_2d_divison(model, axis):\n",
    "    xx, yy = np.mgrid[-3:3:0.1, -3:3:0.1]  \n",
    "    pos = np.c_[xx.ravel(), yy.ravel()]\n",
    "    zz = model.predict(pos)\n",
    "    zz = np.reshape(zz, xx.shape)\n",
    "    axis.contour(xx, yy, zz, cmap=plt.cm.Paired)"
   ]
  },
  {
   "cell_type": "markdown",
   "metadata": {},
   "source": [
    "Proszę narysować:\n",
    "\n",
    "* dwuwymiarowy rozkład danych dla analizowanego zbioru, korzystając z funkcji ```sns.jointplot```. Punkty powinny być pokolorowane według przyneleżności do gatunku.\n",
    "* korzystając z funkcji ```plot_2d_gaussian(mean, covariance, axis)``` na tym samym wykresie nanieść rozkłady Gaussa dopasowane przez model ```gnb = GaussianNB()```"
   ]
  },
  {
   "cell_type": "code",
   "execution_count": null,
   "metadata": {},
   "outputs": [],
   "source": [
    "graph = sns.jointplot(...)\n",
    "\n",
    "classNumber = 0\n",
    "plot_2d_gaussian(..., axis=graph.ax_joint)  "
   ]
  },
  {
   "cell_type": "markdown",
   "metadata": {
    "id": "fff8gKKmZ7g3"
   },
   "source": [
    "Proszę narysować:\n",
    "\n",
    "* dwuwymiarowy rozkład danych dla analizowanego zbioru, korzystając z funkcji ```sns.jointplot```. Punkty powinny być pokolorowane według przyneleżności do gatunku.\n",
    "* korzystając z funkcji ```plot_2d_divison(model, axis)``` na tym samym wykresie nanieść granice podziału na gatunki"
   ]
  },
  {
   "cell_type": "code",
   "execution_count": null,
   "metadata": {},
   "outputs": [],
   "source": [
    "graph = sns.jointplot(...)\n",
    "\n",
    "plot_2d_divison(..., axis=graph.ax_joint)"
   ]
  },
  {
   "cell_type": "markdown",
   "metadata": {
    "id": "80bCH4F5Z7hB"
   },
   "source": [
    "## Analiza jakości modelu\n",
    "Korzystająć z walidacji krzyżowej przeprowadzimy analizę miar jakości modeli. Skorzystamy z funkcji dostrczanych przez [Model evaluation](http://scikit-learn.org/stable/modules/model_evaluation.html)\n",
    "* upewnij się, że dokładnie rozumiesz co zwracają te funkcje [(sprawdź w dokumentacji)]\n",
    "* porównaj z definicjami z [wykładu](https://brain.fuw.edu.pl/edu/index.php/Uczenie_maszynowe_i_sztuczne_sieci_neuronowe/Wyk%C5%82ad_Ocena_jako%C5%9Bci_klasyfikacji) \n",
    "* proszę uzupełnić kod funkcji ```printScores(model, X, Y)``` - która przyjmuje dopasowany ```model```, cechy ```X``` oraz etykiety ```Y```\n",
    "* korzystając z funkcji ```printScores(model, X, Y)``` proszę wypisać wartości miar jakości dla modelu dopasowanego w poprzednich komórkach."
   ]
  },
  {
   "cell_type": "code",
   "execution_count": null,
   "metadata": {},
   "outputs": [],
   "source": [
    "def printScores(model, X, Y):\n",
    "    # użyj classification_report() żeby policzyć najpopularniejsze miary \n",
    "    print(\"Classification report:\")\n",
    "    print(classification_report(Y, model.predict(X)))\n",
    "    # wypisz macierz pomyłek \n",
    "    print(\"Confusion matrix:\")\n",
    "    print(confusion_matrix(...)\n",
    "    \n",
    "printScores(...)  "
   ]
  },
  {
   "cell_type": "markdown",
   "metadata": {
    "id": "DQd-aixOZ7hE"
   },
   "source": [
    "## Porównanie  modeli\n",
    "\n",
    "\n",
    "Korzystając z kodu napisanego w poprzednich komórkach stwórz trzy modele klasyfikatorów:\n",
    "* pierwszym niech będzie korzystał z cech ```[\"sepal width (cm)\",\"petal length (cm)\"]``` (nasz dotychczasowy model)\n",
    "* drugim niech korzysta tylko z cech ```[\"sepal length (cm)\",\"sepal width (cm)\"]```\n",
    "* trzeci niech korzysta ze wszytkich czterech cech\n",
    "* dla każdego z modeli wypisz wartości miar jakości. Prównaje te wartości między modelami."
   ]
  },
  {
   "cell_type": "code",
   "execution_count": null,
   "metadata": {
    "colab": {
     "base_uri": "https://localhost:8080/",
     "height": 34
    },
    "executionInfo": {
     "elapsed": 7390,
     "status": "ok",
     "timestamp": 1573211583161,
     "user": {
      "displayName": "Anna Dawid",
      "photoUrl": "https://lh3.googleusercontent.com/a-/AAuE7mBMAlqIzrWbyBbGSDvCFuCvvSN7Xx3h3HRKaToc0r4=s64",
      "userId": "02862484648310443813"
     },
     "user_tz": -60
    },
    "id": "XTUhTx4mZ7hG",
    "outputId": "6a018ba5-7741-46fe-c649-c6db1bfc2799"
   },
   "outputs": [],
   "source": [
    "df_subset = ...\n",
    "...\n",
    "...\n",
    "gnb_features_1_2 = GaussianNB()\n",
    "\n",
    "..."
   ]
  },
  {
   "cell_type": "code",
   "execution_count": null,
   "metadata": {},
   "outputs": [],
   "source": [
    "df_subset = ...\n",
    "...\n",
    "...\n",
    "gnb_features_0_1 = GaussianNB()\n",
    "...\n",
    "..."
   ]
  },
  {
   "cell_type": "code",
   "execution_count": null,
   "metadata": {},
   "outputs": [],
   "source": [
    "df_subset = ...\n",
    "...\n",
    "...\n",
    "gnb_features_all = GaussianNB()\n",
    "...\n",
    "..."
   ]
  },
  {
   "cell_type": "markdown",
   "metadata": {},
   "source": [
    "## Analiza wpływu normalizacji danych.\n",
    "\n",
    "* proszę wytenować model na wszytkich cechach, ale korzystając z oryginalnych danych - bez normalizacji wartości cech\n",
    "* dla tego modelu proszę wypisać wartości miar jakości\n",
    "\n",
    "Czy normalizacja wpływa na wydajność naszego modelu?"
   ]
  },
  {
   "cell_type": "code",
   "execution_count": null,
   "metadata": {},
   "outputs": [],
   "source": [
    "# Stwórz model 4, bez normalizacji danych\n",
    "df_subset = ...\n",
    "...\n",
    "...\n",
    "# dofituj parametry klasyfikatora \n",
    "gnb_features_all = GaussianNB()\n",
    "...\n",
    "..."
   ]
  }
 ],
 "metadata": {
  "colab": {
   "collapsed_sections": [],
   "name": "04M_Bayes_irysy.ipynb",
   "provenance": [
    {
     "file_id": "18GZJRU1jLT766DuWKP8HaxfM0leRXJlH",
     "timestamp": 1573037468536
    }
   ]
  },
  "kernelspec": {
   "display_name": "Python 3",
   "language": "python",
   "name": "python3"
  },
  "language_info": {
   "codemirror_mode": {
    "name": "ipython",
    "version": 3
   },
   "file_extension": ".py",
   "mimetype": "text/x-python",
   "name": "python",
   "nbconvert_exporter": "python",
   "pygments_lexer": "ipython3",
   "version": "3.6.9"
  }
 },
 "nbformat": 4,
 "nbformat_minor": 4
}
