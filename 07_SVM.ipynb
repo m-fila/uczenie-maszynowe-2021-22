{
 "cells": [
  {
   "cell_type": "markdown",
   "metadata": {
    "id": "XRRmZQCjce0n"
   },
   "source": [
    "# Klasyfikacja za pomocą algorytmu wektorów wspierających (SVM)\n",
    "\n",
    "Na tych ćwiczeniach zapoznamy się z zastosowaniem SVM do klasyfikacji.\n"
   ]
  },
  {
   "cell_type": "code",
   "execution_count": null,
   "metadata": {
    "id": "Z9elf7UFce0p"
   },
   "outputs": [],
   "source": [
    "import numpy as np\n",
    "import matplotlib.pylab as plt\n",
    "import pandas as pd\n",
    "import seaborn as sns\n",
    "from sklearn.svm import SVC\n",
    "from sklearn import datasets\n",
    "from sklearn.metrics import classification_report, confusion_matrix\n",
    "\n",
    "def printScores(model, X, Y):\n",
    "    # użyj classification_report() żeby policzyć najpopularniejsze miary \n",
    "    print(\"Classification report:\")\n",
    "    print(classification_report(Y, model.predict(X)))\n",
    "    # wypisz macierz pomyłek \n",
    "    print(\"Confusion matrix:\")\n",
    "    print(confusion_matrix(Y, model.predict(X)))"
   ]
  },
  {
   "cell_type": "markdown",
   "metadata": {
    "id": "i0Y7co2kce0t"
   },
   "source": [
    "## Zbiór danych irysy\n",
    "Tak jak w notebooku \"Naiwny klasyfikator Bayesa\" używać będziemy zbiór `Iris`. Dla wygodny ponownie umieścimy dane w `pandas.DataFrame`.\n",
    "\n",
    "Proszę:\n",
    "- załadować dane za pomocą `sklearn.dataset.load_iris`,\n",
    "- umieścić dane w `pandas.DataFrame`,\n",
    "- wypisać dostępne kolumny.\n",
    "\n"
   ]
  },
  {
   "cell_type": "code",
   "execution_count": null,
   "metadata": {
    "colab": {
     "base_uri": "https://localhost:8080/"
    },
    "deletable": false,
    "id": "ftGa5W32ce0u",
    "nbgrader": {
     "cell_type": "code",
     "checksum": "c7bce861e22a6f81c2369751ced9dd75",
     "grade": false,
     "grade_id": "B0D69A874EF74F03",
     "locked": false,
     "schema_version": 3,
     "solution": true,
     "task": false
    },
    "outputId": "92b3f99b-2c66-485b-a53a-76ddc66a408f"
   },
   "outputs": [],
   "source": [
    "# iris = ...\n",
    "# iris_df = ...\n",
    "### YOUR CODE HERE\n",
    "print(iris_df.columns)"
   ]
  },
  {
   "cell_type": "markdown",
   "metadata": {
    "id": "vceLTaCZHH9t"
   },
   "source": [
    "## Klasyfikacja liniowa SVM"
   ]
  },
  {
   "cell_type": "markdown",
   "metadata": {
    "id": "FOhagrM0ce0w"
   },
   "source": [
    "#### Przygotowanie danych\n",
    "\n",
    "W pierwszej części ćwiczeń zapoznamy się ze specyfiką modeli SVM. Wyłącznie w celu ułatwienia wizualizacji ograniczymy się na razie do dwóch cech i dwóch klas. \n",
    "\n",
    "Proszę:\n",
    "- utworzyć nowy `pandas.DataFrame` zawierający jedynie cechy `petal width (cm)`,  `petal length (cm)` dla klas `0`, `1`,\n",
    "- wypisać na ekran początkowe wiersze (`pandas.DataFrame.head`)."
   ]
  },
  {
   "cell_type": "code",
   "execution_count": null,
   "metadata": {
    "colab": {
     "base_uri": "https://localhost:8080/",
     "height": 206
    },
    "deletable": false,
    "id": "QFEsI3JGce0w",
    "nbgrader": {
     "cell_type": "code",
     "checksum": "528c952a6120f39db2e370680be55c1c",
     "grade": false,
     "grade_id": "A2974D62539F4FCF",
     "locked": false,
     "schema_version": 3,
     "solution": true,
     "task": false
    },
    "outputId": "5f36b8e2-5838-47fc-fc83-d8bf8a4e0003"
   },
   "outputs": [],
   "source": [
    "chosen_features=['petal length (cm)','petal width (cm)']\n",
    "drop_columns=['sepal length (cm)','sepal width (cm)']\n",
    "# df = ...\n",
    "### YOUR CODE HERE\n"
   ]
  },
  {
   "cell_type": "markdown",
   "metadata": {
    "id": "-3albqE7ce0z"
   },
   "source": [
    "### Analiza wizualna danych\n",
    "Proszę:\n",
    "- narysować wykres punktowy cech `petal length (cm)`, `petal width (cm)` w zależności od klasy,\n",
    "- na podstawie rysunku stwierdzić, czy klasy są łatwo separowalne."
   ]
  },
  {
   "cell_type": "code",
   "execution_count": null,
   "metadata": {
    "colab": {
     "base_uri": "https://localhost:8080/",
     "height": 458
    },
    "deletable": false,
    "id": "d1pTWJToce0z",
    "nbgrader": {
     "cell_type": "code",
     "checksum": "5eed67ca172c896f518e9c339118a0c9",
     "grade": false,
     "grade_id": "BD1FBC41333944F7",
     "locked": false,
     "schema_version": 3,
     "solution": true,
     "task": false
    },
    "outputId": "82f57905-3414-4fc9-d3f8-9eab65aee84f"
   },
   "outputs": [],
   "source": [
    "# sns.jointplot(...)\n",
    "### YOUR CODE HERE"
   ]
  },
  {
   "cell_type": "markdown",
   "metadata": {
    "id": "AAXJD12Zce02"
   },
   "source": [
    "#### Trening klasyfikatora\n",
    "\n",
    "Proszę:\n",
    "- zaimportować model `SVC` z `sklearn.svm`. Aby uzyskać model liniowy należy podać parametr `kernel = linear`,\n",
    "- wyuczyć model na ostatnio przygotowanych danych,\n",
    "- wypisać miary jakości za pomocą funkcji `printScores` używanej na poprzednich ćwiczeniach,\n",
    "- na podstawie analizy metryk stwierdzić, jak dobrze klasy zostały odseparowane."
   ]
  },
  {
   "cell_type": "code",
   "execution_count": null,
   "metadata": {
    "colab": {
     "base_uri": "https://localhost:8080/"
    },
    "deletable": false,
    "id": "rxtvTDUYy1Bj",
    "nbgrader": {
     "cell_type": "code",
     "checksum": "20014e1d09428efdcae2edda6e9077d9",
     "grade": false,
     "grade_id": "AB0F55CB74DB4AF8",
     "locked": false,
     "schema_version": 3,
     "solution": true,
     "task": false
    },
    "outputId": "32d8726d-385f-4904-ab7e-97c7827ed0a7"
   },
   "outputs": [],
   "source": [
    "# model = ...\n",
    "# model.fit(...)\n",
    "# printScores(..)\n",
    "### YOUR CODE HERE"
   ]
  },
  {
   "cell_type": "markdown",
   "metadata": {
    "id": "_avwpll9saxH"
   },
   "source": [
    "### Wizualizacja separacji klas\n",
    "Wynik naszego modelu możemy zobrazować za pomocą położenia wektorów wspierających oraz granic funkcji decyzyjnej.\n",
    "\n",
    "Proszę\n",
    "- wypisać wektory wspierające za pomocą `SVC.support_vectors_`,\n",
    "- na jednym rysunku narysować dane, wektory wspierające i granice funkcji decyzyjnej. Wykorzystaj zdefiniowane poniżej funkcje `plot_support_vectors` i `plot_decision_function`."
   ]
  },
  {
   "cell_type": "code",
   "execution_count": null,
   "metadata": {
    "id": "sBqYjpEDu4qh"
   },
   "outputs": [],
   "source": [
    "def plot_support_vectors(support_vectors, axis):\n",
    "  axis.scatter(support_vectors[:,0], support_vectors[:,1],s=100,\n",
    "               linewidth=1, facecolors='none', edgecolors='k')\n",
    "  \n",
    "def plot_decision_function(model, axis):\n",
    "  xlim = axis.get_xlim()\n",
    "  ylim = axis.get_ylim()\n",
    "  xx = np.linspace(xlim[0], xlim[1], 30)\n",
    "  yy = np.linspace(ylim[0], ylim[1], 30)\n",
    "  YY, XX = np.meshgrid(yy, xx)\n",
    "  xy = np.vstack([XX.ravel(), YY.ravel()]).T\n",
    "  Z = model.decision_function(xy).reshape(XX.shape)\n",
    "\n",
    "  axis.contour(\n",
    "      XX, YY, Z, colors=\"k\", levels=[-1, 0, 1], alpha=0.5, linestyles=[\"--\", \"-\", \"--\"]\n",
    "  )"
   ]
  },
  {
   "cell_type": "code",
   "execution_count": null,
   "metadata": {
    "colab": {
     "base_uri": "https://localhost:8080/",
     "height": 510
    },
    "deletable": false,
    "id": "uAtnmWzCce04",
    "nbgrader": {
     "cell_type": "code",
     "checksum": "c2b8ac75d361b3852a731356236f0868",
     "grade": false,
     "grade_id": "EE22EB5B66194BFB",
     "locked": false,
     "schema_version": 3,
     "solution": true,
     "task": false
    },
    "outputId": "7b343f49-3e57-447d-9c09-0e28ee2ebc97"
   },
   "outputs": [],
   "source": [
    "# print(...)\n",
    "# graph=sns.jointplot(...)\n",
    "# plot_support_vectors(...)\n",
    "# plot_decision_function(...)\n",
    "### YOUR CODE HERE"
   ]
  },
  {
   "cell_type": "markdown",
   "metadata": {
    "id": "gTYbYRAFjjvs"
   },
   "source": [
    "Poprzednim razem, gdy pracowaliśmy ze zbiorem danych `Iris` zaczeliśmy od znormalizowania danych. Sprawdźmy, czy normalizacja wpływa na model SVM.\n",
    "Poprzednim razem sami implementowaliśmy normalizację, teraz zrobimy to za pomocą `sklearn.preprocessing.StandardScaler`\n",
    "\n",
    "Proszę:\n",
    "- utworzyć nowy `pandas.DataFrame` zawierający znormalizowane cechy `['petal length (cm)','petal width (cm)']`. Do normalizacji wykorzystaj `sklearn.preprocessing.StandardScaler`,\n",
    "- utworzyć model liniowy SVM i wyuczyć go na znormalizowanych danych,\n",
    "- na jednym rysynku przedstawić znormalizowane dane oraz wektory wspierające i granicę decyzyjną modelu.\n"
   ]
  },
  {
   "cell_type": "code",
   "execution_count": null,
   "metadata": {
    "id": "i7dB-mwzjjW9"
   },
   "outputs": [],
   "source": [
    "from sklearn.preprocessing import StandardScaler"
   ]
  },
  {
   "cell_type": "code",
   "execution_count": null,
   "metadata": {
    "colab": {
     "base_uri": "https://localhost:8080/",
     "height": 476
    },
    "deletable": false,
    "id": "OWLy6guzj7Xw",
    "nbgrader": {
     "cell_type": "code",
     "checksum": "9e49ac67e40102591b6a4e5b8f03d6cd",
     "grade": false,
     "grade_id": "ABEFD6EE27764054",
     "locked": false,
     "schema_version": 3,
     "solution": true,
     "task": false
    },
    "outputId": "24a97d62-41da-448a-8276-445561c045b2"
   },
   "outputs": [],
   "source": [
    "# df_norm = ...\n",
    "# scaler = ...\n",
    "# model = ...\n",
    "### YOUR CODE HERE"
   ]
  },
  {
   "cell_type": "markdown",
   "metadata": {
    "id": "2DLskQ4AnSQr"
   },
   "source": [
    "Porównując z poprzednim rysunkiem, powinniśmy otrzymać inną granicę decyzyjną pomimo tego, że dane mają ten sam kształt.\n",
    "\n",
    "**Normalizacja jest bardzo ważna dla modeli SVM!**"
   ]
  },
  {
   "cell_type": "markdown",
   "metadata": {
    "id": "ps3RiJRuJ_0X"
   },
   "source": [
    "### Klasyfikacja miękkiego marginesu\n",
    "\n",
    "Sprawdźmy teraz, jak model liniowy SVM sprawdzi się do klasyfikacji klas `1` i `2`, które nie są już w pełni odseparowane\n",
    "\n",
    "Proszę:\n",
    "- przygotować nowy `pandas.DataFrame` zawierający znormalizowane cechy `['petal length (cm)','petal width (cm)']` dla klas `1`, `2`,\n",
    "- narysować przygotowany zbiór danych,\n",
    "- na podstawie analizy rysunku stwierdzić, czy dane są łatwo separowalne, czy też klasy się częściowo przekrywają."
   ]
  },
  {
   "cell_type": "code",
   "execution_count": null,
   "metadata": {
    "colab": {
     "base_uri": "https://localhost:8080/",
     "height": 206
    },
    "deletable": false,
    "id": "dDgT8fJTKmnp",
    "nbgrader": {
     "cell_type": "code",
     "checksum": "da5cdfdb925c2d0a49d8500603b4ddec",
     "grade": false,
     "grade_id": "131C6E9212764DD9",
     "locked": false,
     "schema_version": 3,
     "solution": true,
     "task": false
    },
    "outputId": "cce3887c-c47a-4cc1-f118-e7824bea0c37"
   },
   "outputs": [],
   "source": [
    "# df = ...\n",
    "### YOUR CODE HERE\n",
    "df.head()"
   ]
  },
  {
   "cell_type": "code",
   "execution_count": null,
   "metadata": {
    "colab": {
     "base_uri": "https://localhost:8080/",
     "height": 458
    },
    "deletable": false,
    "id": "Scci13UzK3bU",
    "nbgrader": {
     "cell_type": "code",
     "checksum": "c2ba01f91ec801079e6732334c640bc7",
     "grade": false,
     "grade_id": "15EFE56C4D704F65",
     "locked": false,
     "schema_version": 3,
     "solution": true,
     "task": false
    },
    "outputId": "fdf31cd8-c963-4f31-dd8a-773b1040bcfe"
   },
   "outputs": [],
   "source": [
    "# sns.jointplot(...)\n",
    "### YOUR CODE HERE"
   ]
  },
  {
   "cell_type": "markdown",
   "metadata": {
    "id": "6d_I1J67v--l"
   },
   "source": [
    "Proszę:\n",
    "- utworzyć model liniowy SVM i wyuczyć go na zbiorze danych,\n",
    "- narysować zbiór danych oraz wektory wspierające i granice funkcji decyzyjnej,modelu\n",
    "- wypisać miary jakości.\n"
   ]
  },
  {
   "cell_type": "code",
   "execution_count": null,
   "metadata": {
    "colab": {
     "base_uri": "https://localhost:8080/",
     "height": 632
    },
    "deletable": false,
    "id": "NzLYnFRmLOks",
    "nbgrader": {
     "cell_type": "code",
     "checksum": "0391ad7209997bfa3e499efd55338fe0",
     "grade": false,
     "grade_id": "F0ADCC16C4E843F0",
     "locked": false,
     "schema_version": 3,
     "solution": true,
     "task": false
    },
    "outputId": "8c2d190e-98cf-41ad-c589-77173c99dcf6"
   },
   "outputs": [],
   "source": [
    "### YOUR CODE HERE"
   ]
  },
  {
   "cell_type": "markdown",
   "metadata": {
    "id": "G6nQxBRx50W8"
   },
   "source": [
    "Tym razem klasy nie są odseparowane, więc model musi czasem się mylić.\n",
    "\n",
    "Model SVM ma hiperparametr `C` odpowiadający za szerokość marginesu.\n",
    "\n",
    "Proszę:\n",
    "- narysować dane, granice decyzyjne i wektory nośne dla hiperparametru `C` równego `0.1`, `1`,`100`."
   ]
  },
  {
   "cell_type": "code",
   "execution_count": null,
   "metadata": {
    "colab": {
     "base_uri": "https://localhost:8080/",
     "height": 438
    },
    "deletable": false,
    "id": "cKl3jQpdMsXo",
    "nbgrader": {
     "cell_type": "code",
     "checksum": "79b70a4e0ccdb91bfe55262da99cb0fb",
     "grade": false,
     "grade_id": "803C4ED507E44C5E",
     "locked": false,
     "schema_version": 3,
     "solution": true,
     "task": false
    },
    "outputId": "3d40363a-5d83-43a3-fd56-21aa0a0a69a2"
   },
   "outputs": [],
   "source": [
    "fig, axes=plt.subplots(1,3, figsize=(15,5))\n",
    "C_range=[0.1,1,100]\n",
    "for ax, C in zip(axes, C_range):\n",
    "  # model = ...\n",
    "  # model.fit(...)\n",
    "  # graph=sns.scatterplot( ..., ax=ax)\n",
    "  # plot_support_vectors(...)\n",
    "  # plot_decision_function(...)\n",
    "  ### YOUR CODE HERE"
   ]
  },
  {
   "cell_type": "markdown",
   "metadata": {
    "id": "AWXe8Ec8ce1E"
   },
   "source": [
    "## Zbiory nieseparowalne liniowo\n",
    "\n",
    "Liniowe klasyfikatory w wielu przypadkach sprawdzają się bardzo dobrze, jednak wiele zbiorów nie jest liniowo rozdzielnych."
   ]
  },
  {
   "cell_type": "markdown",
   "metadata": {
    "id": "U5SbxC4CHWTQ"
   },
   "source": [
    "#### Okręgi \n",
    "Na początek potrzebujemy wygenerować liniowo nierozdzielny zbiór danych. `sklearn.datasets` oferuje funkcję `make_circles` tworzącą dane w kształcie współśrodkowych okręgów, które z całą pewnością nie są liniowo separowalne.\n",
    "\n",
    "Proszę:\n",
    "- korzystając z `sklearn.datasets.make_circles` przygotować dane. Przygotuj 1000 punktów w skali 0.1 i z poziomem szumów równym 0.1,\n",
    "- umieścić wygenerowane dane w `pandas.DataFrame` o kolumnach `x1`, `x2`, `label`,\n",
    "- narysować wykres punktowy cech `x1` i `x2` z uwzględnieniem przynależności do klas.\n"
   ]
  },
  {
   "cell_type": "code",
   "execution_count": null,
   "metadata": {
    "colab": {
     "base_uri": "https://localhost:8080/",
     "height": 458
    },
    "deletable": false,
    "id": "53D6GV8fce1F",
    "nbgrader": {
     "cell_type": "code",
     "checksum": "02e28dc8e779c5839af6c868cc458357",
     "grade": false,
     "grade_id": "12605C8E9105420F",
     "locked": false,
     "schema_version": 3,
     "solution": true,
     "task": false
    },
    "outputId": "12de8208-99b0-4596-c70c-101c3bf8715e"
   },
   "outputs": [],
   "source": [
    "# X, y=datasets.make_circles(...)\n",
    "# df = ...\n",
    "# sns.jointplot(...)\n",
    "### YOUR CODE HERE"
   ]
  },
  {
   "cell_type": "markdown",
   "metadata": {
    "id": "VMhgCfCq9R7c"
   },
   "source": [
    "Dane mamy gotowe, sprawdźmy jak liniowy mode SVM sobie z nimi (nie)poradzi\n",
    "\n",
    "Proszę:\n",
    "- utworzyć model liniowy `SVM` i wyuczyć go na przygotowanych danych,\n",
    "- narysować wykres punktowy cech `x1` i `x2` z uwzględnieniem ,przynależności do klas, wektorami nośnymi i granicami decyzyjnymi (wykorzystaj przygotowane wcześniej funkcje),\n",
    "- wypisać miary jakości."
   ]
  },
  {
   "cell_type": "code",
   "execution_count": null,
   "metadata": {
    "colab": {
     "base_uri": "https://localhost:8080/",
     "height": 632
    },
    "deletable": false,
    "id": "04MNBLdG9RYD",
    "nbgrader": {
     "cell_type": "code",
     "checksum": "71179b57d65018ce7c19ced8c648b2b0",
     "grade": false,
     "grade_id": "12D5FC6C8E204359",
     "locked": false,
     "schema_version": 3,
     "solution": true,
     "task": false
    },
    "outputId": "9497096c-c2e8-4fe5-c77a-bc372997cfc4"
   },
   "outputs": [],
   "source": [
    "### YOUR CODE HERE"
   ]
  },
  {
   "cell_type": "markdown",
   "metadata": {
    "id": "Idied0jO-WJN"
   },
   "source": [
    "Jedną z możliwości poradzenie sobie z takim problem jest _feature engineering_, tzn. dodanie nowych cech, które lepiej opisywać będą nasz model. Jeżeli wymyślimy cechę, w której nasze dane będą separowalne liniow to możemy dalej przeprowadzać klasyfikację liniową. W przypadku naszego zbioru danych w kształcie okręgów taką cechą jest ich promień.\n",
    "\n",
    "Proszę:\n",
    "- dodać nową cechę `radius` będącą pierwiastkiem sumy kwadratów cech `x1` i `x2`,\n",
    "- narysować wykres punktowy cech `x1` i `radius` z uwzględnieniem przynależności do klas,\n",
    "- utworzyć model i wyuczyć go na przygotowanych danych,\n",
    "- wypisać miary jakości."
   ]
  },
  {
   "cell_type": "code",
   "execution_count": null,
   "metadata": {
    "colab": {
     "base_uri": "https://localhost:8080/",
     "height": 458
    },
    "deletable": false,
    "id": "e1ScwoghzGCp",
    "nbgrader": {
     "cell_type": "code",
     "checksum": "d2840ec2fd04299c312dd3f4a7b4e4f3",
     "grade": false,
     "grade_id": "81CEB2D569FA41B1",
     "locked": false,
     "schema_version": 3,
     "solution": true,
     "task": false
    },
    "outputId": "1a4a46b7-7e10-42e6-ed79-a226669a2a69"
   },
   "outputs": [],
   "source": [
    "# df['radius'] = ...\n",
    "# sns.jointplot(...)\n",
    "### YOUR CODE HERE"
   ]
  },
  {
   "cell_type": "code",
   "execution_count": null,
   "metadata": {
    "colab": {
     "base_uri": "https://localhost:8080/",
     "height": 632
    },
    "deletable": false,
    "id": "Be1H-9JvSPN3",
    "nbgrader": {
     "cell_type": "code",
     "checksum": "48b270176680cc8e305755cf669aba42",
     "grade": false,
     "grade_id": "796BD5231E8646B1",
     "locked": false,
     "schema_version": 3,
     "solution": true,
     "task": false
    },
    "outputId": "682152cf-401c-4178-991e-ccca25d3ad01"
   },
   "outputs": [],
   "source": [
    "### YOUR CODE HERE"
   ]
  },
  {
   "cell_type": "markdown",
   "metadata": {
    "id": "VzbCwj8oBll3"
   },
   "source": [
    "#### Sierpy\n",
    "\n",
    "Dla danych o kształcie okręgów udało nam się wymyślić cechę pozwalającą na separację liniową. Zazwyczaj jednak wymyślenie takiej cechy jest bardzo trudne i wymaga bardzo dużej wiedzy o zbiorze danych.\n",
    "\n",
    "Spróbujmy szczęścia ze zbiorem w kształcie sierpów generowanym przez `sklearn.datasets.make_moons`.\n",
    "\n",
    "Proszę (większość kodu można przekopiować z przykładu z okręgami):\n",
    "- korzystając z `sklearn.datasets.make_moons` przygotować dane. Przygotuj 1000 punktów z poziomem szumów równym 0.1,\n",
    "- umieścić wygenerowane dane w `pandas.DataFrame` o kolumnach `x1`, `x2`, `label`,\n",
    "- narysować wykres punktowy cech `x1` i `x2` z uwzględnieniem przynależności do klas.\n",
    "\n"
   ]
  },
  {
   "cell_type": "code",
   "execution_count": null,
   "metadata": {
    "colab": {
     "base_uri": "https://localhost:8080/",
     "height": 458
    },
    "deletable": false,
    "id": "nUj4ZNLyDcRy",
    "nbgrader": {
     "cell_type": "code",
     "checksum": "ad342e394f27801b0b72176f1a1fd680",
     "grade": false,
     "grade_id": "7F30DC27064F4C8F",
     "locked": false,
     "schema_version": 3,
     "solution": true,
     "task": false
    },
    "outputId": "7e94bc2d-80ef-4b39-b544-d0cfc37837a3"
   },
   "outputs": [],
   "source": [
    "# X, y = datasets.make_moons(...)\n",
    "# df = ...\n",
    "# sns.jointplot(...)\n",
    "### YOUR CODE HERE"
   ]
  },
  {
   "cell_type": "markdown",
   "metadata": {
    "id": "oT8xsD-1Da78"
   },
   "source": [
    "Po krótkim namyśłe prawdopobnie nie jesteśmy wstanie podać żadnej cechy, która rozwiązałaby nasz problem. W takim razie możemy podążyć kilkoma drogami:\n",
    "1. Dalej brnąć w modyfikowanie zbioru danych, np. dodać kolejne cechy korzystając z rozwinięcia wielomianowego (np. dla rozwinięcią wielomianowego stopnia 2  ze zbioru cech `(a,b,c)` dostaniemy cechy `(a, b, c, a*b, a*c, b*c, a*a, b*b, c*c)`. W tym przypadku ryzykujemy, że znacząco zwiększymy rozmiar zbioru danych, większość wygenerowanych cech i tak nie będzie zbyt istotna, a model stanie się bardziej podatny na przetrenowanie. `sklearn.preprocessing` ma oczywiście przygotowaną do tego gotową funkcję `PolynomialFeatures`.\n",
    "1. Zmienić model na nieliniowy."
   ]
  },
  {
   "cell_type": "markdown",
   "metadata": {
    "id": "uZxhuyIR9LCj"
   },
   "source": [
    "## Klasyfikacja nieliniowa SVM"
   ]
  },
  {
   "cell_type": "markdown",
   "metadata": {
    "id": "NnBKmwLbI8fk"
   },
   "source": [
    "W dalszej części wybierzemy opcję 2., co w naszym przypadku oznacza odejście od modelu liniowego SVM na rzecz modeli SVM z jądrem. Przetestujemy jądra wielomianowe oraz gaussowkie rbf.\n",
    "\n",
    "\n",
    "Proszę:\n",
    "- wyszkolić serię modeli SVM z jądrem wielomianowym o stopniach `2`, `3` i `4`. Rodzaj jądra można ustawić parametrem `kernel = 'poly'`, natomiast za stopnień wielomianu odpowiada `degree`. Parametr `C` powinien być taki sam dla wszystkich modeli, proszę użyć `0.1`,\n",
    "- dla każdego modelu wykonać rysunek danych, wektorów wspierających i granicy decyzyjnej.\n"
   ]
  },
  {
   "cell_type": "code",
   "execution_count": null,
   "metadata": {
    "colab": {
     "base_uri": "https://localhost:8080/",
     "height": 439
    },
    "deletable": false,
    "id": "xJ-vtILnfXlZ",
    "nbgrader": {
     "cell_type": "code",
     "checksum": "3c175924bb09994a6f3fa5fe9ecfe7a0",
     "grade": false,
     "grade_id": "98C8F21C633B4666",
     "locked": false,
     "schema_version": 3,
     "solution": true,
     "task": false
    },
    "outputId": "58be1f8d-bbb3-4440-95c3-324a52eb4b3c"
   },
   "outputs": [],
   "source": [
    "_, axes=plt.subplots(1,3, figsize=(15,5))\n",
    "degree_range=[2,3,4]\n",
    "for ax, degree in zip(axes, degree_range):\n",
    "  # model = SVC(kernel='poly', C=0.1, coef0=1,...)\n",
    "  ### YOUR CODE HERE"
   ]
  },
  {
   "cell_type": "markdown",
   "metadata": {
    "id": "JDa0aoev3fKL"
   },
   "source": [
    "Proszę:\n",
    "- wyszkolić serię modeli SVM z jądrem gaussowskim `rbf` o współczynnikach $\\gamma $ równych `0.01`, `1` i `10`. Rodzaj jądra można ustawić parametrem `kernel = 'rbf'`, natomiast współczynnik $\\gamma$ można kontrolować parametrem `gamma`. Parametr `C` powinien być taki sam dla wszystkich modeli, proszę użyć `0.1`,\n",
    "- dla każdego modelu wykonać rysunek danych, wektorów wspierających i granicy decyzyjnej."
   ]
  },
  {
   "cell_type": "code",
   "execution_count": null,
   "metadata": {
    "colab": {
     "base_uri": "https://localhost:8080/",
     "height": 439
    },
    "deletable": false,
    "id": "IcsYFsbP5FNd",
    "nbgrader": {
     "cell_type": "code",
     "checksum": "9b0b13738b5c2982b2fd4dd1db211f5b",
     "grade": false,
     "grade_id": "AD806CB2B35B43EE",
     "locked": false,
     "schema_version": 3,
     "solution": true,
     "task": false
    },
    "outputId": "702ec461-5477-46f7-eab6-5a20620b0723"
   },
   "outputs": [],
   "source": [
    "_, axes=plt.subplots(1,3, figsize=(15,5))\n",
    "gamma_range=[0.01,1,10]\n",
    "for ax, gamma in zip(axes, gamma_range):\n",
    "  # model = SVC(kernel='rbf', C=0.1, ...)\n",
    "  ### YOUR CODE HERE"
   ]
  },
  {
   "cell_type": "markdown",
   "metadata": {
    "id": "3Es83L2Mce1I"
   },
   "source": [
    "### Klasyfikacja SVM irysów\n"
   ]
  },
  {
   "cell_type": "markdown",
   "metadata": {
    "id": "PuamGEyhce1V"
   },
   "source": [
    "Mając już pewne doświadczenie z modelami SVM wracamy do zbiorów irysów. Wciąż pracować będziemy z tymi samymi dwiema cechami (żeby  łatwo robić rysunki), ale tym razem będziemy pracować na wszystkich klasach, na poważnie dobierzemy hiperparametry i ocenimy jakość klasyfikacji.\n",
    "\n",
    "Proszę:\n",
    "- przygotwać nowy `pandas.DataFrame` zawierający znormalizowane cechy `['petal length (cm)','petal width (cm)']` dla klas `1`, `2`,\n",
    "- podzielić zbiór danych na zbiór treningowy i testowy. Zbiór testowy powinien wynosić `0.3` całego zbioru,\n",
    "- ustalić normalizację na zbiorze treningowym, następnie znormalizować oba zbiory,\n",
    "- wytrenować CVM z jądrem RBF  parametrami `gamma=1, C=0.1`,\n",
    "- wypisać wartości metryk na danych testowych dla uzyskanego modelu."
   ]
  },
  {
   "cell_type": "code",
   "execution_count": null,
   "metadata": {
    "id": "0LqGHkdMJ6ZL"
   },
   "outputs": [],
   "source": [
    "from sklearn.model_selection import train_test_split"
   ]
  },
  {
   "cell_type": "code",
   "execution_count": null,
   "metadata": {
    "deletable": false,
    "id": "MRsDiHYDQ8BY",
    "nbgrader": {
     "cell_type": "code",
     "checksum": "00ee7b592b0b990cafcd0d031873070a",
     "grade": false,
     "grade_id": "9E8C24C409C1406D",
     "locked": false,
     "schema_version": 3,
     "solution": true,
     "task": false
    }
   },
   "outputs": [],
   "source": [
    "# df = ...\n",
    "# X_train, X_test, y_train, y_test = train_test_split(...)\n",
    "### YOUR CODE HERE"
   ]
  },
  {
   "cell_type": "code",
   "execution_count": null,
   "metadata": {
    "colab": {
     "base_uri": "https://localhost:8080/"
    },
    "id": "IVGZvhZiKuc6",
    "outputId": "fcb49300-821a-48a8-f06a-4b8f634c7a57"
   },
   "outputs": [],
   "source": [
    "model=SVC(kernel='rbf', gamma=1, C=0.1)\n",
    "model.fit(X_train,y_train)\n",
    "print(classification_report(y_test,model.predict(X_test)))"
   ]
  },
  {
   "cell_type": "markdown",
   "metadata": {},
   "source": [
    "Korzystając z funkcji `plot_multiclass_decision(X, y, model)` zdefiniowanej poniżej proszę narysować granice podziału klas.\n",
    "\n",
    "Proszę:\n",
    "* stwierdzić, czy rysunek zgadza się z postacią macierzy pomyłek dla badanego modelu i danych."
   ]
  },
  {
   "cell_type": "code",
   "execution_count": null,
   "metadata": {
    "colab": {
     "base_uri": "https://localhost:8080/",
     "height": 441
    },
    "id": "GQzLuAvXLSgk",
    "outputId": "fc16b4db-60cc-417a-b7fb-57b7ec18d453"
   },
   "outputs": [],
   "source": [
    "def plot_multiclass_decision(X, y, model):\n",
    "  h=0.02\n",
    "  x_min, x_max = X[:, 0].min() - 1, X[:, 0].max() + 1\n",
    "  y_min, y_max = X[:, 1].min() - 1, X[:, 1].max() + 1\n",
    "  xx, yy = np.meshgrid(np.arange(x_min, x_max, h),\n",
    "                     np.arange(y_min, y_max, h))\n",
    "  Z = model.predict(np.c_[xx.ravel(), yy.ravel()])\n",
    "  Z = Z.reshape(xx.shape)\n",
    "  graph=sns.jointplot(x=X[:, 0], y=X[:, 1], hue=y)\n",
    "  graph.ax_joint.contour(xx, yy, Z, cmap=plt.cm.Paired, alpha=0.8)\n",
    "\n",
    "plot_multiclass_decision(X_test,y_test, model)"
   ]
  },
  {
   "cell_type": "markdown",
   "metadata": {
    "id": "azge6sX69twE"
   },
   "source": [
    "## Strojenie modelu\n",
    "\n",
    "Jeżeli interesuje nas otrzymanie najlepszego modelu to musimy znaleźć (dostroić) jego hiperparametry. Dla modelu SVM z jądrem możemy zmieniać hiperparametry takie jak `C`, rodzaj jądra i hiperparametry specyficzne dla jądra (`gamma` dla `rbf`, `degree` dla `poly`). Przeszukiwania takiej wielowymiarowej przestrzeni nie musimy implementować sami, gotowe narzędzia znajdują się w `sklearn.model_selection`:\n",
    "- `GridSearchCV` wykonujący systematyczny skan przestrzeni hiperparametrów,\n",
    "- `RandomizedSearchCV` losowo ją próbkujący.\n",
    "\n",
    "Proszę:\n",
    "\n",
    "- przygotować przestrzeń parametrów do przeszukania. Dla każdego typu jądra przygotuj słownik, gdzie kluczem jest nazwa parametru, a wartością jego zakres. Słownik powinien zawierać element o kluczu `kernel` o wartości będącej jednoelementową listą z nazwą jądra, np. `poly` dla wielomianowego,\n",
    "  - dla wszystkich jąder przeszukaj parametr `C` w zakresie od 0.01 do 100 rozłożonym równomiernie w skali logarytmicznej (`np.logspace`).\n",
    "  - dla jądra wielomianowego przeszukaj stopnie wielomianu równe 2,3,4.\n",
    "  - dla jądra rbf przeszukaj parametr `gamma` w zakresie od 0.01 do 100 rozłożonym równomiernie w skali logarytmicznej,\n",
    "- przygotować `GridSearchCV\n",
    "` dla modelu `SVC` w zdefiniowanej przestrzeni parametrów. Jako kryterium oceniające model przyjmij `scoring = accuracy`,\n",
    "- za pomocą `GridSearch.fit` znaleźć najlepsze parametry,\n"
   ]
  },
  {
   "cell_type": "code",
   "execution_count": null,
   "metadata": {
    "id": "gFW6v8HA9tYQ"
   },
   "outputs": [],
   "source": [
    "from sklearn.model_selection import GridSearchCV, RandomizedSearchCV \n",
    "from scipy.stats import uniform, expon\n"
   ]
  },
  {
   "cell_type": "code",
   "execution_count": null,
   "metadata": {
    "colab": {
     "base_uri": "https://localhost:8080/"
    },
    "id": "SMMITFXGOGa0",
    "outputId": "ed8fb0bf-4407-43b0-85fa-5a61a5d36a9c"
   },
   "outputs": [],
   "source": [
    "parameters_poly=dict(kernel=['poly'], C=np.logspace(-2,2,30), degree=[2,3,4])\n",
    "parameters_linear=dict(kernel=['linear'], C=np.logspace(-2,2,30))\n",
    "parameters_rbf=dict(kernel=['rbf'], C=np.logspace(-2,2,30), gamma=np.logspace(-2,2,30))\n",
    "parameters=[parameters_poly,parameters_linear, parameters_rbf]\n",
    "grid_search=GridSearchCV(SVC(),parameters, scoring='accuracy')\n",
    "grid_search.fit(X_train,y_train)"
   ]
  },
  {
   "cell_type": "markdown",
   "metadata": {
    "id": "yMUqZp4A7nEx"
   },
   "source": [
    "Proszę:\n",
    "- wypisać znalezione najlepsze parametry modelu (`GridSearchCV.best_params_`),\n",
    "- wypisać wynik najlepszego modelu (`GridSearchCV.best_score_`),\n",
    "- narysować narysować granice decyzyjne najlepszego modelu (najlepszy model dostępny jest pod `GridSearchCV.best_estimator_`),\n",
    "- stwierdzić, czy najlepszy model jest lepszy od modelu które były trenowane poprzednio."
   ]
  },
  {
   "cell_type": "code",
   "execution_count": null,
   "metadata": {
    "colab": {
     "base_uri": "https://localhost:8080/",
     "height": 476
    },
    "deletable": false,
    "id": "AzKB9mhahP7k",
    "nbgrader": {
     "cell_type": "code",
     "checksum": "d18b7f3e0accee87e35cf62c60765a03",
     "grade": false,
     "grade_id": "2AAEBB1B847948C2",
     "locked": false,
     "schema_version": 3,
     "solution": true,
     "task": false
    },
    "outputId": "d558d490-2df3-465f-9538-45058f094347"
   },
   "outputs": [],
   "source": [
    "# print(...)\n",
    "# print(...)\n",
    "# plot_multiclass_decision(...)\n",
    "### YOUR CODE HERE"
   ]
  },
  {
   "cell_type": "markdown",
   "metadata": {
    "id": "fCi7sXuk-CcR"
   },
   "source": [
    "Dla `RandomizedSearchCV` zamiast przestrzeni parametrów musimy przygotwać rozkład prawdopodobieństwa parametrów\n",
    "\n",
    "Proszę\n",
    "- przygotować rozkład prawdopodobieństwa parametrów. Dla każdego typu jądra przygotuj słownik, gdzie kluczem jest nazwa parametru, a wartością jego rozkład. Słownik powinien zawierać element o kluczu `kernel` o wartości będącej jednoelementową listą z nazwą jądra, np. `poly` dla wielomianowego.\n",
    "  - dla wszystkich jąder przeszukaj parametr `C` o rozkładzie wykładniczym (`scipy.stat.expon` ) z parametrem `scale=100`,\n",
    "  - dla jądra wielomianowego przeszukaj stopnie wielomianu o rozkładzie dyskretnym 2,3,4 (lista `[2,3,4]`),\n",
    "  - dla jądra rbf przeszukaj parametr `gamma` o rozkładzie wykładniczym z parametrem `scale=0.1`,\n",
    "- przygotować `RandomizedSearchCV` dla modelu `SVC` ze zdefiniowanym rozkładem parametrów. Jako kryterium oceniające model przyjmij `scoring = accuracy`,\n",
    "- za pomocą `RandomizedSearchCV.fit` znaleźć najlepsze parametry.\n",
    "\n",
    "Przykład dla jądra wielomianowego:\n",
    "\n",
    "```python\n",
    "distributions_poly=dict(kernel=['poly'], C=expon(scale=100), degree=[2,3,4])\n",
    "```"
   ]
  },
  {
   "cell_type": "code",
   "execution_count": null,
   "metadata": {
    "colab": {
     "base_uri": "https://localhost:8080/"
    },
    "id": "_NC9UYCIiBN1",
    "outputId": "4cd9566f-7ade-4002-991c-30caf1994930"
   },
   "outputs": [],
   "source": [
    "distributions_poly=dict(kernel=['poly'], C=expon(scale=100), degree=[2,3,4])\n",
    "distributions_linear=dict(kernel=['linear'], C=expon(scale=100))\n",
    "distributions_rbf=dict(kernel=['rbf'], C=expon(scale=100), gamma=expon(scale=0.1))\n",
    "distributions=[distributions_poly,distributions_linear, distributions_rbf]\n",
    "random_search=RandomizedSearchCV(SVC(),distributions, scoring = 'accuracy' ,random_state=1, n_iter = 1000)\n",
    "random_search.fit(X_train,y_train)"
   ]
  },
  {
   "cell_type": "markdown",
   "metadata": {
    "id": "ZKASnfLU_ZJB"
   },
   "source": [
    "Proszę:\n",
    "- wypisać znalezione najlepsze parametry modelu (`RandomizedSearchCV.best_params_`),\n",
    "- wypisać wynik najlepszego modelu (`RandomizedSearchCV.best_score_`),\n",
    "- narysować narysować granice decyzyjne najlepszego modelu (najlepszy model dostępny jest pod `RandomizedSearchCV.best_estimator_`),\n",
    "- analizyując macierz pomyłek i rysunek z podziałem klas stwierdzić czy udało się znaleźć model lepszy niż poprzednie."
   ]
  },
  {
   "cell_type": "code",
   "execution_count": null,
   "metadata": {
    "colab": {
     "base_uri": "https://localhost:8080/",
     "height": 476
    },
    "deletable": false,
    "id": "ZRmMfgfAjh0U",
    "nbgrader": {
     "cell_type": "code",
     "checksum": "f1363b0521ff4fef5428c633bc249094",
     "grade": false,
     "grade_id": "282F21343F13480C",
     "locked": false,
     "schema_version": 3,
     "solution": true,
     "task": false
    },
    "outputId": "263837cb-f965-4f73-89c3-a23f20ecd8b9"
   },
   "outputs": [],
   "source": [
    "# print(...)\n",
    "# print(...)\n",
    "# plot_multiclass_decision(...)\n",
    "### YOUR CODE HERE"
   ]
  },
  {
   "cell_type": "code",
   "execution_count": null,
   "metadata": {},
   "outputs": [],
   "source": []
  }
 ],
 "metadata": {
  "colab": {
   "collapsed_sections": [],
   "name": "07M_SVM.ipynb",
   "provenance": [],
   "toc_visible": true
  },
  "kernelspec": {
   "display_name": "Python 3 (ipykernel)",
   "language": "python",
   "name": "python3"
  },
  "language_info": {
   "codemirror_mode": {
    "name": "ipython",
    "version": 3
   },
   "file_extension": ".py",
   "mimetype": "text/x-python",
   "name": "python",
   "nbconvert_exporter": "python",
   "pygments_lexer": "ipython3",
   "version": "3.9.9"
  }
 },
 "nbformat": 4,
 "nbformat_minor": 1
}
