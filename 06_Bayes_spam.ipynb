{
 "cells": [
  {
   "cell_type": "markdown",
   "metadata": {
    "colab_type": "text",
    "id": "view-in-github"
   },
   "source": [
    "<a href=\"https://colab.research.google.com/github/m-fila/uczenie-maszynowe-2021-22/blob/main/06_Bayes_spam.ipynb\" target=\"_parent\"><img src=\"https://colab.research.google.com/assets/colab-badge.svg\" alt=\"Open In Colab\"/></a>"
   ]
  },
  {
   "cell_type": "markdown",
   "metadata": {
    "id": "PNDQCDSFVdQ4"
   },
   "source": [
    "# **SPAM vs. naiwny klasyfikator Bayesa**\n",
    "Autor: Anna Dawid"
   ]
  },
  {
   "cell_type": "markdown",
   "metadata": {
    "id": "seqEdVR1VdQ7"
   },
   "source": [
    "## Wprowadzenie\n",
    "Nigeryjski książę wciąż zarabia na użytkownikach elektronicznych skrzynek pocztowych ponad 700 tys. dolarów rocznie ([źródło](https://www.cnbc.com/2019/04/18/nigerian-prince-scams-still-rake-in-over-700000-dollars-a-year.html))! Jak to możliwe?\n",
    "\n",
    "Pierwsza przyczyna jest natury psychologicznej. Ofiary są poddawane \"perfekcyjnej burzy pokuszeń\", jak ujął to psycholog w wywiadzie, do którego linka dałam Wam powyżej. Spammerzy łączą granie na ludzkiej chciwości, ale także na pragnieniu bycia bohaterem. W końcu kto nie chciałby zarobić na byciu wspaniałomyślnym i szczodrym? W tej kwestii możemy pracować wyłącznie nad sobą.\n",
    "\n",
    "Możemy za to pracować nad filtrami antyspamowymi. Użyjemy techniki, która nazywa się \"worek ze słowami\" (bag of words) w połączeniu z naiwnym klasyfikatorem Bayesa. Choć to prosty klasyfikator, z powodzeniem jest używany współcześnie (np. [SpamAssassin](https://cwiki.apache.org/confluence/display/spamassassin/BayesInSpamAssassin)).\n",
    "\n",
    "Notebook oparty na tutorialach:\n",
    "*   https://towardsdatascience.com/spam-classifier-in-python-from-scratch-27a98ddd8e73\n",
    "*   https://towardsdatascience.com/spam-filtering-using-naive-bayes-98a341224038\n"
   ]
  },
  {
   "cell_type": "markdown",
   "metadata": {
    "id": "_ZJI7KHjVdQ7"
   },
   "source": [
    "## Import danych treningowych\n",
    "https://www.kaggle.com/uciml/sms-spam-collection-dataset\n",
    "\n",
    "To dane przygotowane przez Almeida et al. na podstawie forum brytyjskiego, gdzie użytkownicy skarżą się na spamowe SMSy. Każdy wiersz składa się z kolumny opisującej czy wiadomość jest spamem, czy nie ('spam' czy 'ham'), a druga zawiera treść wiadomości."
   ]
  },
  {
   "cell_type": "markdown",
   "metadata": {
    "id": "x110k8pa-KD8"
   },
   "source": [
    "Jak na ćwiczeniach o regresji logistycznej klonujemy repozytorium, żeb móc korzystać z zestawu danych:"
   ]
  },
  {
   "cell_type": "code",
   "execution_count": null,
   "metadata": {
    "executionInfo": {
     "elapsed": 789,
     "status": "ok",
     "timestamp": 1606307159887,
     "user": {
      "displayName": "Anna Dawid",
      "photoUrl": "https://lh3.googleusercontent.com/a-/AOh14GgUQAwZ7wyayL4BbiM0n_EANCgBjSdZ9H14lgcCFEE=s64",
      "userId": "02862484648310443813"
     },
     "user_tz": -60
    },
    "id": "FLHnLiSv-s6v"
   },
   "outputs": [],
   "source": [
    "# odkomentuj zeby pobrac repozytorium, mozesz tez wgrac samemu odpowiedni plik z danymi\n",
    "#!git clone https://github.com/m-fila/uczenie-maszynowe-2021-22"
   ]
  },
  {
   "cell_type": "markdown",
   "metadata": {
    "id": "qDclCxP2hhoJ"
   },
   "source": [
    "Do pracy z danymi tekstowymi bardzo przydatna jest biblioteka [pandas](https://www.shanelynn.ie/using-pandas-dataframe-creating-editing-viewing-data-in-python/)."
   ]
  },
  {
   "cell_type": "code",
   "execution_count": null,
   "metadata": {
    "executionInfo": {
     "elapsed": 786,
     "status": "ok",
     "timestamp": 1606307159888,
     "user": {
      "displayName": "Anna Dawid",
      "photoUrl": "https://lh3.googleusercontent.com/a-/AOh14GgUQAwZ7wyayL4BbiM0n_EANCgBjSdZ9H14lgcCFEE=s64",
      "userId": "02862484648310443813"
     },
     "user_tz": -60
    },
    "id": "cWBDlNPHVdQ9"
   },
   "outputs": [],
   "source": [
    "import numpy as np\n",
    "import pandas as pd"
   ]
  },
  {
   "cell_type": "code",
   "execution_count": null,
   "metadata": {
    "colab": {
     "base_uri": "https://localhost:8080/",
     "height": 203
    },
    "executionInfo": {
     "elapsed": 780,
     "status": "ok",
     "timestamp": 1606307159889,
     "user": {
      "displayName": "Anna Dawid",
      "photoUrl": "https://lh3.googleusercontent.com/a-/AOh14GgUQAwZ7wyayL4BbiM0n_EANCgBjSdZ9H14lgcCFEE=s64",
      "userId": "02862484648310443813"
     },
     "user_tz": -60
    },
    "id": "JHEGrXdx97uU",
    "outputId": "dc391a1b-d56b-4d61-bf88-724358eafe9a"
   },
   "outputs": [],
   "source": [
    "mails = pd.read_csv('uczenie-maszynowe-2021-22/dane/spam_dataset.csv', encoding='latin-1')\n",
    "mails.head()"
   ]
  },
  {
   "cell_type": "markdown",
   "metadata": {
    "id": "054a8tEtDWw2"
   },
   "source": [
    "Wyczyśćmy ten zbiór danych. Usuńmy niepotrzebne kolumny i zastąpmy nazwy 'v1' i 'v2' czymś bardziej przyjaznym."
   ]
  },
  {
   "cell_type": "code",
   "execution_count": null,
   "metadata": {
    "colab": {
     "base_uri": "https://localhost:8080/",
     "height": 203
    },
    "executionInfo": {
     "elapsed": 1032,
     "status": "ok",
     "timestamp": 1606307160149,
     "user": {
      "displayName": "Anna Dawid",
      "photoUrl": "https://lh3.googleusercontent.com/a-/AOh14GgUQAwZ7wyayL4BbiM0n_EANCgBjSdZ9H14lgcCFEE=s64",
      "userId": "02862484648310443813"
     },
     "user_tz": -60
    },
    "id": "_e503qPbB-xa",
    "outputId": "505eac09-6b0c-487f-c6be-654804248a5a"
   },
   "outputs": [],
   "source": [
    "mails = mails.drop(['Unnamed: 2', 'Unnamed: 3', 'Unnamed: 4'], axis=1)\n",
    "mails.head()"
   ]
  },
  {
   "cell_type": "code",
   "execution_count": null,
   "metadata": {
    "colab": {
     "base_uri": "https://localhost:8080/",
     "height": 203
    },
    "executionInfo": {
     "elapsed": 1027,
     "status": "ok",
     "timestamp": 1606307160150,
     "user": {
      "displayName": "Anna Dawid",
      "photoUrl": "https://lh3.googleusercontent.com/a-/AOh14GgUQAwZ7wyayL4BbiM0n_EANCgBjSdZ9H14lgcCFEE=s64",
      "userId": "02862484648310443813"
     },
     "user_tz": -60
    },
    "id": "46VG63JADgYM",
    "outputId": "97a495e8-a769-4167-cefb-2649b3972cf3"
   },
   "outputs": [],
   "source": [
    "mails = mails.rename(columns={\"v1\": \"klasa\", \"v2\": \"tekst\"})\n",
    "mails.head()"
   ]
  },
  {
   "cell_type": "markdown",
   "metadata": {
    "id": "Xr86NzYAVdRF"
   },
   "source": [
    "Zobaczmy jak wyglądają przykładowe dane o numerze jakimkolwiek."
   ]
  },
  {
   "cell_type": "code",
   "execution_count": null,
   "metadata": {
    "executionInfo": {
     "elapsed": 1022,
     "status": "ok",
     "timestamp": 1606307160151,
     "user": {
      "displayName": "Anna Dawid",
      "photoUrl": "https://lh3.googleusercontent.com/a-/AOh14GgUQAwZ7wyayL4BbiM0n_EANCgBjSdZ9H14lgcCFEE=s64",
      "userId": "02862484648310443813"
     },
     "user_tz": -60
    },
    "id": "kBsb284aVdRG"
   },
   "outputs": [],
   "source": [
    "id = 57"
   ]
  },
  {
   "cell_type": "markdown",
   "metadata": {
    "id": "gdn7hSzUVdRJ"
   },
   "source": [
    "Treść wiadomości:"
   ]
  },
  {
   "cell_type": "code",
   "execution_count": null,
   "metadata": {
    "colab": {
     "base_uri": "https://localhost:8080/",
     "height": 35
    },
    "executionInfo": {
     "elapsed": 1018,
     "status": "ok",
     "timestamp": 1606307160151,
     "user": {
      "displayName": "Anna Dawid",
      "photoUrl": "https://lh3.googleusercontent.com/a-/AOh14GgUQAwZ7wyayL4BbiM0n_EANCgBjSdZ9H14lgcCFEE=s64",
      "userId": "02862484648310443813"
     },
     "user_tz": -60
    },
    "id": "RONF-O6yVdRJ",
    "outputId": "1ed7ec11-2137-4dcc-d530-efbaa85c3d08"
   },
   "outputs": [],
   "source": [
    "mails['tekst'][id]"
   ]
  },
  {
   "cell_type": "markdown",
   "metadata": {
    "id": "JOUTxbowVdRM"
   },
   "source": [
    "Kategoria:"
   ]
  },
  {
   "cell_type": "code",
   "execution_count": null,
   "metadata": {
    "colab": {
     "base_uri": "https://localhost:8080/",
     "height": 35
    },
    "executionInfo": {
     "elapsed": 1013,
     "status": "ok",
     "timestamp": 1606307160152,
     "user": {
      "displayName": "Anna Dawid",
      "photoUrl": "https://lh3.googleusercontent.com/a-/AOh14GgUQAwZ7wyayL4BbiM0n_EANCgBjSdZ9H14lgcCFEE=s64",
      "userId": "02862484648310443813"
     },
     "user_tz": -60
    },
    "id": "sIkLqoHBVdRN",
    "outputId": "16b5c2ac-827a-4b21-bb28-9f442db99943"
   },
   "outputs": [],
   "source": [
    "mails['klasa'][id]"
   ]
  },
  {
   "cell_type": "markdown",
   "metadata": {
    "id": "7wLflQN1VdRP"
   },
   "source": [
    "Ile mamy tych maili?"
   ]
  },
  {
   "cell_type": "code",
   "execution_count": null,
   "metadata": {
    "colab": {
     "base_uri": "https://localhost:8080/"
    },
    "executionInfo": {
     "elapsed": 1007,
     "status": "ok",
     "timestamp": 1606307160152,
     "user": {
      "displayName": "Anna Dawid",
      "photoUrl": "https://lh3.googleusercontent.com/a-/AOh14GgUQAwZ7wyayL4BbiM0n_EANCgBjSdZ9H14lgcCFEE=s64",
      "userId": "02862484648310443813"
     },
     "user_tz": -60
    },
    "id": "575SnOW9VdRP",
    "outputId": "2fa6aa23-a186-4ae1-d7b1-37d6e15f37e1"
   },
   "outputs": [],
   "source": [
    "mails.shape"
   ]
  },
  {
   "cell_type": "markdown",
   "metadata": {
    "id": "tFpUrBiRgFiV"
   },
   "source": [
    "## Analiza częstości występowania słów w obu klasach za pomocą biblioteki WordCloud\n",
    "\n",
    "To biblioteka pozwalająca generować śliczne obrazki, na których wielkość słów odpowiada częstości jego występowania w danym zbiorze."
   ]
  },
  {
   "cell_type": "code",
   "execution_count": null,
   "metadata": {
    "colab": {
     "base_uri": "https://localhost:8080/"
    },
    "executionInfo": {
     "elapsed": 3564,
     "status": "ok",
     "timestamp": 1606307162716,
     "user": {
      "displayName": "Anna Dawid",
      "photoUrl": "https://lh3.googleusercontent.com/a-/AOh14GgUQAwZ7wyayL4BbiM0n_EANCgBjSdZ9H14lgcCFEE=s64",
      "userId": "02862484648310443813"
     },
     "user_tz": -60
    },
    "id": "lpfU-WXKg5CY",
    "outputId": "116dff36-1309-4075-ba20-0b69f673c967"
   },
   "outputs": [],
   "source": [
    "!pip3 install wordcloud\n",
    "import wordcloud"
   ]
  },
  {
   "cell_type": "code",
   "execution_count": null,
   "metadata": {
    "colab": {
     "base_uri": "https://localhost:8080/",
     "height": 972
    },
    "executionInfo": {
     "elapsed": 7261,
     "status": "ok",
     "timestamp": 1606307166419,
     "user": {
      "displayName": "Anna Dawid",
      "photoUrl": "https://lh3.googleusercontent.com/a-/AOh14GgUQAwZ7wyayL4BbiM0n_EANCgBjSdZ9H14lgcCFEE=s64",
      "userId": "02862484648310443813"
     },
     "user_tz": -60
    },
    "id": "L28LyPkEivX2",
    "outputId": "03d6e3d5-ca6a-4081-d0af-b8ce397a32f7"
   },
   "outputs": [],
   "source": [
    "from wordcloud import WordCloud\n",
    "import matplotlib.pyplot as plt\n",
    "\n",
    "# najpierw słowa ze spamu\n",
    "spam_words = \" \".join(list(mails [mails['klasa']=='spam']['tekst'] ))\n",
    "spam_plot = WordCloud(width = 512, height = 512).generate(spam_words)\n",
    "\n",
    "plt.figure(figsize=(10,8))\n",
    "plt.imshow(spam_plot)\n",
    "\n",
    "# teraz słowa z normalnych wiadomosci\n",
    "ham_words = \" \".join(list(mails [mails['klasa']=='ham']['tekst'] ))\n",
    "ham_plot = WordCloud(width = 512, height = 512).generate(ham_words)\n",
    "\n",
    "plt.figure(figsize=(10,8))\n",
    "plt.imshow(ham_plot)"
   ]
  },
  {
   "cell_type": "markdown",
   "metadata": {
    "id": "GxelOYTFVdRR"
   },
   "source": [
    "Przygotujmy dane do treningu i testu klasyfikatora:"
   ]
  },
  {
   "cell_type": "code",
   "execution_count": null,
   "metadata": {
    "executionInfo": {
     "elapsed": 7258,
     "status": "ok",
     "timestamp": 1606307166421,
     "user": {
      "displayName": "Anna Dawid",
      "photoUrl": "https://lh3.googleusercontent.com/a-/AOh14GgUQAwZ7wyayL4BbiM0n_EANCgBjSdZ9H14lgcCFEE=s64",
      "userId": "02862484648310443813"
     },
     "user_tz": -60
    },
    "id": "61E4BL3uVdRS"
   },
   "outputs": [],
   "source": [
    "from sklearn.model_selection import train_test_split\n",
    "\n",
    "X = mails.tekst\n",
    "y = mails.klasa\n",
    "X_train, X_test, y_train, y_test = train_test_split(X, y, test_size = 0.3)"
   ]
  },
  {
   "cell_type": "markdown",
   "metadata": {
    "id": "gsnhFFc9VdRU"
   },
   "source": [
    "Przekodowujemy wiadomości na wektory cech.  Korzystamy z funkcji: [sklearn.feature_extraction.text.CountVectorizer](https://scikit-learn.org/stable/modules/generated/sklearn.feature_extraction.text.CountVectorizer.html)"
   ]
  },
  {
   "cell_type": "code",
   "execution_count": null,
   "metadata": {
    "executionInfo": {
     "elapsed": 7254,
     "status": "ok",
     "timestamp": 1606307166421,
     "user": {
      "displayName": "Anna Dawid",
      "photoUrl": "https://lh3.googleusercontent.com/a-/AOh14GgUQAwZ7wyayL4BbiM0n_EANCgBjSdZ9H14lgcCFEE=s64",
      "userId": "02862484648310443813"
     },
     "user_tz": -60
    },
    "id": "WvM-XCWXVdRV"
   },
   "outputs": [],
   "source": [
    "from sklearn.feature_extraction.text import CountVectorizer\n",
    "# stwórz instancje obiektu CountVectorizer\n",
    "vectorizer = ...\n",
    "# naucz vectorizer słownika i przetransformuj dane uczące (jest odpowiednia metoda, która robi dwie rzeczy na raz)\n",
    "X_train = ..."
   ]
  },
  {
   "cell_type": "markdown",
   "metadata": {
    "id": "NMnNeNTdVdRX"
   },
   "source": [
    "Wypisz rozmiary danych treningowych:"
   ]
  },
  {
   "cell_type": "code",
   "execution_count": null,
   "metadata": {
    "colab": {
     "base_uri": "https://localhost:8080/"
    },
    "executionInfo": {
     "elapsed": 7250,
     "status": "ok",
     "timestamp": 1606307166422,
     "user": {
      "displayName": "Anna Dawid",
      "photoUrl": "https://lh3.googleusercontent.com/a-/AOh14GgUQAwZ7wyayL4BbiM0n_EANCgBjSdZ9H14lgcCFEE=s64",
      "userId": "02862484648310443813"
     },
     "user_tz": -60
    },
    "id": "Nky-W5gwVdRX",
    "outputId": "a458bab4-a127-4046-898e-22a2fc118e57"
   },
   "outputs": [],
   "source": [
    "print(\"Dane treningowe: n_samples: %d, n_features: %d\" % X_train.shape)"
   ]
  },
  {
   "cell_type": "markdown",
   "metadata": {
    "id": "hTx3RGrsVdRZ"
   },
   "source": [
    "Dane uczące są przechowywane w macierzy rzadkiej (sparse matrix). Proszę podejrzeć jak wyglądają tak przekodowane dane:"
   ]
  },
  {
   "cell_type": "code",
   "execution_count": null,
   "metadata": {
    "colab": {
     "base_uri": "https://localhost:8080/"
    },
    "executionInfo": {
     "elapsed": 7245,
     "status": "ok",
     "timestamp": 1606307166422,
     "user": {
      "displayName": "Anna Dawid",
      "photoUrl": "https://lh3.googleusercontent.com/a-/AOh14GgUQAwZ7wyayL4BbiM0n_EANCgBjSdZ9H14lgcCFEE=s64",
      "userId": "02862484648310443813"
     },
     "user_tz": -60
    },
    "id": "__sbSUXJVdRb",
    "outputId": "b63407b6-6015-48b0-d9fc-fe3b59dbfbf1"
   },
   "outputs": [],
   "source": [
    "print(X_train[57])"
   ]
  },
  {
   "cell_type": "markdown",
   "metadata": {
    "id": "MCxWJnnSVdRd"
   },
   "source": [
    " Wektoryzujemy też dane testowe, wykorzystując już stworzony na podstawie danych treningowych wektor słów:"
   ]
  },
  {
   "cell_type": "code",
   "execution_count": null,
   "metadata": {
    "colab": {
     "base_uri": "https://localhost:8080/"
    },
    "executionInfo": {
     "elapsed": 7238,
     "status": "ok",
     "timestamp": 1606307166423,
     "user": {
      "displayName": "Anna Dawid",
      "photoUrl": "https://lh3.googleusercontent.com/a-/AOh14GgUQAwZ7wyayL4BbiM0n_EANCgBjSdZ9H14lgcCFEE=s64",
      "userId": "02862484648310443813"
     },
     "user_tz": -60
    },
    "id": "T6GwugsoVdRe",
    "outputId": "459d9b7c-e293-4c2c-b624-25fe32a9a589"
   },
   "outputs": [],
   "source": [
    "# użyj vectorizer żeby przetransformować dane ze zbioru testowego (teraz bez fitowania!)\n",
    "X_test = ...\n",
    "print(\"Dane testowe: n_samples: %d, n_features: %d\" % X_test.shape)"
   ]
  },
  {
   "cell_type": "markdown",
   "metadata": {
    "id": "zHsTCZS6VdRg"
   },
   "source": [
    "Odwrotne mapowanie z cech na słowa:"
   ]
  },
  {
   "cell_type": "code",
   "execution_count": null,
   "metadata": {
    "executionInfo": {
     "elapsed": 7232,
     "status": "ok",
     "timestamp": 1606307166423,
     "user": {
      "displayName": "Anna Dawid",
      "photoUrl": "https://lh3.googleusercontent.com/a-/AOh14GgUQAwZ7wyayL4BbiM0n_EANCgBjSdZ9H14lgcCFEE=s64",
      "userId": "02862484648310443813"
     },
     "user_tz": -60
    },
    "id": "ka3nqKbhVdRh"
   },
   "outputs": [],
   "source": [
    "feature_names = vectorizer.get_feature_names()\n",
    "feature_names = np.array(feature_names)"
   ]
  },
  {
   "cell_type": "markdown",
   "metadata": {
    "id": "YmoXumisVdRj"
   },
   "source": [
    "Tworzymy instancję i uczymy klasyfikator MultinomialNB"
   ]
  },
  {
   "cell_type": "code",
   "execution_count": null,
   "metadata": {
    "colab": {
     "base_uri": "https://localhost:8080/"
    },
    "executionInfo": {
     "elapsed": 7229,
     "status": "ok",
     "timestamp": 1606307166424,
     "user": {
      "displayName": "Anna Dawid",
      "photoUrl": "https://lh3.googleusercontent.com/a-/AOh14GgUQAwZ7wyayL4BbiM0n_EANCgBjSdZ9H14lgcCFEE=s64",
      "userId": "02862484648310443813"
     },
     "user_tz": -60
    },
    "id": "FyJmhv-VVdRk",
    "outputId": "f7732f13-6533-44bb-cd69-171ebe16ed47"
   },
   "outputs": [],
   "source": [
    "from sklearn.naive_bayes import MultinomialNB\n",
    "# stwórz obiekt klasyfikatora\n",
    "clf = ...\n",
    "# naucz klasyfikator na zbiorze uczącym\n",
    "..."
   ]
  },
  {
   "cell_type": "markdown",
   "metadata": {
    "id": "0kWchjUPVdRn"
   },
   "source": [
    "## Ocena jakości: jak zwykle będziemy korzystać z funkcji zaimplementowanych w [sci-kit](http://scikit-learn.org/stable/modules/classes.html#module-sklearn.metrics)"
   ]
  },
  {
   "cell_type": "code",
   "execution_count": null,
   "metadata": {
    "executionInfo": {
     "elapsed": 680,
     "status": "ok",
     "timestamp": 1606307166706,
     "user": {
      "displayName": "Anna Dawid",
      "photoUrl": "https://lh3.googleusercontent.com/a-/AOh14GgUQAwZ7wyayL4BbiM0n_EANCgBjSdZ9H14lgcCFEE=s64",
      "userId": "02862484648310443813"
     },
     "user_tz": -60
    },
    "id": "U6DNyk0qVdRo"
   },
   "outputs": [],
   "source": [
    "y_pred = ... # obliczamy predykcję dla tekstów ze zbioru testowego"
   ]
  },
  {
   "cell_type": "code",
   "execution_count": null,
   "metadata": {
    "colab": {
     "base_uri": "https://localhost:8080/"
    },
    "executionInfo": {
     "elapsed": 622,
     "status": "ok",
     "timestamp": 1606307169918,
     "user": {
      "displayName": "Anna Dawid",
      "photoUrl": "https://lh3.googleusercontent.com/a-/AOh14GgUQAwZ7wyayL4BbiM0n_EANCgBjSdZ9H14lgcCFEE=s64",
      "userId": "02862484648310443813"
     },
     "user_tz": -60
    },
    "id": "ktsCYepybxqu",
    "outputId": "428e624a-e083-4d44-ab08-5614eff0c9a5"
   },
   "outputs": [],
   "source": [
    "from sklearn.metrics import accuracy_score, classification_report, confusion_matrix\n",
    "\n",
    "accur = ... # policz dokładność\n",
    "print(\"Dokładność: %0.3f\" % accur)\n",
    "print(\"Classification report:\") \n",
    "# wypisz raport klasyfikacji \n",
    "print(...)\n",
    "\n",
    "print(\"Macierz błędów\") \n",
    "# wypisz macierz (confusion matrix)\n",
    "print(...)"
   ]
  },
  {
   "cell_type": "markdown",
   "metadata": {
    "id": "JXqzqM0cVdRs"
   },
   "source": [
    "Sprawdźmy, czego właściwie maszyna się nauczyła:"
   ]
  },
  {
   "cell_type": "code",
   "execution_count": null,
   "metadata": {
    "colab": {
     "base_uri": "https://localhost:8080/"
    },
    "executionInfo": {
     "elapsed": 606,
     "status": "ok",
     "timestamp": 1606307173324,
     "user": {
      "displayName": "Anna Dawid",
      "photoUrl": "https://lh3.googleusercontent.com/a-/AOh14GgUQAwZ7wyayL4BbiM0n_EANCgBjSdZ9H14lgcCFEE=s64",
      "userId": "02862484648310443813"
     },
     "user_tz": -60
    },
    "id": "Br2t5MLZVdRt",
    "outputId": "44a4bbdc-7e48-4552-ca60-a2ae5f2417dd"
   },
   "outputs": [],
   "source": [
    "print(\"Słowa, które z największą pewnością wskazują maszynie, że wiadomość to spam:\")\n",
    "# np.argsort zwraca indeksy w oryginalnej tablicy, które odpowiadają posortowanej tablicy, np.:\n",
    "# np.argsort([3,1,2]) ---> [1,2,0]\n",
    "# .coef_[0] zwraca nam tablicę współczynników -- po jednym dla każdej cechy. \n",
    "# Wkład do decyzji klasyfikatora jest proporcjonalny do wartości tych współczynników -- większy współczynnik = ważniejsza cecha\n",
    "top10 = np.argsort(clf.coef_[0])[-10:]\n",
    "bottom10 = np.argsort(clf.coef_[0])[:10]\n",
    "print(feature_names[top10])\n",
    "\n",
    "print(\"Słowa najmniej istotne przy klasyfikacji:\")\n",
    "print(feature_names[bottom10])"
   ]
  },
  {
   "cell_type": "markdown",
   "metadata": {
    "id": "mJv9ICOnkEqB"
   },
   "source": [
    "## Zastanówmy się, czy możemy jakoś ułatwić zadanie maszynie, wykorzystując naszą znajomość języka"
   ]
  },
  {
   "cell_type": "markdown",
   "metadata": {
    "id": "LE93eYVjs2EY"
   },
   "source": [
    "Poszukajcie słowa, które nie występuje w zbiorze treningowym."
   ]
  },
  {
   "cell_type": "code",
   "execution_count": null,
   "metadata": {
    "colab": {
     "base_uri": "https://localhost:8080/"
    },
    "executionInfo": {
     "elapsed": 518,
     "status": "ok",
     "timestamp": 1606307197574,
     "user": {
      "displayName": "Anna Dawid",
      "photoUrl": "https://lh3.googleusercontent.com/a-/AOh14GgUQAwZ7wyayL4BbiM0n_EANCgBjSdZ9H14lgcCFEE=s64",
      "userId": "02862484648310443813"
     },
     "user_tz": -60
    },
    "id": "4G9PKlmFrCXP",
    "outputId": "1b0d3117-fb7e-49ad-fcf1-365b9b80b669"
   },
   "outputs": [],
   "source": [
    "id = np.where(feature_names == 'supercalifragilisticexpialidocious') #\"call mr barosa now to get for free our product\"\n",
    "print(id)\n",
    "\n",
    "message = ['Life is supercalifragilisticexpialidocious']\n",
    "our_message = vectorizer.transform(message)\n",
    "clf.predict(our_message)"
   ]
  },
  {
   "cell_type": "markdown",
   "metadata": {
    "id": "pCgizjFcmQOr"
   },
   "source": [
    "### Stemming (nawet nie będę próbować tego tłumaczyć na polski, to [bogate](https://pl.bab.la/slownik/angielski-polski/stemming) znaczeniowo słowo)\n",
    "\n",
    "Polega na ujednoliceniu słów o tym samym rdzeniu znaczeniowym (o czym maszyna, oczywiście, nie ma szans wiedzieć). Np. dzięki stemmingowi słowa \"go\", \"going\" i \"goes\" są przyporządkowane tylko jednemu słowu \"go\". Można np. użyć gotowego algorytmu stemmingowego o nazwie [Porter Stemmer](https://tartarus.org/martin/PorterStemmer/)."
   ]
  },
  {
   "cell_type": "code",
   "execution_count": null,
   "metadata": {
    "colab": {
     "base_uri": "https://localhost:8080/"
    },
    "executionInfo": {
     "elapsed": 934,
     "status": "ok",
     "timestamp": 1606307429432,
     "user": {
      "displayName": "Anna Dawid",
      "photoUrl": "https://lh3.googleusercontent.com/a-/AOh14GgUQAwZ7wyayL4BbiM0n_EANCgBjSdZ9H14lgcCFEE=s64",
      "userId": "02862484648310443813"
     },
     "user_tz": -60
    },
    "id": "oScLywVekLm4",
    "outputId": "c0491aab-49ef-4219-92a4-3e384ee34181"
   },
   "outputs": [],
   "source": [
    "id1 = np.where(feature_names == 'going')\n",
    "id2 = np.where(feature_names == 'go')\n",
    "print(id1, id2)"
   ]
  },
  {
   "cell_type": "code",
   "execution_count": null,
   "metadata": {
    "colab": {
     "base_uri": "https://localhost:8080/"
    },
    "executionInfo": {
     "elapsed": 1946,
     "status": "ok",
     "timestamp": 1606307432527,
     "user": {
      "displayName": "Anna Dawid",
      "photoUrl": "https://lh3.googleusercontent.com/a-/AOh14GgUQAwZ7wyayL4BbiM0n_EANCgBjSdZ9H14lgcCFEE=s64",
      "userId": "02862484648310443813"
     },
     "user_tz": -60
    },
    "id": "Y3tQCtFu8JEU",
    "outputId": "759237e2-4d84-4099-be50-06f4577e21b5"
   },
   "outputs": [],
   "source": [
    "!pip3 install nltk\n",
    "import nltk\n",
    "import ssl\n",
    "# chcemy pobrac wytrenowany dla języka angielskeigo tokenizer Punkt\n",
    "# poniższe linijki mają pomóc w przypadku problemów z ssl\n",
    "try:\n",
    "    _create_unverified_https_context = ssl._create_unverified_context\n",
    "except AttributeError:\n",
    "    pass\n",
    "else:\n",
    "    ssl._create_default_https_context = _create_unverified_https_context\n",
    "# pobieramy tokenizer\n",
    "nltk.download('punkt')\n",
    "# ładujemy przydatne funkcje\n",
    "from nltk.tokenize import word_tokenize\n",
    "from nltk.stem import PorterStemmer"
   ]
  },
  {
   "cell_type": "code",
   "execution_count": null,
   "metadata": {
    "colab": {
     "base_uri": "https://localhost:8080/"
    },
    "executionInfo": {
     "elapsed": 1946,
     "status": "ok",
     "timestamp": 1606307432527,
     "user": {
      "displayName": "Anna Dawid",
      "photoUrl": "https://lh3.googleusercontent.com/a-/AOh14GgUQAwZ7wyayL4BbiM0n_EANCgBjSdZ9H14lgcCFEE=s64",
      "userId": "02862484648310443813"
     },
     "user_tz": -60
    },
    "id": "Y3tQCtFu8JEU",
    "outputId": "759237e2-4d84-4099-be50-06f4577e21b5"
   },
   "outputs": [],
   "source": [
    "# przykładowy tekst\n",
    "message = 'Applying classical methods of machine learning to the study of quantum systems (sometimes called quantum machine learning) is the focus of an emergent area of physics research'\n",
    "# tokenizujemy czyli dzielimy tekst na słowa\n",
    "words = word_tokenize(message)\n",
    "print(words)\n",
    "print()\n",
    "# stwórz obiekt typu PorterStemmer\n",
    "stemmer = ...\n",
    "# użyj nowo stworzonego obiektu, żeby 'dostać temat' każdego ze słów\n",
    "words = ...\n",
    "print(words)"
   ]
  },
  {
   "cell_type": "markdown",
   "metadata": {
    "id": "TRkUybiA9oit"
   },
   "source": [
    "Powtórzmy trening i testowanie naszego klasyfikatora na danych poddanych stemmingowi:"
   ]
  },
  {
   "cell_type": "markdown",
   "metadata": {},
   "source": [
    "### Wracamy do pracy nad zbiorem mejli"
   ]
  },
  {
   "cell_type": "code",
   "execution_count": null,
   "metadata": {
    "colab": {
     "base_uri": "https://localhost:8080/",
     "height": 323
    },
    "executionInfo": {
     "elapsed": 2025,
     "status": "ok",
     "timestamp": 1573803469436,
     "user": {
      "displayName": "Anna Dawid",
      "photoUrl": "https://lh3.googleusercontent.com/a-/AAuE7mBMAlqIzrWbyBbGSDvCFuCvvSN7Xx3h3HRKaToc0r4=s64",
      "userId": "02862484648310443813"
     },
     "user_tz": -60
    },
    "id": "asGIjB4J-Jrq",
    "outputId": "b135bff3-c46f-4354-e762-bc88549f6419"
   },
   "outputs": [],
   "source": [
    "# wczytaj cechy i klasy do zmiennych X i Y a następnie podziel na zbiory uczacy 70% i testowy 30%\n",
    "X = ...\n",
    "y = ...\n",
    "X_train, X_test, y_train, y_test = ...\n",
    "# stwórz instancje obiektu CountVectorizer\n",
    "vectorizer = ...\n",
    "# naucz vectorizer słownika i przetransformuj dane uczące\n",
    "X_train = ... \n",
    "# przetransformuj dane testowe\n",
    "X_test = ...\n",
    "# stwórz naiwny bayesowski wielomianowy klasyfikator  \n",
    "clf = ...\n",
    "# naucz klasyfiaktor na zbiorze uczącym\n",
    "..."
   ]
  },
  {
   "cell_type": "code",
   "execution_count": null,
   "metadata": {
    "colab": {
     "base_uri": "https://localhost:8080/",
     "height": 323
    },
    "executionInfo": {
     "elapsed": 2025,
     "status": "ok",
     "timestamp": 1573803469436,
     "user": {
      "displayName": "Anna Dawid",
      "photoUrl": "https://lh3.googleusercontent.com/a-/AAuE7mBMAlqIzrWbyBbGSDvCFuCvvSN7Xx3h3HRKaToc0r4=s64",
      "userId": "02862484648310443813"
     },
     "user_tz": -60
    },
    "id": "asGIjB4J-Jrq",
    "outputId": "b135bff3-c46f-4354-e762-bc88549f6419"
   },
   "outputs": [],
   "source": [
    "# policz predykcję naiwnego Bayesa na zbiorze tesotwym\n",
    "y_pred = ...\n",
    "# użyj predykcji aby policzyć dokładność (accuracy)\n",
    "accur = ... # dokładność\n",
    "print(\"Dokładność: %0.3f\" % accur)\n",
    "# wypisz raport klasyfikacji \n",
    "print(\"Classification report:\") \n",
    "print(...)\n",
    " # wypisz macierz (confusion matrix)\n",
    "print(\"Macierz błędów\")\n",
    "print(...)"
   ]
  },
  {
   "cell_type": "code",
   "execution_count": null,
   "metadata": {
    "colab": {
     "base_uri": "https://localhost:8080/",
     "height": 323
    },
    "executionInfo": {
     "elapsed": 2025,
     "status": "ok",
     "timestamp": 1573803469436,
     "user": {
      "displayName": "Anna Dawid",
      "photoUrl": "https://lh3.googleusercontent.com/a-/AAuE7mBMAlqIzrWbyBbGSDvCFuCvvSN7Xx3h3HRKaToc0r4=s64",
      "userId": "02862484648310443813"
     },
     "user_tz": -60
    },
    "id": "asGIjB4J-Jrq",
    "outputId": "b135bff3-c46f-4354-e762-bc88549f6419"
   },
   "outputs": [],
   "source": [
    "# Teraz wypiszmy słowa, które były najbardziej i najmniej pomocne przy klasyfikacji.\n",
    "# Korzystając z wcześniejszych komórek uzupełnij poniższy kod.\n",
    "\n",
    "# użyj vectorizer żeby dostać nazwy cech i przekonwertuj je do tablicy numpy\n",
    "...\n",
    "# print(feature_names[:10])\n",
    "\n",
    "# wybierz indeksy dla top10 najważniejszych cech\n",
    "top10 = ...\n",
    "# wybierz indeksy dla 10 najmniej ważnych cech\n",
    "bottom10 = ...\n",
    "\n",
    "print(\"Słowa, które z największą pewnością wskazują maszynie, że wiadomość to spam:\")\n",
    "# wypisz wyrazy odpowiadające najważniejszym cechom\n",
    "print(...)\n",
    "print(\"Słowa najmniej istotne przy klasyfikacji:\")\n",
    "# wypisz wyrazy odpowiadające najmniej ważnym cechom\n",
    "print(...)"
   ]
  },
  {
   "cell_type": "markdown",
   "metadata": {
    "id": "_WxLEc7CASHi"
   },
   "source": [
    "## Gdybyście byli spammerami... Co moglibyście zrobić, znając tę technikę antyspamową?"
   ]
  },
  {
   "cell_type": "markdown",
   "metadata": {
    "id": "hOLZbs_5AY7Z"
   },
   "source": [
    "### Stosowanie znaków specjalnych zamiast liter"
   ]
  },
  {
   "cell_type": "code",
   "execution_count": null,
   "metadata": {
    "colab": {
     "base_uri": "https://localhost:8080/",
     "height": 51
    },
    "executionInfo": {
     "elapsed": 502,
     "status": "ok",
     "timestamp": 1573803724823,
     "user": {
      "displayName": "Anna Dawid",
      "photoUrl": "https://lh3.googleusercontent.com/a-/AAuE7mBMAlqIzrWbyBbGSDvCFuCvvSN7Xx3h3HRKaToc0r4=s64",
      "userId": "02862484648310443813"
     },
     "user_tz": -60
    },
    "id": "qccAaFGY_C8Y",
    "outputId": "8e1a5000-2681-457d-b3cc-46d0e8a9e2a0"
   },
   "outputs": [],
   "source": [
    "our_message = vectorizer.transform(['call for free'])\n",
    "print(clf.predict(our_message))\n",
    "# podmieniamy literkę a na małpę @\n",
    "our_tricky_message = vectorizer.transform(['c@ll for free'])\n",
    "print(clf.predict(our_tricky_message))"
   ]
  },
  {
   "cell_type": "markdown",
   "metadata": {
    "id": "JCAXu4P9AzfJ"
   },
   "source": [
    "### Wysyłanie obrazków z tekstem!\n",
    "-> nakładki OCR (ang. optical character recognition)"
   ]
  },
  {
   "cell_type": "markdown",
   "metadata": {
    "id": "CbYzjoYFBDs-"
   },
   "source": [
    "Jakieś inne pomysły? :)"
   ]
  },
  {
   "cell_type": "code",
   "execution_count": null,
   "metadata": {
    "colab": {
     "base_uri": "https://localhost:8080/",
     "height": 34
    },
    "executionInfo": {
     "elapsed": 579,
     "status": "ok",
     "timestamp": 1573803857165,
     "user": {
      "displayName": "Anna Dawid",
      "photoUrl": "https://lh3.googleusercontent.com/a-/AAuE7mBMAlqIzrWbyBbGSDvCFuCvvSN7Xx3h3HRKaToc0r4=s64",
      "userId": "02862484648310443813"
     },
     "user_tz": -60
    },
    "id": "NIAyQbAtBJbI",
    "outputId": "acf18768-ea2b-499b-b8d6-2ae78dcfb1a1"
   },
   "outputs": [],
   "source": [
    "our_tricky_message = vectorizer.transform(['Call for free sex otherwise you miss a very important meeting'])\n",
    "print(clf.predict(our_tricky_message))"
   ]
  },
  {
   "cell_type": "markdown",
   "metadata": {},
   "source": [
    "#### Dlaczego powyższa wiadomość została sklasyfikowana jako pożądana, chociaż jest ewidentnym przykładem spamu?"
   ]
  },
  {
   "cell_type": "code",
   "execution_count": null,
   "metadata": {},
   "outputs": [],
   "source": []
  }
 ],
 "metadata": {
  "anaconda-cloud": {},
  "colab": {
   "collapsed_sections": [],
   "name": "05M_Bayes_spam.ipynb",
   "provenance": [
    {
     "file_id": "1BY9TSukNLV3VgtNdHpcgWofeAtVF4yku",
     "timestamp": 1573037493591
    }
   ]
  },
  "kernelspec": {
   "display_name": "Python 3",
   "language": "python",
   "name": "python3"
  },
  "language_info": {
   "codemirror_mode": {
    "name": "ipython",
    "version": 3
   },
   "file_extension": ".py",
   "mimetype": "text/x-python",
   "name": "python",
   "nbconvert_exporter": "python",
   "pygments_lexer": "ipython3",
   "version": "3.8.6"
  }
 },
 "nbformat": 4,
 "nbformat_minor": 2
}
