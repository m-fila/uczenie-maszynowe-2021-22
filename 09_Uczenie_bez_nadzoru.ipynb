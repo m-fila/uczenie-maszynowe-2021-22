{
 "cells": [
  {
   "cell_type": "markdown",
   "metadata": {
    "colab_type": "text",
    "id": "view-in-github"
   },
   "source": [
    "<a href=\"https://colab.research.google.com/github/m-fila/uczenie-maszynowe-2021-22/blob/main/09_Uczenie_bez_nadzoru.ipynb\" target=\"_parent\"><img src=\"https://colab.research.google.com/assets/colab-badge.svg\" alt=\"Open In Colab\"/></a>"
   ]
  },
  {
   "cell_type": "markdown",
   "metadata": {
    "id": "kjDr2CkqdC_5"
   },
   "source": [
    "# Analiza skupień"
   ]
  },
  {
   "cell_type": "markdown",
   "metadata": {
    "id": "V1H1E_LZk8w9"
   },
   "source": [
    "Do tej pory na ćwiczeniach zajmowaliśmy się technikami uczenia nadzorowanego, tzn. dane oznakowane były zarówno cechami $X$ jak i etykietami $y$. \n",
    "\n",
    "Na tych zajęciach przejdziemy do przejdziemy do uczenia nienadzorowanego, tzn. dane oznakowane będą wyłącznie cechami.\n",
    "\n",
    "Zagadnieniem, którym będzie się zajmować będzie analiza skupień/grup (*clustering*)."
   ]
  },
  {
   "cell_type": "code",
   "execution_count": null,
   "metadata": {
    "id": "-1g8_aixcTTb"
   },
   "outputs": [],
   "source": [
    "import numpy as np\n",
    "import pandas as pd\n",
    "import seaborn as sns\n",
    "import matplotlib.pyplot as plt\n",
    "\n",
    "from scipy.stats import multivariate_normal\n",
    "\n",
    "from sklearn.datasets import make_blobs, make_circles, make_moons\n",
    "from sklearn.preprocessing import StandardScaler\n",
    "from sklearn.cluster import KMeans, DBSCAN\n",
    "from sklearn.mixture import GaussianMixture\n",
    "from sklearn.metrics import silhouette_score"
   ]
  },
  {
   "cell_type": "markdown",
   "metadata": {
    "id": "adFMznRvdOSc"
   },
   "source": [
    "### K-średnich (K-means)"
   ]
  },
  {
   "cell_type": "markdown",
   "metadata": {
    "id": "OXMQ8jkXiLpv"
   },
   "source": [
    "Proszę:\n",
    "- wygenerować zbiór 1000 punktów przy użyciu funkcji `sklearn.datasets.make_blobs`,\n",
    "- przeprowadzić operację skalowania przy użyciu klasy `StandardScaler`,\n",
    "- narysować na płaszczyźnie wartości cech : oś OX - cecha 0, OY - cecha 1.\n"
   ]
  },
  {
   "cell_type": "code",
   "execution_count": null,
   "metadata": {
    "colab": {
     "base_uri": "https://localhost:8080/",
     "height": 458
    },
    "deletable": false,
    "id": "_iqErLHedN6u",
    "nbgrader": {
     "cell_type": "code",
     "checksum": "68809877d64eba68f07d7f5a684f13ec",
     "grade": false,
     "grade_id": "7C71403F98164643",
     "locked": false,
     "schema_version": 3,
     "solution": true,
     "task": false
    },
    "outputId": "450570a0-e574-4745-9a8d-62a8a7e8f3dc"
   },
   "outputs": [],
   "source": [
    "\n",
    "X, _ = make_blobs(n_samples=1000,  centers=3, cluster_std=1, random_state=42)\n",
    "\n",
    "# scaler = ...\n",
    "# X = ...\n",
    "# sns.jointplot(...)\n",
    "### YOUR CODE HERE"
   ]
  },
  {
   "cell_type": "markdown",
   "metadata": {
    "id": "Q66q_TgzBDBo"
   },
   "source": [
    "Proszę:\n",
    "- na podstawie poprzedniego rysunku określić liczbę klastrów w danych."
   ]
  },
  {
   "cell_type": "code",
   "execution_count": null,
   "metadata": {
    "deletable": false,
    "id": "OTLZ4pFepMEL",
    "nbgrader": {
     "cell_type": "code",
     "checksum": "4d324d5227af1f63dd73f813b9fffaef",
     "grade": false,
     "grade_id": "2CAE0180D5864DD1",
     "locked": false,
     "schema_version": 3,
     "solution": true,
     "task": false
    }
   },
   "outputs": [],
   "source": [
    "# n_clusters = ...\n",
    "### YOUR CODE HERE"
   ]
  },
  {
   "cell_type": "markdown",
   "metadata": {
    "id": "yimEvhP9BMm9"
   },
   "source": [
    "Dane przygotowane, sprawdźmy jakie skupienia znajdzie algorytm k-średnich.\n",
    "\n",
    "Proszę:\n",
    "- utworzyć model `sklearn.cluster.KMeans` z parametrem `n_clusters` równym liczbie skupień w zbiorze danych,\n",
    "- wyuczyć model na danych. Aby przewidzieć przynależność próbki danych do skupienia możesz użyć metody `predict`. Przynależności zbioru użytego do treningu dostępne są też w składowej modelu `labels_`.\n",
    "- narysować zbiór danych z uwzględnieniem przynależności do znalezionych skupień."
   ]
  },
  {
   "cell_type": "code",
   "execution_count": null,
   "metadata": {
    "colab": {
     "base_uri": "https://localhost:8080/",
     "height": 458
    },
    "deletable": false,
    "id": "7L7a0sCfigdw",
    "nbgrader": {
     "cell_type": "code",
     "checksum": "2ce4cf2e2f44223b4bf9abfcb77267c0",
     "grade": false,
     "grade_id": "7088157CCC5747C7",
     "locked": false,
     "schema_version": 3,
     "solution": true,
     "task": false
    },
    "outputId": "ecb8afb1-c697-4690-efda-02cd83833cf4"
   },
   "outputs": [],
   "source": [
    "# model = ...\n",
    "# y_predict = ...\n",
    "# sns.jointplot(...)\n",
    "### YOUR CODE HERE"
   ]
  },
  {
   "cell_type": "markdown",
   "metadata": {
    "id": "H0PnBYghQTop"
   },
   "source": [
    "Proszę:\n",
    "- na jednym rysunku narysować zbiór danych, granicę decyzyjną modelu (funkcja `plot_decision`) oraz środki skupień (funkcja `plot_cluster_centers`),\n",
    "- zwrócić uwagę na regularny (liniowy) kształt granicy decyzyjnej."
   ]
  },
  {
   "cell_type": "code",
   "execution_count": null,
   "metadata": {
    "id": "lPJ3a3rADLFX"
   },
   "outputs": [],
   "source": [
    "def plot_decision(X, y, model, h = 0.02, ax=None, palette='tab10'):\n",
    "  if ax is None:\n",
    "    ax = plt.gca()\n",
    "  if isinstance(X, pd.DataFrame):\n",
    "    X = X.values\n",
    "  x_min, x_max = X[:, 0].min() - 1, X[:, 0].max() + 1\n",
    "  y_min, y_max = X[:, 1].min() - 1, X[:, 1].max() + 1\n",
    "  xx, yy = np.meshgrid(np.arange(x_min, x_max, h),\n",
    "                     np.arange(y_min, y_max, h))\n",
    "  Z = model.predict(np.c_[xx.ravel(), yy.ravel()])\n",
    "  Z = Z.reshape(xx.shape)\n",
    "  sns.scatterplot(x=X[:, 0], y=X[:, 1], hue=y, ax=ax, palette=palette)\n",
    "  ax.contour(xx, yy, Z, cmap=plt.cm.RdYlBu, alpha=0.8)\n",
    "  return ax"
   ]
  },
  {
   "cell_type": "code",
   "execution_count": null,
   "metadata": {
    "id": "L6KJ6dqkDDwl"
   },
   "outputs": [],
   "source": [
    "def plot_cluster_centers(centers, ax=None):\n",
    "  if ax is None:\n",
    "    ax=plt.gca()\n",
    "  ax.scatter(x=centers[:,0], y=centers[:,1], marker=\"o\", c=\"white\", alpha=1, s=200, edgecolor=\"k\")\n",
    "  for i, c in enumerate(centers):\n",
    "      ax.scatter(c[0], c[1], marker=\"$%d$\" % i, alpha=1, s=50, edgecolor=\"k\")\n",
    "  return ax"
   ]
  },
  {
   "cell_type": "code",
   "execution_count": null,
   "metadata": {
    "colab": {
     "base_uri": "https://localhost:8080/",
     "height": 282
    },
    "deletable": false,
    "id": "d1Q-xhbfriLt",
    "nbgrader": {
     "cell_type": "code",
     "checksum": "8e7c6d9116b1b1b3a9bf62c7950ec3bd",
     "grade": false,
     "grade_id": "06DE13010DE84941",
     "locked": false,
     "schema_version": 3,
     "solution": true,
     "task": false
    },
    "outputId": "4be70a23-cc6b-47dd-ad1d-f0e2be390441"
   },
   "outputs": [],
   "source": [
    "# ax = ...\n",
    "# plot_cluster_centers(...)\n",
    "### YOUR CODE HERE"
   ]
  },
  {
   "cell_type": "markdown",
   "metadata": {
    "id": "qIxL49d45AiX"
   },
   "source": [
    "#### Wybór liczby skupień\n",
    "\n",
    "Kluczowym hiperparametrem algorytmu k-średnich jest liczba skupień.\n",
    "W poprzednim przykładzie najpierw narysowaliśmy dane, żeby móc własnoręcznie określić liczę skupień. Takie rozwiązanie jest bardzo słabo skalowalne, a w przypadku danych o wielu cechach niemożliwe."
   ]
  },
  {
   "cell_type": "markdown",
   "metadata": {
    "id": "NpO2TyL8bzDR"
   },
   "source": [
    "Zanim przejdziemy do znajdowania właściwej liczby klastrów zobaczmy, jak algorytm k-średnich będzie się zachowywał dla różnych wartości liczby klastrów.\n",
    "\n",
    "Proszę:\n",
    "- dla liczb klastrów w `[0,5]` narysować położenia centrów klastrów, granice decyzjne i dane."
   ]
  },
  {
   "cell_type": "code",
   "execution_count": null,
   "metadata": {
    "colab": {
     "base_uri": "https://localhost:8080/",
     "height": 607
    },
    "deletable": false,
    "id": "LS_kc_JubybY",
    "nbgrader": {
     "cell_type": "code",
     "checksum": "589a3a4b427460ff382d032dbb229529",
     "grade": false,
     "grade_id": "AD67C7D0A42A4F3C",
     "locked": false,
     "schema_version": 3,
     "solution": true,
     "task": false
    },
    "outputId": "714ce883-4f33-4c9f-ea0b-67a30e5e8759"
   },
   "outputs": [],
   "source": [
    "k_range=range(2,6,1)\n",
    "fig, axes= plt.subplots(2,2,figsize=(10,10))\n",
    "for k, ax in zip(k_range, axes.reshape(-1)):\n",
    "  # model = ...\n",
    "  # y_predict = ...\n",
    "  # plot_decision(...)\n",
    "  # plot_cluster_centers(...)\n",
    "  # ax.set_title(...)\n",
    "  ### YOUR CODE HERE"
   ]
  },
  {
   "cell_type": "markdown",
   "metadata": {
    "id": "ye2JWQyq71r0"
   },
   "source": [
    "Żeby móc porównywać modele konieczne jest wprowadzenie jakiejś metryki jakości. Tym razem nasze przykłady nie są oznaczane cechami, więc nie możemy stosować metryk znanych nam z uczenia nadzorowanego.\n",
    "\n",
    "Dla modelu K-means możemy wprowadzić *bezwładność* (*inertia*) (średni kwadrat odległości między punktami, a najbliższymi centroidami). Spodziewamy się, że dla ustalonej liczby skupień modele z niższą *inercją* będą lepsze. Wraz ze wzrostem liczby skupień *inercja* również będzie maleć, dlatego porównywanie inercji nie jest wystarczające.\n",
    "\n",
    "Proszę:\n",
    "- narysować wykresj *inercji* modelu (`KMeans.inertia_`) od liczby klastrów dla liczb klastrów w przedziale $[2,5]$,\n",
    "- zastanowić się, czemu na wykresie znajduje się punkt przegięcia (*elbow*)."
   ]
  },
  {
   "cell_type": "code",
   "execution_count": null,
   "metadata": {
    "colab": {
     "base_uri": "https://localhost:8080/",
     "height": 296
    },
    "deletable": false,
    "id": "eGS616IODcTB",
    "nbgrader": {
     "cell_type": "code",
     "checksum": "a6db28f9d88af575537faf3ccc697da1",
     "grade": false,
     "grade_id": "64E61D0E05B5462B",
     "locked": false,
     "schema_version": 3,
     "solution": true,
     "task": false
    },
    "outputId": "e58edfd3-3cc0-4350-af06-dbefd5664f56"
   },
   "outputs": [],
   "source": [
    "k_range = range(2,6,1)\n",
    "# inertias = [ ... for k in k_range ]\n",
    "# plt.plot(...)\n",
    "### YOUR CODE HERE\n",
    "plt.xlabel(\"k\")\n",
    "plt.ylabel(\"Inertia\")"
   ]
  },
  {
   "cell_type": "markdown",
   "metadata": {
    "id": "HdYbl8moK8Qt"
   },
   "source": [
    "Inną metryką, którą możemy wprowadzić jest *wynik profilu* (*silhouette score*) będący średnią *współczynników profilu* (*silhouette coefficient*):\n",
    "\n",
    "$$\\frac{b-a}{\\max(a,b)}$$, \n",
    "gdzie:\n",
    "- $a$ jest średnią odległością do pozostałych przykładów w danym skupieniu (średnia odległość w skupieniu),\n",
    "- $b$ jest średnią odległością danego przykładu do przykładów w najbliższym innym skupieniu (średnia odległość do najbliższego skupienia).\n",
    "\n",
    "*Współczynnik profilu* przyjmuje wartości od `-1` do `1`, gdzie wartości bliskie `-1` wskazują, że przykład trafił do złego skupienia, a `1`, że trafił do dobrego.\n",
    "\n",
    "*Wynik profilu* można bezpośrednio używać do porównywania modeli o różnej liczbie skupień, ale jest metryką kosztowną obliczeniową.\n",
    "\n",
    "Proszę:\n",
    "- narysować wykres *wyniku profilu*  modelu (`sklearn.metrics.silhouette_score`) od liczby klastrów dla liczby klastrów w przedziale $[2,5]$,\n",
    "- znaleźć najlepszą liczbę klastrów."
   ]
  },
  {
   "cell_type": "code",
   "execution_count": null,
   "metadata": {
    "colab": {
     "base_uri": "https://localhost:8080/",
     "height": 296
    },
    "deletable": false,
    "id": "P203RWfu70o-",
    "nbgrader": {
     "cell_type": "code",
     "checksum": "185bf3a614a860f22901cd2b70312d87",
     "grade": false,
     "grade_id": "C8F7F28AFA8C442E",
     "locked": false,
     "schema_version": 3,
     "solution": true,
     "task": false
    },
    "outputId": "ed80833a-668d-48b4-87d5-9bf81d218d34"
   },
   "outputs": [],
   "source": [
    "k_range=range(2,6,1)\n",
    "# silhouettes = [ ... for k in k_range ]\n",
    "# plt.plot(...)\n",
    "### YOUR CODE HERE\n",
    "plt.xlabel(\"k\")\n",
    "plt.ylabel(\"silhouette score\")\n",
    "print(\"Best number of clusters is: {}\".format( k_range[np.argmax(silhouettes)] ))"
   ]
  },
  {
   "cell_type": "markdown",
   "metadata": {
    "id": "eJhqMF9Od5gA"
   },
   "source": [
    "## Gaussowski model mieszany (Expectation maximization) (EM)"
   ]
  },
  {
   "cell_type": "markdown",
   "metadata": {
    "id": "fVHENOI4FHuU"
   },
   "source": [
    "Proszę:\n",
    "- korzystając z klasy `sklearn.cluster.GaussianMixture` przeprowadzić operację klastryzacji danych (te same dane co w algorytmie k-średnich)\n",
    "- narysować na płaszczyńnie wartości cech, kolorująć dane wedgług znalezionych skupień.\n"
   ]
  },
  {
   "cell_type": "code",
   "execution_count": null,
   "metadata": {
    "colab": {
     "base_uri": "https://localhost:8080/",
     "height": 441
    },
    "deletable": false,
    "id": "qc7cDZqHMvkW",
    "nbgrader": {
     "cell_type": "code",
     "checksum": "36f01eba59fe1da46fb610f4aa370a31",
     "grade": false,
     "grade_id": "E36B758D728B46AB",
     "locked": false,
     "schema_version": 3,
     "solution": true,
     "task": false
    },
    "outputId": "a9c364ad-c0a5-4d32-cf91-dfba743e86f8"
   },
   "outputs": [],
   "source": [
    "# model = ...\n",
    "# y_predict = ...\n",
    "# sns.jointplot(...)\n",
    "### YOUR CODE HERE"
   ]
  },
  {
   "cell_type": "markdown",
   "metadata": {
    "id": "IWH_ucUaFpux"
   },
   "source": [
    "Proszę narysować:\n",
    "- dwuwymiarowy rozkład danych dla analizowanego zbioru, korzystając z funkcji `sns.jointplot`. Punkty powinny być pokolorowane według przynależności do skupień,\n",
    "- korzystając z funkcji `plot_2d_gaussians` na tym samym wykresie nanieść rozkłady Gaussa dopasowane przez model.\n"
   ]
  },
  {
   "cell_type": "markdown",
   "metadata": {
    "id": "14Sg4FNfHl6H"
   },
   "source": [
    "Proszę:\n",
    "- na jednym rysunku narysować dane z uwzględnieniem cech oraz wyczone przez model rozkłady skupień (funkcja `plot_2d_gaussian`)."
   ]
  },
  {
   "cell_type": "code",
   "execution_count": null,
   "metadata": {
    "id": "UkWBV-7_wp7C"
   },
   "outputs": [],
   "source": [
    "def plot_2d_gaussians(X, means, covs, ax=None, h=0.02):\n",
    "    if ax is None:\n",
    "      ax=plt.gca()\n",
    "    if isinstance(X, pd.DataFrame):\n",
    "      X = X.values\n",
    "    x_min, x_max = X[:, 0].min() - 1, X[:, 0].max() + 1\n",
    "    y_min, y_max = X[:, 1].min() - 1, X[:, 1].max() + 1\n",
    "    xx, yy = np.meshgrid(np.arange(x_min, x_max, h), np.arange(y_min, y_max, h))\n",
    "    pos = np.dstack((xx, yy))\n",
    "    for m, c in zip(means, covs):\n",
    "      zz = multivariate_normal.pdf(pos, mean=m, cov=c)\n",
    "      ax.contour(xx, yy, zz, levels=np.logspace(-5,1,7)) "
   ]
  },
  {
   "cell_type": "code",
   "execution_count": null,
   "metadata": {
    "colab": {
     "base_uri": "https://localhost:8080/",
     "height": 441
    },
    "deletable": false,
    "id": "hvO8J231zjey",
    "nbgrader": {
     "cell_type": "code",
     "checksum": "62b045d68e1c10e3ee7cfc1d4655402c",
     "grade": false,
     "grade_id": "72B75C63EDE4421F",
     "locked": false,
     "schema_version": 3,
     "solution": true,
     "task": false
    },
    "outputId": "17abf4d4-8d52-4ead-8533-8ae3fec2eda5"
   },
   "outputs": [],
   "source": [
    "# graph = ...\n",
    "# plot_2d_gaussians(...)\n",
    "### YOUR CODE HERE"
   ]
  },
  {
   "cell_type": "markdown",
   "metadata": {
    "id": "0uV8o7wzVjdx"
   },
   "source": [
    "## DBSCAN"
   ]
  },
  {
   "cell_type": "markdown",
   "metadata": {
    "id": "Zy69vfq0s0K2"
   },
   "source": [
    "Kolejnym popularnym algorytmem klasteryzacji jest DBSCAN.\n",
    "\n",
    "Szkic algorytmu:\n",
    "1. Dla każdego przykładu znajdź liczbę przykładów mieszczących się w odległości `eps` od niego (*$\\epsilon$-sąsiedztwie*),\n",
    "1. Jeżeli liczba ta jest większa niż `min_samples`, to jest to *przykład rdzeniowy*.\n",
    "1. Wszystkie przykłady (*także inne przykłady rdzeniowe*) w *sąsiedztwie* *przykładu rdzeniowego* należą do tego samego klastra. \n",
    "1. Każdy przykład nie będący *przykładem rdzeniowym*, ani nie leżący w *sąsiedztwie* przykładu rdzeniowego jest anomalią."
   ]
  },
  {
   "cell_type": "markdown",
   "metadata": {
    "id": "ClVVsdaTtC2K"
   },
   "source": [
    "Proszę:\n",
    "- narysować skupienia znalezione za pomocą algorytmu `sklearn.cluster.DBSCAN` z parametrem `min_samples=5` i `eps` w `[.05, 0.1, 0.2]`. Na tych samych rysunkach zaznaczyć przykłady rdzeniowe."
   ]
  },
  {
   "cell_type": "code",
   "execution_count": null,
   "metadata": {
    "id": "wlwgAJhqVufF"
   },
   "outputs": [],
   "source": [
    "X, _ = make_moons(n_samples=300, noise=0.05)"
   ]
  },
  {
   "cell_type": "code",
   "execution_count": null,
   "metadata": {
    "colab": {
     "base_uri": "https://localhost:8080/",
     "height": 320
    },
    "deletable": false,
    "id": "ZBbyqEKinLj_",
    "nbgrader": {
     "cell_type": "code",
     "checksum": "86f0ca08108094eceb1a68eb7bd61e4b",
     "grade": false,
     "grade_id": "AD7A4C0792714935",
     "locked": false,
     "schema_version": 3,
     "solution": true,
     "task": false
    },
    "outputId": "d5a2c936-86c4-4b5b-f61c-4258bf304014"
   },
   "outputs": [],
   "source": [
    "eps=[.05,0.1,0.2]\n",
    "fig, axes = plt.subplots(1, 3, figsize=(15,5))\n",
    "for eps, ax in zip(eps,axes.reshape(-1)):\n",
    "  # model = DBSCAN(eps, min_samples=5)\n",
    "  # model.fit(X)\n",
    "  # sns.scatterplot(x=X[:,0], y=X[:,1], hue=model.labels_, ax=ax, palette='tab10')\n",
    "  # core = model.components_\n",
    "  ### YOUR CODE HERE\n",
    "  ax.scatter(core[:,0], core[:,1],s=100, linewidth=1, facecolors='none', edgecolors='k')"
   ]
  },
  {
   "cell_type": "markdown",
   "metadata": {
    "id": "1njaksrrfCu4"
   },
   "source": [
    "## Porównanie algorytmów"
   ]
  },
  {
   "cell_type": "markdown",
   "metadata": {
    "id": "k1wvkMDvyZTF"
   },
   "source": [
    "W tej części zobaczymy, jak poznane algorytmy poradzą sobie na różnych zbiorach danych.\n",
    "\n"
   ]
  },
  {
   "cell_type": "code",
   "execution_count": null,
   "metadata": {
    "id": "l8DYreqaYyJt"
   },
   "outputs": [],
   "source": [
    "n_samples = 1500"
   ]
  },
  {
   "cell_type": "code",
   "execution_count": null,
   "metadata": {
    "id": "OBBSXEcTfDBb"
   },
   "outputs": [],
   "source": [
    "circles, _ = make_circles(n_samples=n_samples, factor=0.5, noise=0.05)\n",
    "moons, _  = make_moons(n_samples=n_samples, noise=0.05)\n",
    "blobs, _ = make_blobs(n_samples=n_samples, cluster_std=[1.0, 2.0, 0.5], random_state=170)\n",
    "no_structure = np.random.rand(n_samples, 2)\n",
    "\n",
    "aniso, _ = make_blobs(n_samples=n_samples, random_state=170)\n",
    "transformation = [[0.6, -0.6], [-0.4, 0.8]]\n",
    "aniso = np.dot(aniso, transformation)\n",
    "\n",
    "datasets=[(circles, {'n_class': 2, 'eps': 0.3}),\n",
    "          (moons, {'n_class': 2, 'eps': 0.3} ),\n",
    "          (blobs, {'n_class': 3, 'eps': 0.15}),\n",
    "          (aniso, {'n_class': 3, 'eps': 0.15}),\n",
    "          (no_structure, {'n_class': 3, 'eps': 0.3})\n",
    "          ]\n",
    "models=[(KMeans, 'n_class'), (GaussianMixture, 'n_class'), (DBSCAN, 'eps')]"
   ]
  },
  {
   "cell_type": "code",
   "execution_count": null,
   "metadata": {
    "colab": {
     "base_uri": "https://localhost:8080/",
     "height": 729
    },
    "id": "sjptLPyaf3rs",
    "outputId": "d1a6b76b-8722-4e77-a09f-cd651190b3dc"
   },
   "outputs": [],
   "source": [
    "fig, axes = plt.subplots(len(datasets), len(models), figsize=(10,10))\n",
    "for ax, (model, _) in zip(axes[0], models):\n",
    "  ax.set_title(model.__name__)\n",
    "for axis, (X, parameter_values) in zip(axes, datasets):\n",
    "  X = StandardScaler().fit_transform(X)\n",
    "  for ax, (model_constructor, parameter) in zip (axis, models):\n",
    "    model = model_constructor(parameter_values[parameter])\n",
    "    y_pred = model.fit_predict(X)\n",
    "    sns.scatterplot(x=X[:,0], y=X[:,1],hue=y_pred, ax=ax, legend=False, palette='tab10')\n",
    "plt.tight_layout()"
   ]
  },
  {
   "cell_type": "markdown",
   "metadata": {
    "id": "09JDGdn5TSMN"
   },
   "source": [
    "Proszę:\n",
    "- na podstawie powyższych rysunków napisać, jakie warunki musi spełniać skupienie, aby dany algorytm prawidłowo je rozpoznał."
   ]
  },
  {
   "cell_type": "code",
   "execution_count": null,
   "metadata": {
    "deletable": false,
    "nbgrader": {
     "cell_type": "code",
     "checksum": "5156d58ac139624d44c7f4620158c5de",
     "grade": false,
     "grade_id": "A72FAA2AB40140E1",
     "locked": false,
     "schema_version": 3,
     "solution": true,
     "task": false
    }
   },
   "outputs": [],
   "source": [
    "### Twoje przemyślenia o algorytmach:\n",
    "### YOUR CODE HERE\n"
   ]
  },
  {
   "cell_type": "markdown",
   "metadata": {
    "id": "dUeZxFukdRHy"
   },
   "source": [
    "## Segmentacja obrazu"
   ]
  },
  {
   "cell_type": "markdown",
   "metadata": {
    "id": "Hvr2AcrHBOyA"
   },
   "source": [
    "Analiza skupień może zostać wykorzystana do segmentacji, np. grupowania klientów na podstawie historii zakupów lub wydzielania obszarów na zdjęciu ze względu na kolor lub obiekt do którego należą.\n",
    "\n",
    "W naszym zadaniu zajmiemy się segmentacją kolorów na zdjęciu polegającej na grupowaniu pikseli na podstawie podobieństwa barw. Pomimo swojej prostoty segmentacja barw może być wykorzystana do bardzo naiwnej selekcji obiektów na zdjęciu, kompresji obrazu albo jako wstępny etap wykrywania konturów.\n",
    "\n",
    "Proszę:\n",
    "- pobrać i załadować zdjęcie,\n",
    "- przekonwertować zdjęcie do skali szarości i na jego podstawie stworzyć tablicę `numpy.array`,\n",
    "- wypisać na ekran kształt danych,\n",
    "- zlinearyzować rysunek, czyli zmienić kształt danych na (-1,1).\n",
    "\n",
    "\n",
    "\n",
    "\n"
   ]
  },
  {
   "cell_type": "code",
   "execution_count": null,
   "metadata": {
    "id": "xWTMuyjeNvVG"
   },
   "outputs": [],
   "source": [
    "from PIL import Image"
   ]
  },
  {
   "cell_type": "code",
   "execution_count": null,
   "metadata": {
    "colab": {
     "base_uri": "https://localhost:8080/"
    },
    "id": "SoWdv_pPdaA7",
    "outputId": "c21c26ed-167f-4811-a0e9-360f316501dd"
   },
   "outputs": [],
   "source": [
    "!git clone https://github.com/m-fila/uczenie-maszynowe-2021-22"
   ]
  },
  {
   "cell_type": "code",
   "execution_count": null,
   "metadata": {
    "colab": {
     "base_uri": "https://localhost:8080/",
     "height": 304
    },
    "deletable": false,
    "id": "vohrUh-KH6cJ",
    "nbgrader": {
     "cell_type": "code",
     "checksum": "bdf6af25d4b24b51f4722682fa114338",
     "grade": false,
     "grade_id": "7BB9DDA465274569",
     "locked": false,
     "schema_version": 3,
     "solution": true,
     "task": false
    },
    "outputId": "a87e8d73-b66d-491a-ea11-6c7a5bccd964"
   },
   "outputs": [],
   "source": [
    "img = Image.open('uczenie-maszynowe-2021-22/dane/head.png')\n",
    "img = img.convert('L') # convertion from RGB to grayscale\n",
    "image=np.asarray(img)\n",
    "\n",
    "# plt.imshow(... , cmap='gray')\n",
    "# print(\"image.shape:\", ... )\n",
    "# X = ...\n",
    "# print(\"X.shape:\", ... )\n",
    "### YOUR CODE HERE"
   ]
  },
  {
   "cell_type": "markdown",
   "metadata": {
    "id": "4t8ynwLTgfbr"
   },
   "source": [
    "Rysunek został wstępnie przetworzony. Do segmentacji danych użyjemy algorytm k-średnich, więc musimy znaleźć liczbę klastrów.\n",
    "\n",
    "Proszę:\n",
    "- narysować rozkłady bezwłasności oraz wyniku profilu przyjmując liczbę klastrów z zakresie $[2,8]$,\n",
    "- znaleźć optymalną liczbę klastrów analizując uzyskane rozkłady.\n",
    "\n"
   ]
  },
  {
   "cell_type": "code",
   "execution_count": null,
   "metadata": {
    "colab": {
     "base_uri": "https://localhost:8080/"
    },
    "deletable": false,
    "id": "UCxAOM51IdUr",
    "nbgrader": {
     "cell_type": "code",
     "checksum": "eafdbe0172151ef43ffaf9b8f2757f2c",
     "grade": false,
     "grade_id": "61DBB9785F064D8F",
     "locked": false,
     "schema_version": 3,
     "solution": true,
     "task": false
    },
    "outputId": "fa24efb7-3b88-467d-a37d-fedf6149fb91"
   },
   "outputs": [],
   "source": [
    "%%time\n",
    "def getScores(X, k):\n",
    "    model = KMeans(n_clusters=k)\n",
    "    model.fit(X)\n",
    "    silhouette = silhouette_score(X,model.labels_)\n",
    "    inertia = model.inertia_\n",
    "    ### YOUR CODE HERE\n",
    "    return silhouette, inertia\n",
    "\n",
    "k_range = np.arange(2,8,1)\n",
    "scores = [ getScores(X,k) for k in k_range ]\n",
    "\n"
   ]
  },
  {
   "cell_type": "code",
   "execution_count": null,
   "metadata": {
    "colab": {
     "base_uri": "https://localhost:8080/",
     "height": 314
    },
    "deletable": false,
    "id": "ItO1pCeI9C_w",
    "nbgrader": {
     "cell_type": "code",
     "checksum": "d1660ea9b598885224a7f212d6692529",
     "grade": false,
     "grade_id": "55AAE6A0148A454D",
     "locked": false,
     "schema_version": 3,
     "solution": true,
     "task": false
    },
    "outputId": "1e4932ee-f688-40fa-f092-bd0f0486fb6f"
   },
   "outputs": [],
   "source": [
    "scores = np.array(scores)\n",
    "\n",
    "fig, axes = plt.subplots(1, 2, figsize=(7,4))\n",
    "\n",
    "# axes[0].plot(...)\n",
    "# axes[0].set_xlabel(\"k\")\n",
    "# axes[0].set_ylabel(\"inertia score\")\n",
    "# axes[1].plot(...)\n",
    "# axes[1].set_xlabel(\"k\")\n",
    "# axes[1].set_ylabel(\"silhouette score\")\n",
    "# best_k = ...\n",
    "### YOUR CODE HERE\n",
    "print(\"Best number of clusters is: {}\".format(best_k))\n",
    "fig.tight_layout()"
   ]
  },
  {
   "cell_type": "markdown",
   "metadata": {
    "id": "Vpq0T2kmjjzY"
   },
   "source": [
    "Znając liczbę klastrów na rysunku utwórzmy fianlny model i użyjmy go do segmentacji.\n",
    "\n",
    "Proszę:\n",
    "- utworzyć model `KMeans` z optymalną liczbą klastrów,\n",
    "- wyuczyć model na danych,\n",
    "- narysować zdjęcie po segmentacji (wartości wszystkich pixeli należących do klastrów zastąpić wartością centroidu danego klastra),\n",
    "- wypisać współrzędne centroidów. W jakiej przestrzeni są podane te współrzędne?"
   ]
  },
  {
   "cell_type": "code",
   "execution_count": null,
   "metadata": {
    "colab": {
     "base_uri": "https://localhost:8080/",
     "height": 373
    },
    "deletable": false,
    "id": "ORXtpSXijtJU",
    "nbgrader": {
     "cell_type": "code",
     "checksum": "17ee34a33c68bb90b3b8645881fe38eb",
     "grade": false,
     "grade_id": "6F3316CE001042F6",
     "locked": false,
     "schema_version": 3,
     "solution": true,
     "task": false
    },
    "outputId": "96d11629-0ff9-4841-8015-f8c0416496db"
   },
   "outputs": [],
   "source": [
    "# X = ...\n",
    "# model = ...\n",
    "# model.fit(...)\n",
    "# segmented_image = ...\n",
    "# plt.imshow(...)\n",
    "### YOUR CODE HERE\n",
    "print(model.cluster_centers_)"
   ]
  },
  {
   "cell_type": "markdown",
   "metadata": {
    "id": "jEsXtbbqkiQM"
   },
   "source": [
    "Proszę:\n",
    "- narysować histogram wartości poziomu szarości. Dla czytelności proszę nie rysować zliczeń dla czarnych pikseli,\n",
    "- na tym samym rysunku proszę zaznaczyć położenia centroidów.\n",
    "\n"
   ]
  },
  {
   "cell_type": "code",
   "execution_count": null,
   "metadata": {
    "colab": {
     "base_uri": "https://localhost:8080/",
     "height": 442
    },
    "deletable": false,
    "id": "dAeYcwI_ki4H",
    "nbgrader": {
     "cell_type": "code",
     "checksum": "7adc5559d5b46fa64070160a883e0cb4",
     "grade": false,
     "grade_id": "3DBC80C7B0DF41FF",
     "locked": false,
     "schema_version": 3,
     "solution": true,
     "task": false
    },
    "outputId": "7ff2aafd-71e3-42e2-ec7b-34698662f8f3"
   },
   "outputs": [],
   "source": [
    "fig, ax = plt.subplots(figsize=(7,7))\n",
    "# ax.hist(...)\n",
    "# centroids = ...\n",
    "# ax.plot(...)\n",
    "### YOUR CODE HERE\n",
    "ax.set_xlabel(\"pixel value\")\n",
    "ax.set_ylabel(\"number of pixels\");"
   ]
  },
  {
   "cell_type": "markdown",
   "metadata": {
    "id": "4PoRuznWTqZC"
   },
   "source": [
    "Możemy też wyselekcjonować obszary na zdjęciu należące do wybranego skupienia. \n",
    "\n",
    "Proszę:\n",
    "- narysować maskę składającą się wyłącznie z elementów zdjęcia należących do klastra `2`,\n",
    "- narysować elementy zdjęcia dla których wartość piksela jesb bliska wartości (w odległości mniejszej niż 30) centroidu dla klastra `2`."
   ]
  },
  {
   "cell_type": "code",
   "execution_count": null,
   "metadata": {
    "colab": {
     "base_uri": "https://localhost:8080/",
     "height": 305
    },
    "deletable": false,
    "id": "hh-3v2_hQpcM",
    "nbgrader": {
     "cell_type": "code",
     "checksum": "2dfafe6c07d3c20fecbc2e05edc32743",
     "grade": false,
     "grade_id": "A1E1F2D015A94DD0",
     "locked": false,
     "schema_version": 3,
     "solution": true,
     "task": false
    },
    "outputId": "fdfc8ade-e339-4b21-8de0-581ebb9fbe6f"
   },
   "outputs": [],
   "source": [
    "fig, ax = plt.subplots(1,2, figsize=(10,10))\n",
    "\n",
    "# ax[0].imshow(...)\n",
    "# centroid0 = ...\n",
    "# X_filter = ...\n",
    "# ax[1].imshow(...)\n",
    "### YOUR CODE HERE\n"
   ]
  }
 ],
 "metadata": {
  "colab": {
   "collapsed_sections": [],
   "name": "Copy of cluster.ipynb",
   "provenance": [],
   "toc_visible": true
  },
  "kernelspec": {
   "display_name": "Python 3",
   "name": "python3"
  },
  "language_info": {
   "name": "python"
  }
 },
 "nbformat": 4,
 "nbformat_minor": 0
}
